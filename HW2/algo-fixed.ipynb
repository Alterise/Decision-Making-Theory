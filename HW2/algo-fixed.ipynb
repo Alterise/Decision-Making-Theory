{
  "cells": [
    {
      "attachments": {},
      "cell_type": "markdown",
      "metadata": {
        "id": "3CW0SRQbtCcf"
      },
      "source": [
        "# Онлайн алгоритмы в задаче формирования портфеля ценных бумаг"
      ]
    },
    {
      "attachments": {},
      "cell_type": "markdown",
      "metadata": {
        "id": "HZVVtqc3Q8qN"
      },
      "source": [
        "Работа выполнена студентами группы М8О-411Б-19: \\\n",
        "Терешков Алексей \\\n",
        "Мамченков Дмитрий \\\n",
        "Алимов Исмаил"
      ]
    },
    {
      "attachments": {},
      "cell_type": "markdown",
      "metadata": {
        "id": "vcHymHk26wHD"
      },
      "source": [
        "## Постановка задачи\n",
        "\n",
        "В задаче формирования портфеля ценных бумаг допустимыми решениями являются всевозможные распределения состояния, имеющегося у игрока, т.е. элементы стандартного симплекса:\n",
        "\n",
        "$$\n",
        "\\Delta_d = \\left\\{\n",
        "x \\in \\mathbb{R}^d\n",
        ":\\;\n",
        "\\sum_{i = 1}^d x_i = 1,\n",
        "\\;\n",
        "x_i \\geq 0\n",
        "\\right\\}.\n",
        "$$\n",
        "\n",
        "Противник (природа) независимо выбирает рыночную доходность активов,\n",
        "т.е. вектор $r_t \\in \\mathbb{R}_+^d$,\n",
        "у которого $i$-ая компонента определяется формулой\n",
        "\n",
        "$$\n",
        "[r_t]_i = \\frac{\\text{цена единицы $i$-го актива в момент } t + 1}{\\text{цена единицы $i$-го актива в момент } t}.\n",
        "$$\n",
        "\n",
        "*Цель игрока* — максимизировать свое состояние по проишествии $T$ раундов, которая эквивалентна максимизации величины\n",
        "\n",
        "$$\n",
        "\\sum_{t=1}^T \\log r_t^\\top x_t,\n",
        "$$\n",
        "\n",
        "которую будем называть *логарифмическим приростом* портфеля ценных бумаг к моменту времени $T$.\n",
        "\n",
        "Регрет алгоритма $\\mathcal{A}$ к раунду $T$ определяется формулой\n",
        "\n",
        "$$\n",
        "\\mathrm{regret}_T(\\mathcal{A})\n",
        "=\n",
        "\\sum_{t=1}^T f_t(x_t)\n",
        "-\n",
        "\\min_{x \\in \\Delta_d}\n",
        "\\sum_{t = 1}^T f_t(x),\n",
        "$$\n",
        "\n",
        "где $f_t(x) = -\\log r_t^\\top x$."
      ]
    },
    {
      "attachments": {},
      "cell_type": "markdown",
      "metadata": {
        "id": "N_XQKjL_9vIy"
      },
      "source": [
        "В этом задании вам предстоит реализовать алгоритмического инвестора на основе онлайн градиентного спуска, принимающего решения о перераспределении имеющихся средств между акциями российского фондового рынка:\n",
        "- в момент времени $t$ алгоритм должен предложить распределение средств между активами $x_t$;\n",
        "- после этого алгоритму открывается вектор рыночных доходностей $r_t$ из истории наблюдений;\n",
        "- алгоритм должен использовать поступившую информацию для корректировки и принятия решения на следующей итерации."
      ]
    },
    {
      "attachments": {},
      "cell_type": "markdown",
      "metadata": {
        "id": "45oxrUBRwpKv"
      },
      "source": [
        "## Подготовка данных (3 балла)\n",
        "\n",
        "Загрузите котировки (сформируйте набор данных) акций `RASP`, `GAZP`, `DSKY`, `SBER`, `KMAZ`, `RUAL` c 01.04.2020 по 22.04.2022 с интервалом в один день (раунд игры = день). Выведите таблицу (`pd.DataFrame`), в которой столбцы содержат временные ряды для каждого тикера, а их названия — тикеры. **[1 балл]**"
      ]
    },
    {
      "cell_type": "code",
      "execution_count": null,
      "metadata": {
        "id": "Bm1E9FXB-X--"
      },
      "outputs": [],
      "source": [
        "import pandas as pd\n",
        "import numpy as np\n",
        "import random\n",
        "\n",
        "import apimoex\n",
        "import requests\n",
        "\n",
        "import matplotlib.pyplot as plt\n",
        "from numpy.typing import ArrayLike"
      ]
    },
    {
      "cell_type": "code",
      "execution_count": null,
      "metadata": {
        "id": "klpOzquqtBPW"
      },
      "outputs": [],
      "source": [
        "stock_names = ['RASP', 'GAZP', 'DSKY', 'SBER', 'KMAZ', 'RUAL']\n",
        "start_date = '2020-04-01' \n",
        "end_date = '2022-04-22'"
      ]
    },
    {
      "cell_type": "code",
      "execution_count": null,
      "metadata": {
        "id": "Nd8IT9xJPUwj"
      },
      "outputs": [],
      "source": [
        "def load_data(stock_names=stock_names, start=start_date, end=end_date):\n",
        "    df = pd.DataFrame()\n",
        "    with requests.Session() as session:\n",
        "        for stock in stock_names:\n",
        "            data = apimoex.get_board_history(session, stock, start=start, end=end, columns=['CLOSE', 'TRADEDATE'])\n",
        "            df_stock = pd.DataFrame(data)\n",
        "            df_stock.set_index('TRADEDATE', inplace=True)\n",
        "            df[stock] = df_stock\n",
        "    return df\n",
        "\n",
        "\n",
        "def prepare_r(df_stocks):\n",
        "    return (df_stocks.shift(-1) / df_stocks).dropna()"
      ]
    },
    {
      "cell_type": "code",
      "execution_count": null,
      "metadata": {
        "id": "Da_j9PxnPIvt"
      },
      "outputs": [],
      "source": [
        "data = load_data()\n",
        "data_clear = data.dropna()\n",
        "r = prepare_r(data_clear)"
      ]
    },
    {
      "cell_type": "code",
      "execution_count": null,
      "metadata": {
        "colab": {
          "base_uri": "https://localhost:8080/",
          "height": 455
        },
        "id": "E8vDhjsYTdi6",
        "outputId": "e0be2112-3366-4e08-cecc-a70a5d5600c2"
      },
      "outputs": [],
      "source": [
        "data_clear"
      ]
    },
    {
      "attachments": {},
      "cell_type": "markdown",
      "metadata": {
        "id": "AHwhqYTmwh6z"
      },
      "source": [
        "Визуализируйте поведение всех тикеров на всём горизонте игры. **[1 балл]**"
      ]
    },
    {
      "cell_type": "code",
      "execution_count": null,
      "metadata": {
        "colab": {
          "base_uri": "https://localhost:8080/",
          "height": 466
        },
        "id": "VUu77ymjwjTU",
        "outputId": "9cc2ac06-199c-4e98-8d5e-5f5fb5dd8db9"
      },
      "outputs": [],
      "source": [
        "data_clear.plot()"
      ]
    },
    {
      "attachments": {},
      "cell_type": "markdown",
      "metadata": {
        "id": "DIRyitZOwj4t"
      },
      "source": [
        "Постройте таблицу (с тем же заголовком), содержащую по столбцам временные ряды *рыночных доходностей* тикеров. **[1 балл]**\n"
      ]
    },
    {
      "cell_type": "code",
      "execution_count": null,
      "metadata": {
        "colab": {
          "base_uri": "https://localhost:8080/",
          "height": 455
        },
        "id": "cTc1kg7Fwmh2",
        "outputId": "3fa337ed-9c88-48f2-b426-26449125ad70"
      },
      "outputs": [],
      "source": [
        "r"
      ]
    },
    {
      "attachments": {},
      "cell_type": "markdown",
      "metadata": {
        "id": "UK0vc-DFwlGO"
      },
      "source": [
        "## Онлайн градиентный спуск (8 баллов)\n",
        "\n",
        "Приведите выражение для градиента функции $f_t(x)$ и запишите явную формулу для итерации OGD. **[1 балл]**"
      ]
    },
    {
      "attachments": {},
      "cell_type": "markdown",
      "metadata": {
        "id": "wUQnNxo9ygPX"
      },
      "source": [
        "Заменим операцию $ r_t^\\top x_t$ на $ (\\vec{r_t} \\cdot \\vec{x_t})$\n",
        "\n",
        "В таком случае:\n",
        "$$ f_t(x) = -\\log (\\vec{r} \\cdot \\vec{x}) $$\n",
        "\n",
        "$$\\nabla f_t(x) = -\\frac{\\vec{r}} {(\\vec{r} \\cdot \\vec{x})} $$\n",
        "\n",
        "Формула перехода:\n",
        "$$ x_{t+1} = \\Pi_{\\mathcal{D}}(x_t - \\alpha_t\\nabla f_t(x_t)) $$ \n",
        " \n"
      ]
    },
    {
      "attachments": {},
      "cell_type": "markdown",
      "metadata": {
        "id": "9deyae2DzNbF"
      },
      "source": [
        "Реализуйте инвестора, принимающего решение на основе итераций онлайн градиентного спуска. **[4 балла]**\n",
        "\n",
        "Используйте готовую функцию `simplex_projection`, проектирующую входной вектор на стандартный симплекс."
      ]
    },
    {
      "cell_type": "code",
      "execution_count": null,
      "metadata": {
        "id": "xFLdn3fVz8mS"
      },
      "outputs": [],
      "source": [
        "def _unsafe_simplex_projection(s: ArrayLike, norm_constraint: float) -> ArrayLike:\n",
        "    \"\"\"Находит проекцию на симплекс.\"\"\"\n",
        "    u = np.sort(s)[::-1]\n",
        "    cssv = np.cumsum(u)\n",
        "    rho = np.nonzero(u * np.arange(1, len(u) + 1) > (cssv - norm_constraint))[0][-1]\n",
        "    theta = (cssv[rho] - norm_constraint) / (rho + 1.0)\n",
        "    return np.maximum(s - theta, 0)\n",
        "\n",
        "\n",
        "def simplex_projection(s: ArrayLike):\n",
        "    \"\"\"Возвращает проекцию на единичный симплекс.\"\"\"\n",
        "    return s if np.sum(s) == 1 else _unsafe_simplex_projection(s, 1.0)"
      ]
    },
    {
      "cell_type": "code",
      "execution_count": null,
      "metadata": {
        "id": "mNazzS9KwliA"
      },
      "outputs": [],
      "source": [
        "def get_grad(r, x):\n",
        "    return -r / np.dot(r, x)"
      ]
    },
    {
      "cell_type": "code",
      "execution_count": null,
      "metadata": {
        "id": "mNAYNaRiPZzu"
      },
      "outputs": [],
      "source": [
        "def descent_step(this_state, r, alpha, grad_func):\n",
        "    x = this_state\n",
        "    new_x = simplex_projection(x - alpha * grad_func(r, x))\n",
        "    return new_x\n",
        "\n",
        "\n",
        "def descent(begin_state, df_r, grad_func, lr_scheduler=lambda i: 0.1):\n",
        "    x = begin_state\n",
        "\n",
        "    n = df_r.shape[0]\n",
        "\n",
        "    profit = []\n",
        "    vectors = [x]\n",
        "\n",
        "    profit = 1.0\n",
        "    profit_vec = [profit]\n",
        "\n",
        "    for i in range(n):\n",
        "        r = df_r.iloc[i].values  # \"после этого алгоритму открывается вектор рыночных доходностей rt из истории наблюдений\"\n",
        "        alpha = lr_scheduler(i)\n",
        "        profit *= (r * x).sum()\n",
        "        profit_vec.append(profit)\n",
        "        new_x = descent_step(x, r, alpha, grad_func) # \"алгоритм должен использовать поступившую информацию для корректировки и принятия решения на следующей итерации.\"\n",
        "        x = new_x # в момент времени t алгоритм должен предложить распределение средств между активами xt \n",
        "        vectors.append(new_x)\n",
        "\n",
        "    return (vectors, profit_vec)\n",
        "    "
      ]
    },
    {
      "attachments": {},
      "cell_type": "markdown",
      "metadata": {
        "id": "3FvZREF21IQT"
      },
      "source": [
        "### Запуск OGD"
      ]
    },
    {
      "attachments": {},
      "cell_type": "markdown",
      "metadata": {
        "id": "8zMXs9OK1Q_U"
      },
      "source": [
        "Как будете выбирать шаг при запуске OGD? Приведите исчерпывающее объяснение и мотивацию. **[1 балл]**"
      ]
    },
    {
      "attachments": {},
      "cell_type": "markdown",
      "metadata": {
        "id": "Gy03LsCD1j1x"
      },
      "source": [
        "Длину шага выберем ситуативно, но вне зависимости от ситуации оставим его константной, так как ситуация на рынке меняется, а затухающая длина шага будет способствовать застыванию наших ответов, отчего на дистанции будет решать ситуация на рынке, которая была в начале."
      ]
    },
    {
      "attachments": {},
      "cell_type": "markdown",
      "metadata": {
        "id": "kI9iPC5W1w_G"
      },
      "source": [
        "Начиная с равномерного распределения состояния между активами, запустите OGD на всём горизонте игры. Визуализируйте динамику логарифмического прироста портфеля ценных бумаг за весь период для OGD и инвестора, зафиксировавшего своё (произвольное) распределение в начале игры. **[2 балла]**"
      ]
    },
    {
      "attachments": {},
      "cell_type": "markdown",
      "metadata": {
        "id": "Hzq0MwDSSf6b"
      },
      "source": [
        "### Подсчет прибыли для константного инвестора (без корректировки котировок)"
      ]
    },
    {
      "cell_type": "code",
      "execution_count": null,
      "metadata": {
        "id": "DRdzHrFHURfr"
      },
      "outputs": [],
      "source": [
        "begin_x = np.ones(r.shape[1]) * (1/r.shape[1])"
      ]
    },
    {
      "cell_type": "code",
      "execution_count": null,
      "metadata": {
        "id": "EFh5ot1_ShBe"
      },
      "outputs": [],
      "source": [
        "vectors, naive_profit = descent(begin_x, r, get_grad, lr_scheduler=lambda x: 0)"
      ]
    },
    {
      "cell_type": "code",
      "execution_count": null,
      "metadata": {
        "id": "ujOc0depSmvN"
      },
      "outputs": [],
      "source": [
        "profit_to_date = pd.DataFrame(index=data_clear.index, columns=[\"profit\"])\n",
        "profit_to_date['profit'] = naive_profit"
      ]
    },
    {
      "cell_type": "code",
      "execution_count": null,
      "metadata": {
        "colab": {
          "base_uri": "https://localhost:8080/",
          "height": 454
        },
        "id": "1lwgnjy_SnQW",
        "outputId": "23f1ea60-598c-4027-c314-2ad412775409"
      },
      "outputs": [],
      "source": [
        "graph = profit_to_date.plot()\n",
        "graph.set_yscale('log')"
      ]
    },
    {
      "attachments": {},
      "cell_type": "markdown",
      "metadata": {
        "id": "TAoKjXfrU9Se"
      },
      "source": [
        "Прибыльность константного инвестора:"
      ]
    },
    {
      "cell_type": "code",
      "execution_count": null,
      "metadata": {
        "colab": {
          "base_uri": "https://localhost:8080/"
        },
        "id": "dB8vhM6aSoAg",
        "outputId": "0601d7fd-2eb4-441a-82b5-d4027d388e28"
      },
      "outputs": [],
      "source": [
        "profit_to_date['profit'][-1]"
      ]
    },
    {
      "attachments": {},
      "cell_type": "markdown",
      "metadata": {
        "id": "L4ShJsEZShOI"
      },
      "source": [
        "### Подсчет прибыли с использованием алгоритма OGD (с поиском оптимальной константы для длины шага)"
      ]
    },
    {
      "cell_type": "code",
      "execution_count": null,
      "metadata": {
        "id": "-NJt2mp6QPpB"
      },
      "outputs": [],
      "source": [
        "alpha_array = np.logspace(1, 10, 1000, base=5.1) * 0.0001"
      ]
    },
    {
      "cell_type": "code",
      "execution_count": null,
      "metadata": {
        "id": "r0XO2R6uQQo9"
      },
      "outputs": [],
      "source": [
        "max_profit = [0]\n",
        "best_alpha = -1.0\n",
        "\n",
        "for i in alpha_array:\n",
        "    vectors, profit = descent(begin_x, r, get_grad, lr_scheduler=lambda x: i)\n",
        "    if profit[-1] > max_profit[-1]:\n",
        "      max_profit = profit\n",
        "      best_alpha = i"
      ]
    },
    {
      "cell_type": "code",
      "execution_count": null,
      "metadata": {
        "colab": {
          "base_uri": "https://localhost:8080/"
        },
        "id": "-84AihVFQS9V",
        "outputId": "dac7d133-8ced-4a3d-9b75-3ee98885390f"
      },
      "outputs": [],
      "source": [
        "best_alpha"
      ]
    },
    {
      "attachments": {},
      "cell_type": "markdown",
      "metadata": {
        "id": "BoAmKNfGQTOL"
      },
      "source": [
        "Для данного метода лучшей константой alpha оказалась 0.436358"
      ]
    },
    {
      "cell_type": "code",
      "execution_count": null,
      "metadata": {
        "id": "EGMoocZ91KsF"
      },
      "outputs": [],
      "source": [
        "profit_to_date = pd.DataFrame(index=data_clear.index, columns=[\"profit\"])\n",
        "profit_to_date['profit'] = max_profit"
      ]
    },
    {
      "cell_type": "code",
      "execution_count": null,
      "metadata": {
        "colab": {
          "base_uri": "https://localhost:8080/",
          "height": 449
        },
        "id": "r00mRLSDQXQ8",
        "outputId": "d15a56bd-cae2-4fc2-f2ad-f9d79f8ca628"
      },
      "outputs": [],
      "source": [
        "graph = profit_to_date.plot()\n",
        "graph.set_yscale('log')"
      ]
    },
    {
      "attachments": {},
      "cell_type": "markdown",
      "metadata": {
        "id": "iTpcpBzCU4zo"
      },
      "source": [
        "Прибыльность (с использованием OGD):"
      ]
    },
    {
      "cell_type": "code",
      "execution_count": null,
      "metadata": {
        "colab": {
          "base_uri": "https://localhost:8080/"
        },
        "id": "b8yhOZCKQYsV",
        "outputId": "2cef7c07-c97e-41a3-99ac-26ad77dd1b3b"
      },
      "outputs": [],
      "source": [
        "profit_to_date['profit'][-1]"
      ]
    },
    {
      "attachments": {},
      "cell_type": "markdown",
      "metadata": {
        "id": "0O-7Ush65Nk8"
      },
      "source": [
        "## Дополнительное задание (4 балла)\n",
        "\n",
        "Реализуйте любой подходящий канонический онлайн алгоритм из курса или даже их композицию. Визуализируйте динамику логарифмического прироста портфеля ценных бумаг за весь период для OGD и инвестора, принимающего решения на основе выбранного алгоритма. Сравните итоговые распределения, полученные с помощью этих алгоритмов, и попробуйте сделать выводы."
      ]
    },
    {
      "attachments": {},
      "cell_type": "markdown",
      "metadata": {
        "id": "MOS4-EWBXood"
      },
      "source": [
        "### Онлайн метод Ньютона (ONS)\n",
        "\n",
        "Онлайн метод Ньютона устроен следующим образом:\n",
        "\n",
        "На начале пределяются параметры $ \\gamma, \\varepsilon > 0,  $ и создается матрица $\\Alpha = \\varepsilon \\Iota_{d \\times d}$\n",
        "\n",
        "Шаг алгоритма:\n",
        "$$\\Alpha_{t+1} = \\Alpha_{t} + \\nabla f_t(x_t) \\nabla f_t(x_t)^\\top $$\n",
        "$$x_{t+1} = \\Pi_{\\mathcal{D}, A_t}(x_{t} - \\frac{1}{\\gamma} A_t^{-1} \\nabla f_t(x_t) )$$\n",
        ", где $\\Pi_{\\mathcal{D}, A_t}(y)$ - оператор проектирования на множество $ \\mathcal{D}$ \n",
        "$$ \\Pi_{\\mathcal{D}, A_t}(y) = \\arg\\min_{x \\in \\mathcal{D}} \\bigl\\{   \\sqrt{(x-y)^\\top A_t (x-y)} \\bigr \\} $$\n"
      ]
    },
    {
      "cell_type": "code",
      "execution_count": 136,
      "metadata": {},
      "outputs": [],
      "source": [
        "from cvxpy import *\n",
        "\n",
        "def newton_proj(A, y):\n",
        "    x = cvxpy.Variable(A.shape[0])\n",
        "    problem = Problem(\n",
        "        Minimize(quad_form(x, A)),\n",
        "                 [(x - y)>=0, cvxpy.sum(x - y) == 1]\n",
        "                 )\n",
        "    problem.solve()\n",
        "    return x.value - y\n",
        "\n",
        "def newton_step(this_state, r, A, gamma, grad_func):\n",
        "    x = this_state\n",
        "    grad = grad_func(r, x)\n",
        "    exp = x - np.linalg.inv(A) @ grad / gamma\n",
        "    new_x = newton_proj(A, exp)\n",
        "    new_A = A + grad @ grad.T\n",
        "    return new_x, new_A\n",
        "\n",
        "\n",
        "def newton_method(begin_state, df_r, grad_func, eps, gamma):\n",
        "    x = begin_state\n",
        "    A = eps * np.eye(df_r.shape[1], df_r.shape[1])\n",
        "    n = df_r.shape[0]\n",
        "\n",
        "    profit = []\n",
        "    vectors = [x]\n",
        "\n",
        "    profit = 1.0\n",
        "    profit_vec = [profit]\n",
        "\n",
        "    for i in range(n):\n",
        "        r = df_r.iloc[i].values  # \"после этого алгоритму открывается вектор рыночных доходностей rt из истории наблюдений\"\n",
        "        print(r, x, (r * x).sum(), np.dot(r, x))\n",
        "        profit *= (r * x).sum()\n",
        "        profit_vec.append(profit)\n",
        "        # print(grad_func(r, x))\n",
        "        new_x, new_A = newton_step(x, r, A, gamma, grad_func) # \"алгоритм должен использовать поступившую информацию для корректировки и принятия решения на следующей итерации.\"\n",
        "        x = new_x # в момент времени t алгоритм должен предложить распределение средств между активами xt \n",
        "        A = new_A\n",
        "        vectors.append(new_x)\n",
        "\n",
        "    return (vectors, profit_vec)\n"
      ]
    },
    {
      "cell_type": "code",
      "execution_count": null,
      "metadata": {},
      "outputs": [],
      "source": [
        "begin_x = np.ones(r.shape[1]) * (1/r.shape[1])\n",
        "\n",
        "\n",
        "\n",
        "vectors, naive_profit = newton_method(begin_x, r, get_grad, 0.0001, 0.0001)\n",
        "\n",
        "profit_to_date = pd.DataFrame(index=data_clear.index, columns=[\"profit\"])\n",
        "profit_to_date['profit'] = naive_profit\n",
        "\n",
        "graph = profit_to_date.plot()\n",
        "graph.set_yscale('log')\n",
        "\n",
        "profit_to_date['profit'][-1]"
      ]
    },
    {
      "cell_type": "code",
      "execution_count": null,
      "metadata": {},
      "outputs": [],
      "source": [
        "# alpha_array_gamma = np.logspace(1, 10, 5, base=5.1) * 0.0001\n",
        "# alpha_array_eps = np.logspace(1, 10, 5, base=5.1) * 0.0001\n",
        "\n",
        "# max_profit = [0]\n",
        "# best_gamma = -1.0\n",
        "# best_eps = -1.0\n",
        "\n",
        "\n",
        "# for gamma in alpha_array_gamma:\n",
        "#     for eps in alpha_array_eps:\n",
        "#       print(gamma, eps)\n",
        "#       vectors, profit = newton_method(begin_x, r, get_grad, eps, gamma)\n",
        "#       if profit[-1] > max_profit[-1]:\n",
        "#         max_profit = profit\n",
        "#         best_gamma = gamma\n",
        "#         best_eps = eps"
      ]
    },
    {
      "cell_type": "code",
      "execution_count": null,
      "metadata": {},
      "outputs": [],
      "source": [
        "max_profit"
      ]
    },
    {
      "cell_type": "code",
      "execution_count": null,
      "metadata": {},
      "outputs": [],
      "source": []
    },
    {
      "cell_type": "code",
      "execution_count": null,
      "metadata": {},
      "outputs": [],
      "source": []
    },
    {
      "cell_type": "code",
      "execution_count": null,
      "metadata": {},
      "outputs": [],
      "source": []
    },
    {
      "attachments": {},
      "cell_type": "markdown",
      "metadata": {
        "id": "omFE-M82QxSW"
      },
      "source": [
        "# Вывод: \n",
        "\n",
        "Наивный алгоритм (если взять равномерно все активы и не пересобирать портфель) выдает прибыльность 1.7. Алгоритм OGD выдает прибыльность 2.14.\n",
        "\n",
        "Алгоритм OGD приносит прибыли не сильно выше роста рынка, однако ситуация на рынке не предсказывается очевидным образом, и даже такой результат - уже отлично.\n",
        "\n"
      ]
    }
  ],
  "metadata": {
    "colab": {
      "provenance": []
    },
    "kernelspec": {
      "display_name": "Python 3",
      "name": "python3"
    },
    "language_info": {
      "codemirror_mode": {
        "name": "ipython",
        "version": 3
      },
      "file_extension": ".py",
      "mimetype": "text/x-python",
      "name": "python",
      "nbconvert_exporter": "python",
      "pygments_lexer": "ipython3",
      "version": "3.10.6"
    }
  },
  "nbformat": 4,
  "nbformat_minor": 0
}
