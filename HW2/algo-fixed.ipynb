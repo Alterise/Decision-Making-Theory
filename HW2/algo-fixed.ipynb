{
  "nbformat": 4,
  "nbformat_minor": 0,
  "metadata": {
    "colab": {
      "provenance": []
    },
    "kernelspec": {
      "name": "python3",
      "display_name": "Python 3"
    },
    "language_info": {
      "name": "python"
    }
  },
  "cells": [
    {
      "cell_type": "markdown",
      "source": [
        "# Онлайн алгоритмы в задаче формирования портфеля ценных бумаг"
      ],
      "metadata": {
        "id": "3CW0SRQbtCcf"
      }
    },
    {
      "cell_type": "markdown",
      "source": [
        "Работа выполнена студентами группы М8О-411Б-19: \\\n",
        "Терешков Алексей \\\n",
        "Мамченков Дмитрий \\\n",
        "Алимов Исмаил"
      ],
      "metadata": {
        "id": "HZVVtqc3Q8qN"
      }
    },
    {
      "cell_type": "markdown",
      "source": [
        "## Постановка задачи\n",
        "\n",
        "В задаче формирования портфеля ценных бумаг допустимыми решениями являются всевозможные распределения состояния, имеющегося у игрока, т.е. элементы стандартного симплекса:\n",
        "\n",
        "$$\n",
        "\\Delta_d = \\left\\{\n",
        "x \\in \\mathbb{R}^d\n",
        ":\\;\n",
        "\\sum_{i = 1}^d x_i = 1,\n",
        "\\;\n",
        "x_i \\geq 0\n",
        "\\right\\}.\n",
        "$$\n",
        "\n",
        "Противник (природа) независимо выбирает рыночную доходность активов,\n",
        "т.е. вектор $r_t \\in \\mathbb{R}_+^d$,\n",
        "у которого $i$-ая компонента определяется формулой\n",
        "\n",
        "$$\n",
        "[r_t]_i = \\frac{\\text{цена единицы $i$-го актива в момент } t + 1}{\\text{цена единицы $i$-го актива в момент } t}.\n",
        "$$\n",
        "\n",
        "*Цель игрока* — максимизировать свое состояние по проишествии $T$ раундов, которая эквивалентна максимизации величины\n",
        "\n",
        "$$\n",
        "\\sum_{t=1}^T \\log r_t^\\top x_t,\n",
        "$$\n",
        "\n",
        "которую будем называть *логарифмическим приростом* портфеля ценных бумаг к моменту времени $T$.\n",
        "\n",
        "Регрет алгоритма $\\mathcal{A}$ к раунду $T$ определяется формулой\n",
        "\n",
        "$$\n",
        "\\mathrm{regret}_T(\\mathcal{A})\n",
        "=\n",
        "\\sum_{t=1}^T f_t(x_t)\n",
        "-\n",
        "\\min_{x \\in \\Delta_d}\n",
        "\\sum_{t = 1}^T f_t(x),\n",
        "$$\n",
        "\n",
        "где $f_t(x) = -\\log r_t^\\top x$."
      ],
      "metadata": {
        "id": "vcHymHk26wHD"
      }
    },
    {
      "cell_type": "markdown",
      "source": [
        "В этом задании вам предстоит реализовать алгоритмического инвестора на основе онлайн градиентного спуска, принимающего решения о перераспределении имеющихся средств между акциями российского фондового рынка:\n",
        "- в момент времени $t$ алгоритм должен предложить распределение средств между активами $x_t$;\n",
        "- после этого алгоритму открывается вектор рыночных доходностей $r_t$ из истории наблюдений;\n",
        "- алгоритм должен использовать поступившую информацию для корректировки и принятия решения на следующей итерации."
      ],
      "metadata": {
        "id": "N_XQKjL_9vIy"
      }
    },
    {
      "cell_type": "markdown",
      "source": [
        "## Подготовка данных (3 балла)\n",
        "\n",
        "Загрузите котировки (сформируйте набор данных) акций `RASP`, `GAZP`, `DSKY`, `SBER`, `KMAZ`, `RUAL` c 01.04.2020 по 22.04.2022 с интервалом в один день (раунд игры = день). Выведите таблицу (`pd.DataFrame`), в которой столбцы содержат временные ряды для каждого тикера, а их названия — тикеры. **[1 балл]**"
      ],
      "metadata": {
        "id": "45oxrUBRwpKv"
      }
    },
    {
      "cell_type": "code",
      "source": [
        "import pandas as pd\n",
        "import numpy as np\n",
        "import random\n",
        "\n",
        "import apimoex\n",
        "import requests\n",
        "\n",
        "import matplotlib.pyplot as plt\n",
        "from numpy.typing import ArrayLike"
      ],
      "metadata": {
        "id": "Bm1E9FXB-X--"
      },
      "execution_count": 10,
      "outputs": []
    },
    {
      "cell_type": "code",
      "execution_count": 11,
      "metadata": {
        "id": "klpOzquqtBPW"
      },
      "outputs": [],
      "source": [
        "stock_names = ['RASP', 'GAZP', 'DSKY', 'SBER', 'KMAZ', 'RUAL']\n",
        "start_date = '2020-04-01' \n",
        "end_date = '2022-04-22'"
      ]
    },
    {
      "cell_type": "code",
      "source": [
        "def load_data(stock_names=stock_names, start=start_date, end=end_date):\n",
        "    df = pd.DataFrame()\n",
        "    with requests.Session() as session:\n",
        "        for stock in stock_names:\n",
        "            data = apimoex.get_board_history(session, stock, start=start, end=end, columns=['CLOSE', 'TRADEDATE'])\n",
        "            df_stock = pd.DataFrame(data)\n",
        "            df_stock.set_index('TRADEDATE', inplace=True)\n",
        "            df[stock] = df_stock\n",
        "    return df\n",
        "\n",
        "\n",
        "def prepare_r(df_stocks):\n",
        "    return (df_stocks.shift(-1) / df_stocks).dropna()"
      ],
      "metadata": {
        "id": "Nd8IT9xJPUwj"
      },
      "execution_count": 12,
      "outputs": []
    },
    {
      "cell_type": "code",
      "source": [
        "data = load_data()\n",
        "data_clear = data.dropna()\n",
        "r = prepare_r(data_clear)"
      ],
      "metadata": {
        "id": "Da_j9PxnPIvt"
      },
      "execution_count": 13,
      "outputs": []
    },
    {
      "cell_type": "code",
      "source": [
        "data_clear.head()"
      ],
      "metadata": {
        "id": "kv5cY5MLPKKP",
        "outputId": "2926ca8c-432a-4089-a1f3-b8e42a563a1d",
        "colab": {
          "base_uri": "https://localhost:8080/",
          "height": 238
        }
      },
      "execution_count": 14,
      "outputs": [
        {
          "output_type": "execute_result",
          "data": {
            "text/plain": [
              "              RASP    GAZP   DSKY    SBER  KMAZ    RUAL\n",
              "TRADEDATE                                              \n",
              "2020-04-01   97.76  180.06  90.12  184.78  51.0  24.755\n",
              "2020-04-02   99.40  187.04  90.62  186.95  50.9  24.955\n",
              "2020-04-03   99.10  189.77  94.42  185.64  53.6  24.830\n",
              "2020-04-06  100.92  191.10  97.80  190.70  54.4  25.755\n",
              "2020-04-07   98.98  191.22  98.12  197.63  54.8  26.050"
            ],
            "text/html": [
              "<div>\n",
              "<style scoped>\n",
              "    .dataframe tbody tr th:only-of-type {\n",
              "        vertical-align: middle;\n",
              "    }\n",
              "\n",
              "    .dataframe tbody tr th {\n",
              "        vertical-align: top;\n",
              "    }\n",
              "\n",
              "    .dataframe thead th {\n",
              "        text-align: right;\n",
              "    }\n",
              "</style>\n",
              "<table border=\"1\" class=\"dataframe\">\n",
              "  <thead>\n",
              "    <tr style=\"text-align: right;\">\n",
              "      <th></th>\n",
              "      <th>RASP</th>\n",
              "      <th>GAZP</th>\n",
              "      <th>DSKY</th>\n",
              "      <th>SBER</th>\n",
              "      <th>KMAZ</th>\n",
              "      <th>RUAL</th>\n",
              "    </tr>\n",
              "    <tr>\n",
              "      <th>TRADEDATE</th>\n",
              "      <th></th>\n",
              "      <th></th>\n",
              "      <th></th>\n",
              "      <th></th>\n",
              "      <th></th>\n",
              "      <th></th>\n",
              "    </tr>\n",
              "  </thead>\n",
              "  <tbody>\n",
              "    <tr>\n",
              "      <th>2020-04-01</th>\n",
              "      <td>97.76</td>\n",
              "      <td>180.06</td>\n",
              "      <td>90.12</td>\n",
              "      <td>184.78</td>\n",
              "      <td>51.0</td>\n",
              "      <td>24.755</td>\n",
              "    </tr>\n",
              "    <tr>\n",
              "      <th>2020-04-02</th>\n",
              "      <td>99.40</td>\n",
              "      <td>187.04</td>\n",
              "      <td>90.62</td>\n",
              "      <td>186.95</td>\n",
              "      <td>50.9</td>\n",
              "      <td>24.955</td>\n",
              "    </tr>\n",
              "    <tr>\n",
              "      <th>2020-04-03</th>\n",
              "      <td>99.10</td>\n",
              "      <td>189.77</td>\n",
              "      <td>94.42</td>\n",
              "      <td>185.64</td>\n",
              "      <td>53.6</td>\n",
              "      <td>24.830</td>\n",
              "    </tr>\n",
              "    <tr>\n",
              "      <th>2020-04-06</th>\n",
              "      <td>100.92</td>\n",
              "      <td>191.10</td>\n",
              "      <td>97.80</td>\n",
              "      <td>190.70</td>\n",
              "      <td>54.4</td>\n",
              "      <td>25.755</td>\n",
              "    </tr>\n",
              "    <tr>\n",
              "      <th>2020-04-07</th>\n",
              "      <td>98.98</td>\n",
              "      <td>191.22</td>\n",
              "      <td>98.12</td>\n",
              "      <td>197.63</td>\n",
              "      <td>54.8</td>\n",
              "      <td>26.050</td>\n",
              "    </tr>\n",
              "  </tbody>\n",
              "</table>\n",
              "</div>"
            ]
          },
          "metadata": {},
          "execution_count": 14
        }
      ]
    },
    {
      "cell_type": "code",
      "source": [
        "r.head()"
      ],
      "metadata": {
        "id": "MGpoDdVOPK9t",
        "outputId": "9dbb5c68-72eb-4e61-cbeb-b203a4622e33",
        "colab": {
          "base_uri": "https://localhost:8080/",
          "height": 238
        }
      },
      "execution_count": 15,
      "outputs": [
        {
          "output_type": "execute_result",
          "data": {
            "text/plain": [
              "                RASP      GAZP      DSKY      SBER      KMAZ      RUAL\n",
              "TRADEDATE                                                             \n",
              "2020-04-01  1.016776  1.038765  1.005548  1.011744  0.998039  1.008079\n",
              "2020-04-02  0.996982  1.014596  1.041933  0.992993  1.053045  0.994991\n",
              "2020-04-03  1.018365  1.007008  1.035798  1.027257  1.014925  1.037253\n",
              "2020-04-06  0.980777  1.000628  1.003272  1.036340  1.007353  1.011454\n",
              "2020-04-07  1.017175  1.015113  1.019160  1.013459  0.979927  0.988484"
            ],
            "text/html": [
              "<div>\n",
              "<style scoped>\n",
              "    .dataframe tbody tr th:only-of-type {\n",
              "        vertical-align: middle;\n",
              "    }\n",
              "\n",
              "    .dataframe tbody tr th {\n",
              "        vertical-align: top;\n",
              "    }\n",
              "\n",
              "    .dataframe thead th {\n",
              "        text-align: right;\n",
              "    }\n",
              "</style>\n",
              "<table border=\"1\" class=\"dataframe\">\n",
              "  <thead>\n",
              "    <tr style=\"text-align: right;\">\n",
              "      <th></th>\n",
              "      <th>RASP</th>\n",
              "      <th>GAZP</th>\n",
              "      <th>DSKY</th>\n",
              "      <th>SBER</th>\n",
              "      <th>KMAZ</th>\n",
              "      <th>RUAL</th>\n",
              "    </tr>\n",
              "    <tr>\n",
              "      <th>TRADEDATE</th>\n",
              "      <th></th>\n",
              "      <th></th>\n",
              "      <th></th>\n",
              "      <th></th>\n",
              "      <th></th>\n",
              "      <th></th>\n",
              "    </tr>\n",
              "  </thead>\n",
              "  <tbody>\n",
              "    <tr>\n",
              "      <th>2020-04-01</th>\n",
              "      <td>1.016776</td>\n",
              "      <td>1.038765</td>\n",
              "      <td>1.005548</td>\n",
              "      <td>1.011744</td>\n",
              "      <td>0.998039</td>\n",
              "      <td>1.008079</td>\n",
              "    </tr>\n",
              "    <tr>\n",
              "      <th>2020-04-02</th>\n",
              "      <td>0.996982</td>\n",
              "      <td>1.014596</td>\n",
              "      <td>1.041933</td>\n",
              "      <td>0.992993</td>\n",
              "      <td>1.053045</td>\n",
              "      <td>0.994991</td>\n",
              "    </tr>\n",
              "    <tr>\n",
              "      <th>2020-04-03</th>\n",
              "      <td>1.018365</td>\n",
              "      <td>1.007008</td>\n",
              "      <td>1.035798</td>\n",
              "      <td>1.027257</td>\n",
              "      <td>1.014925</td>\n",
              "      <td>1.037253</td>\n",
              "    </tr>\n",
              "    <tr>\n",
              "      <th>2020-04-06</th>\n",
              "      <td>0.980777</td>\n",
              "      <td>1.000628</td>\n",
              "      <td>1.003272</td>\n",
              "      <td>1.036340</td>\n",
              "      <td>1.007353</td>\n",
              "      <td>1.011454</td>\n",
              "    </tr>\n",
              "    <tr>\n",
              "      <th>2020-04-07</th>\n",
              "      <td>1.017175</td>\n",
              "      <td>1.015113</td>\n",
              "      <td>1.019160</td>\n",
              "      <td>1.013459</td>\n",
              "      <td>0.979927</td>\n",
              "      <td>0.988484</td>\n",
              "    </tr>\n",
              "  </tbody>\n",
              "</table>\n",
              "</div>"
            ]
          },
          "metadata": {},
          "execution_count": 15
        }
      ]
    },
    {
      "cell_type": "markdown",
      "source": [
        "Визуализируйте поведение всех тикеров на всём горизонте игры. **[1 балл]**"
      ],
      "metadata": {
        "id": "AHwhqYTmwh6z"
      }
    },
    {
      "cell_type": "code",
      "source": [
        "data_clear.plot()"
      ],
      "metadata": {
        "id": "VUu77ymjwjTU",
        "outputId": "9cc2ac06-199c-4e98-8d5e-5f5fb5dd8db9",
        "colab": {
          "base_uri": "https://localhost:8080/",
          "height": 466
        }
      },
      "execution_count": 16,
      "outputs": [
        {
          "output_type": "execute_result",
          "data": {
            "text/plain": [
              "<AxesSubplot: xlabel='TRADEDATE'>"
            ]
          },
          "metadata": {},
          "execution_count": 16
        },
        {
          "output_type": "display_data",
          "data": {
            "text/plain": [
              "<Figure size 640x480 with 1 Axes>"
            ],
            "image/png": "[encoded data removed]"
          },
          "metadata": {}
        }
      ]
    },
    {
      "cell_type": "markdown",
      "source": [
        "Постройте таблицу (с тем же заголовком), содержащую по столбцам временные ряды *рыночных доходностей* тикеров. **[1 балл]**\n"
      ],
      "metadata": {
        "id": "DIRyitZOwj4t"
      }
    },
    {
      "cell_type": "code",
      "source": [
        "data_clear"
      ],
      "metadata": {
        "id": "cTc1kg7Fwmh2",
        "outputId": "c688a87e-a7c5-4e99-ff57-dde5e7f2b206",
        "colab": {
          "base_uri": "https://localhost:8080/",
          "height": 455
        }
      },
      "execution_count": 17,
      "outputs": [
        {
          "output_type": "execute_result",
          "data": {
            "text/plain": [
              "              RASP    GAZP   DSKY    SBER   KMAZ    RUAL\n",
              "TRADEDATE                                               \n",
              "2020-04-01   97.76  180.06  90.12  184.78   51.0  24.755\n",
              "2020-04-02   99.40  187.04  90.62  186.95   50.9  24.955\n",
              "2020-04-03   99.10  189.77  94.42  185.64   53.6  24.830\n",
              "2020-04-06  100.92  191.10  97.80  190.70   54.4  25.755\n",
              "2020-04-07   98.98  191.22  98.12  197.63   54.8  26.050\n",
              "...            ...     ...    ...     ...    ...     ...\n",
              "2022-04-18  403.15  216.99  75.60  123.85  100.1  64.605\n",
              "2022-04-19  391.15  220.72  75.20  120.30   99.5  63.200\n",
              "2022-04-20  392.00  218.92  75.98  121.50   99.1  63.200\n",
              "2022-04-21  394.00  210.29  75.18  118.65  103.6  64.605\n",
              "2022-04-22  400.20  208.00  74.00  116.97  103.6  64.895\n",
              "\n",
              "[499 rows x 6 columns]"
            ],
            "text/html": [
              "<div>\n",
              "<style scoped>\n",
              "    .dataframe tbody tr th:only-of-type {\n",
              "        vertical-align: middle;\n",
              "    }\n",
              "\n",
              "    .dataframe tbody tr th {\n",
              "        vertical-align: top;\n",
              "    }\n",
              "\n",
              "    .dataframe thead th {\n",
              "        text-align: right;\n",
              "    }\n",
              "</style>\n",
              "<table border=\"1\" class=\"dataframe\">\n",
              "  <thead>\n",
              "    <tr style=\"text-align: right;\">\n",
              "      <th></th>\n",
              "      <th>RASP</th>\n",
              "      <th>GAZP</th>\n",
              "      <th>DSKY</th>\n",
              "      <th>SBER</th>\n",
              "      <th>KMAZ</th>\n",
              "      <th>RUAL</th>\n",
              "    </tr>\n",
              "    <tr>\n",
              "      <th>TRADEDATE</th>\n",
              "      <th></th>\n",
              "      <th></th>\n",
              "      <th></th>\n",
              "      <th></th>\n",
              "      <th></th>\n",
              "      <th></th>\n",
              "    </tr>\n",
              "  </thead>\n",
              "  <tbody>\n",
              "    <tr>\n",
              "      <th>2020-04-01</th>\n",
              "      <td>97.76</td>\n",
              "      <td>180.06</td>\n",
              "      <td>90.12</td>\n",
              "      <td>184.78</td>\n",
              "      <td>51.0</td>\n",
              "      <td>24.755</td>\n",
              "    </tr>\n",
              "    <tr>\n",
              "      <th>2020-04-02</th>\n",
              "      <td>99.40</td>\n",
              "      <td>187.04</td>\n",
              "      <td>90.62</td>\n",
              "      <td>186.95</td>\n",
              "      <td>50.9</td>\n",
              "      <td>24.955</td>\n",
              "    </tr>\n",
              "    <tr>\n",
              "      <th>2020-04-03</th>\n",
              "      <td>99.10</td>\n",
              "      <td>189.77</td>\n",
              "      <td>94.42</td>\n",
              "      <td>185.64</td>\n",
              "      <td>53.6</td>\n",
              "      <td>24.830</td>\n",
              "    </tr>\n",
              "    <tr>\n",
              "      <th>2020-04-06</th>\n",
              "      <td>100.92</td>\n",
              "      <td>191.10</td>\n",
              "      <td>97.80</td>\n",
              "      <td>190.70</td>\n",
              "      <td>54.4</td>\n",
              "      <td>25.755</td>\n",
              "    </tr>\n",
              "    <tr>\n",
              "      <th>2020-04-07</th>\n",
              "      <td>98.98</td>\n",
              "      <td>191.22</td>\n",
              "      <td>98.12</td>\n",
              "      <td>197.63</td>\n",
              "      <td>54.8</td>\n",
              "      <td>26.050</td>\n",
              "    </tr>\n",
              "    <tr>\n",
              "      <th>...</th>\n",
              "      <td>...</td>\n",
              "      <td>...</td>\n",
              "      <td>...</td>\n",
              "      <td>...</td>\n",
              "      <td>...</td>\n",
              "      <td>...</td>\n",
              "    </tr>\n",
              "    <tr>\n",
              "      <th>2022-04-18</th>\n",
              "      <td>403.15</td>\n",
              "      <td>216.99</td>\n",
              "      <td>75.60</td>\n",
              "      <td>123.85</td>\n",
              "      <td>100.1</td>\n",
              "      <td>64.605</td>\n",
              "    </tr>\n",
              "    <tr>\n",
              "      <th>2022-04-19</th>\n",
              "      <td>391.15</td>\n",
              "      <td>220.72</td>\n",
              "      <td>75.20</td>\n",
              "      <td>120.30</td>\n",
              "      <td>99.5</td>\n",
              "      <td>63.200</td>\n",
              "    </tr>\n",
              "    <tr>\n",
              "      <th>2022-04-20</th>\n",
              "      <td>392.00</td>\n",
              "      <td>218.92</td>\n",
              "      <td>75.98</td>\n",
              "      <td>121.50</td>\n",
              "      <td>99.1</td>\n",
              "      <td>63.200</td>\n",
              "    </tr>\n",
              "    <tr>\n",
              "      <th>2022-04-21</th>\n",
              "      <td>394.00</td>\n",
              "      <td>210.29</td>\n",
              "      <td>75.18</td>\n",
              "      <td>118.65</td>\n",
              "      <td>103.6</td>\n",
              "      <td>64.605</td>\n",
              "    </tr>\n",
              "    <tr>\n",
              "      <th>2022-04-22</th>\n",
              "      <td>400.20</td>\n",
              "      <td>208.00</td>\n",
              "      <td>74.00</td>\n",
              "      <td>116.97</td>\n",
              "      <td>103.6</td>\n",
              "      <td>64.895</td>\n",
              "    </tr>\n",
              "  </tbody>\n",
              "</table>\n",
              "<p>499 rows × 6 columns</p>\n",
              "</div>"
            ]
          },
          "metadata": {},
          "execution_count": 17
        }
      ]
    },
    {
      "cell_type": "markdown",
      "source": [
        "## Онлайн градиентный спуск (8 баллов)\n",
        "\n",
        "Приведите выражение для градиента функции $f_t(x)$ и запишите явную формулу для итерации OGD. **[1 балл]**"
      ],
      "metadata": {
        "id": "UK0vc-DFwlGO"
      }
    },
    {
      "cell_type": "markdown",
      "source": [
        "Заменим операцию $ r_t^\\top x_t$ на $ (\\vec{r_t} \\cdot \\vec{x_t})$\n",
        "\n",
        "В таком случае:\n",
        "$$ f_t(x) = -\\log (\\vec{r} \\cdot \\vec{x}) $$\n",
        "\n",
        "$$\\nabla f_t(x) = -\\frac{\\vec{r}} {(\\vec{r} \\cdot \\vec{x})} $$\n",
        "\n",
        "Формула перехода:\n",
        "$$ x_{t+1} = \\Pi_{\\mathcal{D}}(x_t - \\alpha_t\\nabla f_t(x_t)) $$ \n",
        " \n"
      ],
      "metadata": {
        "id": "wUQnNxo9ygPX"
      }
    },
    {
      "cell_type": "markdown",
      "source": [
        "Реализуйте инвестора, принимающего решение на основе итераций онлайн градиентного спуска. **[4 балла]**\n",
        "\n",
        "Используйте готовую функцию `simplex_projection`, проектирующую входной вектор на стандартный симплекс."
      ],
      "metadata": {
        "id": "9deyae2DzNbF"
      }
    },
    {
      "cell_type": "code",
      "source": [
        "def _unsafe_simplex_projection(s: ArrayLike, norm_constraint: float) -> ArrayLike:\n",
        "    \"\"\"Находит проекцию на симплекс.\"\"\"\n",
        "    u = np.sort(s)[::-1]\n",
        "    cssv = np.cumsum(u)\n",
        "    rho = np.nonzero(u * np.arange(1, len(u) + 1) > (cssv - norm_constraint))[0][-1]\n",
        "    theta = (cssv[rho] - norm_constraint) / (rho + 1.0)\n",
        "    return np.maximum(s - theta, 0)\n",
        "\n",
        "\n",
        "def simplex_projection(s: ArrayLike):\n",
        "    \"\"\"Возвращает проекцию на единичный симплекс.\"\"\"\n",
        "    return s if np.sum(s) == 1 else _unsafe_simplex_projection(s, 1.0)"
      ],
      "metadata": {
        "id": "xFLdn3fVz8mS"
      },
      "execution_count": 18,
      "outputs": []
    },
    {
      "cell_type": "code",
      "source": [
        "def get_grad(r, x):\n",
        "    return -r / np.dot(r, x)"
      ],
      "metadata": {
        "id": "mNazzS9KwliA"
      },
      "execution_count": 19,
      "outputs": []
    },
    {
      "cell_type": "code",
      "source": [
        "def descent_step(this_state, r, alpha, grad_func):\n",
        "    x = this_state\n",
        "    new_x = simplex_projection(x - alpha * grad_func(r, x))\n",
        "    return new_x\n",
        "\n",
        "\n",
        "def descent(begin_state, df_r, grad_func, lr_scheduler=lambda i: 0.1):\n",
        "    x = begin_state\n",
        "\n",
        "    n = df_r.shape[0]\n",
        "\n",
        "    profit = []\n",
        "    vectors = [x]\n",
        "\n",
        "    profit = 1.0\n",
        "    profit_vec = [profit]\n",
        "\n",
        "    for i in range(n):\n",
        "        r = df_r.iloc[i].values  # \"после этого алгоритму открывается вектор рыночных доходностей rt из истории наблюдений\"\n",
        "        alpha = lr_scheduler(i)\n",
        "        profit *= (r * x).sum()\n",
        "        profit_vec.append(profit)\n",
        "        new_x = descent_step(x, r, alpha, grad_func) # \"алгоритм должен использовать поступившую информацию для корректировки и принятия решения на следующей итерации.\"\n",
        "        x = new_x # в момент времени t алгоритм должен предложить распределение средств между активами xt \n",
        "        vectors.append(new_x)\n",
        "\n",
        "    return (vectors, profit_vec)\n",
        "    "
      ],
      "metadata": {
        "id": "mNAYNaRiPZzu"
      },
      "execution_count": 20,
      "outputs": []
    },
    {
      "cell_type": "markdown",
      "source": [
        "### Запуск OGD"
      ],
      "metadata": {
        "id": "3FvZREF21IQT"
      }
    },
    {
      "cell_type": "markdown",
      "source": [
        "Как будете выбирать шаг при запуске OGD? Приведите исчерпывающее объяснение и мотивацию. **[1 балл]**"
      ],
      "metadata": {
        "id": "8zMXs9OK1Q_U"
      }
    },
    {
      "cell_type": "markdown",
      "source": [
        "Выбор длины шага\n",
        "\n",
        "Длину шага выберем ситуативно, но вне зависимости от ситуации оставим его константной, так как ситуация на рынке меняется, а затухающая длина шага будет способствовать застыванию наших ответов, отчего на дистанции будет решать ситуация на рынке, которая была в начале."
      ],
      "metadata": {
        "id": "Gy03LsCD1j1x"
      }
    },
    {
      "cell_type": "markdown",
      "source": [
        "Начиная с равномерного распределения состояния между активами, запустите OGD на всём горизонте игры. Визуализируйте динамику логарифмического прироста портфеля ценных бумаг за весь период для OGD и инвестора, зафиксировавшего своё (произвольное) распределение в начале игры. **[2 балла]**"
      ],
      "metadata": {
        "id": "kI9iPC5W1w_G"
      }
    },
    {
      "cell_type": "code",
      "source": [
        "alpha_array = np.logspace(1, 10, 1000, base=5.1) * 0.0001"
      ],
      "metadata": {
        "id": "-NJt2mp6QPpB"
      },
      "execution_count": 21,
      "outputs": []
    },
    {
      "cell_type": "code",
      "source": [
        "max_profit = [0]\n",
        "best_alpha = -1.0\n",
        "\n",
        "for i in alpha_array:\n",
        "    vectors, profit = descent(np.ones(r.shape[1]) * (1/r.shape[1]) , r, get_grad, lr_scheduler=lambda x: i)\n",
        "    if profit[-1] > max_profit[-1]:\n",
        "      max_profit = profit\n",
        "      best_alpha = i"
      ],
      "metadata": {
        "id": "r0XO2R6uQQo9"
      },
      "execution_count": 22,
      "outputs": []
    },
    {
      "cell_type": "code",
      "source": [
        "best_alpha"
      ],
      "metadata": {
        "id": "-84AihVFQS9V",
        "outputId": "757d1950-3750-4d66-850d-59aa22f1b103",
        "colab": {
          "base_uri": "https://localhost:8080/"
        }
      },
      "execution_count": 23,
      "outputs": [
        {
          "output_type": "execute_result",
          "data": {
            "text/plain": [
              "0.43635803556937275"
            ]
          },
          "metadata": {},
          "execution_count": 23
        }
      ]
    },
    {
      "cell_type": "markdown",
      "source": [
        "Для данного метода лучшей константой alpha оказалась 0.436358"
      ],
      "metadata": {
        "id": "BoAmKNfGQTOL"
      }
    },
    {
      "cell_type": "code",
      "source": [
        "profit_to_date = pd.DataFrame(index=data_clear.index, columns=[\"profit\"])\n",
        "profit_to_date['profit'] = max_profit"
      ],
      "metadata": {
        "id": "EGMoocZ91KsF"
      },
      "execution_count": 24,
      "outputs": []
    },
    {
      "cell_type": "code",
      "source": [
        "graph = profit_to_date.plot()\n",
        "graph.set_yscale('log')"
      ],
      "metadata": {
        "id": "r00mRLSDQXQ8",
        "outputId": "a9de9224-c6b8-467f-ebb6-962eb8c99735",
        "colab": {
          "base_uri": "https://localhost:8080/",
          "height": 449
        }
      },
      "execution_count": 25,
      "outputs": [
        {
          "output_type": "display_data",
          "data": {
            "text/plain": [
              "<Figure size 640x480 with 1 Axes>"
            ],
            "image/png": "[encoded data removed]"
          },
          "metadata": {}
        }
      ]
    },
    {
      "cell_type": "code",
      "source": [
        "#final profit\n",
        "profit_to_date['profit'][-1]"
      ],
      "metadata": {
        "id": "b8yhOZCKQYsV",
        "outputId": "7f7252f2-6d87-47fb-d0a4-5492ae6f47a8",
        "colab": {
          "base_uri": "https://localhost:8080/"
        }
      },
      "execution_count": 26,
      "outputs": [
        {
          "output_type": "execute_result",
          "data": {
            "text/plain": [
              "2.1356268078260854"
            ]
          },
          "metadata": {},
          "execution_count": 26
        }
      ]
    },
    {
      "cell_type": "markdown",
      "source": [
        "## Дополнительное задание (4 балла)\n",
        "\n",
        "Реализуйте любой подходящий канонический онлайн алгоритм из курса или даже их композицию. Визуализируйте динамику логарифмического прироста портфеля ценных бумаг за весь период для OGD и инвестора, принимающего решения на основе выбранного алгоритма. Сравните итоговые распределения, полученные с помощью этих алгоритмов, и попробуйте сделать выводы."
      ],
      "metadata": {
        "id": "0O-7Ush65Nk8"
      }
    },
    {
      "cell_type": "code",
      "source": [
        "def get_sgrad(r, x):\n",
        "    rdot = np.dot(r, x)\n",
        "    rand_value = random.randint(0, 5)\n",
        "    new_r = np.array([0 for i in range(6)])\n",
        "    new_r[rand_value] = r[rand_value]\n",
        "    return -new_r / rdot"
      ],
      "metadata": {
        "id": "PXM-2m2C5i1t"
      },
      "execution_count": 27,
      "outputs": []
    },
    {
      "cell_type": "code",
      "source": [
        "vectors, profit = descent(np.ones(r.shape[1]) * (1/r.shape[1]) , r, get_sgrad, lr_scheduler=lambda x: 0.5)"
      ],
      "metadata": {
        "id": "EOOKAY2JQbkB"
      },
      "execution_count": 44,
      "outputs": []
    },
    {
      "cell_type": "code",
      "source": [
        "profit_to_date = pd.DataFrame(index=data_clear.index, columns=[\"profit\"])\n",
        "profit_to_date['profit'] = profit"
      ],
      "metadata": {
        "id": "H01_wESdQgKn"
      },
      "execution_count": 45,
      "outputs": []
    },
    {
      "cell_type": "code",
      "source": [
        "graph = profit_to_date.plot()\n",
        "graph.set_yscale('log')\n",
        "graph"
      ],
      "metadata": {
        "id": "515sjra8QhaK",
        "outputId": "0a72dd25-e24c-44fa-f205-bacd5b77bac8",
        "colab": {
          "base_uri": "https://localhost:8080/",
          "height": 471
        }
      },
      "execution_count": 46,
      "outputs": [
        {
          "output_type": "execute_result",
          "data": {
            "text/plain": [
              "<AxesSubplot: xlabel='TRADEDATE'>"
            ]
          },
          "metadata": {},
          "execution_count": 46
        },
        {
          "output_type": "display_data",
          "data": {
            "text/plain": [
              "<Figure size 640x480 with 1 Axes>"
            ],
            "image/png": "[encoded data removed]"
          },
          "metadata": {}
        }
      ]
    },
    {
      "cell_type": "code",
      "source": [
        "#final profit\n",
        "profit_to_date['profit'][-1]"
      ],
      "metadata": {
        "id": "P_lB36uKQipg",
        "outputId": "592bc252-bff8-4a39-8063-b227d9498605",
        "colab": {
          "base_uri": "https://localhost:8080/"
        }
      },
      "execution_count": 47,
      "outputs": [
        {
          "output_type": "execute_result",
          "data": {
            "text/plain": [
              "1.8316396002353397"
            ]
          },
          "metadata": {},
          "execution_count": 47
        }
      ]
    },
    {
      "cell_type": "code",
      "source": [
        "profit_list = []\n",
        "for i in range(1000):\n",
        "    vectors, profit = descent(np.ones(r.shape[1]) * (1/r.shape[1]) , r, get_sgrad, lr_scheduler=lambda x: 0.5)\n",
        "    profit_list.append(profit[-1])"
      ],
      "metadata": {
        "id": "CxxlTBXjQjea"
      },
      "execution_count": 32,
      "outputs": []
    },
    {
      "cell_type": "code",
      "source": [
        "osgd_average_profit = np.average(profit_list)\n",
        "\n",
        "osgd_max_profit = np.max(profit_list)\n",
        "osgd_min_profit = np.min(profit_list)"
      ],
      "metadata": {
        "id": "-wnUDeY_Qkw8"
      },
      "execution_count": 33,
      "outputs": []
    },
    {
      "cell_type": "code",
      "source": [
        "osgd_average_profit / max_profit[-1]"
      ],
      "metadata": {
        "id": "9Az73PMkQlbf",
        "outputId": "34946d28-7ee3-4dca-a5f5-df2f9410bdf3",
        "colab": {
          "base_uri": "https://localhost:8080/"
        }
      },
      "execution_count": 34,
      "outputs": [
        {
          "output_type": "execute_result",
          "data": {
            "text/plain": [
              "0.7219149365674529"
            ]
          },
          "metadata": {},
          "execution_count": 34
        }
      ]
    },
    {
      "cell_type": "code",
      "source": [
        "osgd_max_profit / max_profit[-1]"
      ],
      "metadata": {
        "id": "u7DpvNk8Ql9r",
        "outputId": "0eb846fd-4d8a-4e71-d8fe-0c79529a41e3",
        "colab": {
          "base_uri": "https://localhost:8080/"
        }
      },
      "execution_count": 35,
      "outputs": [
        {
          "output_type": "execute_result",
          "data": {
            "text/plain": [
              "1.7198595909573509"
            ]
          },
          "metadata": {},
          "execution_count": 35
        }
      ]
    },
    {
      "cell_type": "code",
      "source": [
        "osgd_min_profit / max_profit[-1]"
      ],
      "metadata": {
        "id": "mPg6pzkPQmjm",
        "outputId": "afb43c4f-5afc-4db3-cff2-1b0b9ddf8234",
        "colab": {
          "base_uri": "https://localhost:8080/"
        }
      },
      "execution_count": 36,
      "outputs": [
        {
          "output_type": "execute_result",
          "data": {
            "text/plain": [
              "0.2886515705765898"
            ]
          },
          "metadata": {},
          "execution_count": 36
        }
      ]
    },
    {
      "cell_type": "code",
      "source": [
        "max_profit[-1]"
      ],
      "metadata": {
        "id": "Wp4Tp1DIQni_",
        "outputId": "fa2ee227-d4af-4a83-e09a-491db9119a39",
        "colab": {
          "base_uri": "https://localhost:8080/"
        }
      },
      "execution_count": 37,
      "outputs": [
        {
          "output_type": "execute_result",
          "data": {
            "text/plain": [
              "2.1356268078260854"
            ]
          },
          "metadata": {},
          "execution_count": 37
        }
      ]
    },
    {
      "cell_type": "code",
      "source": [
        "vectors, naive_profit = descent(np.ones(r.shape[1]) * (1/r.shape[1]) , r, get_grad, lr_scheduler=lambda x: 0)"
      ],
      "metadata": {
        "id": "Mc3lJGXgQus3"
      },
      "execution_count": 38,
      "outputs": []
    },
    {
      "cell_type": "code",
      "source": [
        "naive_profit[-1]"
      ],
      "metadata": {
        "id": "zyvO16kMQvrl",
        "outputId": "23335793-4eb2-4f94-b8a1-1ccca9ea5f9c",
        "colab": {
          "base_uri": "https://localhost:8080/"
        }
      },
      "execution_count": 39,
      "outputs": [
        {
          "output_type": "execute_result",
          "data": {
            "text/plain": [
              "1.7014992521179437"
            ]
          },
          "metadata": {},
          "execution_count": 39
        }
      ]
    },
    {
      "cell_type": "markdown",
      "source": [
        "Вывод: \n",
        "\n",
        "Наивный алгоритм (если взять равномерно все активы и не пересобирать портфель) выдает прибыльность 1.7. Алгоритм OGD выдает прибыльность 2.14.\n",
        "\n",
        "Алгоритм OSGD в среднем слабее, чем алгоритм OGD, однако в некоторых случайных случаях он может выдать результат больший в ~1.4 раз. \n",
        "\n",
        "Алгоритм OGD приносит прибыли не сильно выше роста рынка, однако ситуация на рынке не предсказывается очевидным образом, и даже такой результат - уже отлично.\n",
        "\n",
        "Алгоритм OSGD лучше не использовать, в среднем он менее выгоден, чем OGD."
      ],
      "metadata": {
        "id": "omFE-M82QxSW"
      }
    }
  ]
}