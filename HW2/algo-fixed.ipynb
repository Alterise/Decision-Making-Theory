{
  "cells": [
    {
      "attachments": {},
      "cell_type": "markdown",
      "metadata": {
        "id": "3CW0SRQbtCcf"
      },
      "source": [
        "# Онлайн алгоритмы в задаче формирования портфеля ценных бумаг"
      ]
    },
    {
      "attachments": {},
      "cell_type": "markdown",
      "metadata": {
        "id": "HZVVtqc3Q8qN"
      },
      "source": [
        "Работа выполнена студентами группы М8О-411Б-19: \\\n",
        "Терешков Алексей \\\n",
        "Мамченков Дмитрий \\\n",
        "Алимов Исмаил"
      ]
    },
    {
      "attachments": {},
      "cell_type": "markdown",
      "metadata": {
        "id": "vcHymHk26wHD"
      },
      "source": [
        "## Постановка задачи\n",
        "\n",
        "В задаче формирования портфеля ценных бумаг допустимыми решениями являются всевозможные распределения состояния, имеющегося у игрока, т.е. элементы стандартного симплекса:\n",
        "\n",
        "$$\n",
        "\\Delta_d = \\left\\{\n",
        "x \\in \\mathbb{R}^d\n",
        ":\\;\n",
        "\\sum_{i = 1}^d x_i = 1,\n",
        "\\;\n",
        "x_i \\geq 0\n",
        "\\right\\}.\n",
        "$$\n",
        "\n",
        "Противник (природа) независимо выбирает рыночную доходность активов,\n",
        "т.е. вектор $r_t \\in \\mathbb{R}_+^d$,\n",
        "у которого $i$-ая компонента определяется формулой\n",
        "\n",
        "$$\n",
        "[r_t]_i = \\frac{\\text{цена единицы $i$-го актива в момент } t + 1}{\\text{цена единицы $i$-го актива в момент } t}.\n",
        "$$\n",
        "\n",
        "*Цель игрока* — максимизировать свое состояние по проишествии $T$ раундов, которая эквивалентна максимизации величины\n",
        "\n",
        "$$\n",
        "\\sum_{t=1}^T \\log r_t^\\top x_t,\n",
        "$$\n",
        "\n",
        "которую будем называть *логарифмическим приростом* портфеля ценных бумаг к моменту времени $T$.\n",
        "\n",
        "Регрет алгоритма $\\mathcal{A}$ к раунду $T$ определяется формулой\n",
        "\n",
        "$$\n",
        "\\mathrm{regret}_T(\\mathcal{A})\n",
        "=\n",
        "\\sum_{t=1}^T f_t(x_t)\n",
        "-\n",
        "\\min_{x \\in \\Delta_d}\n",
        "\\sum_{t = 1}^T f_t(x),\n",
        "$$\n",
        "\n",
        "где $f_t(x) = -\\log r_t^\\top x$."
      ]
    },
    {
      "attachments": {},
      "cell_type": "markdown",
      "metadata": {
        "id": "N_XQKjL_9vIy"
      },
      "source": [
        "В этом задании вам предстоит реализовать алгоритмического инвестора на основе онлайн градиентного спуска, принимающего решения о перераспределении имеющихся средств между акциями российского фондового рынка:\n",
        "- в момент времени $t$ алгоритм должен предложить распределение средств между активами $x_t$;\n",
        "- после этого алгоритму открывается вектор рыночных доходностей $r_t$ из истории наблюдений;\n",
        "- алгоритм должен использовать поступившую информацию для корректировки и принятия решения на следующей итерации."
      ]
    },
    {
      "attachments": {},
      "cell_type": "markdown",
      "metadata": {
        "id": "45oxrUBRwpKv"
      },
      "source": [
        "## Подготовка данных (3 балла)\n",
        "\n",
        "Загрузите котировки (сформируйте набор данных) акций `RASP`, `GAZP`, `DSKY`, `SBER`, `KMAZ`, `RUAL` c 01.04.2020 по 22.04.2022 с интервалом в один день (раунд игры = день). Выведите таблицу (`pd.DataFrame`), в которой столбцы содержат временные ряды для каждого тикера, а их названия — тикеры. **[1 балл]**"
      ]
    },
    {
      "cell_type": "code",
      "execution_count": 65,
      "metadata": {
        "id": "Bm1E9FXB-X--"
      },
      "outputs": [],
      "source": [
        "import pandas as pd\n",
        "import numpy as np\n",
        "import random\n",
        "\n",
        "import apimoex\n",
        "import requests\n",
        "\n",
        "import matplotlib.pyplot as plt\n",
        "from numpy.typing import ArrayLike"
      ]
    },
    {
      "cell_type": "code",
      "execution_count": 66,
      "metadata": {
        "id": "klpOzquqtBPW"
      },
      "outputs": [],
      "source": [
        "stock_names = ['RASP', 'GAZP', 'DSKY', 'SBER', 'KMAZ', 'RUAL']\n",
        "start_date = '2020-04-01' \n",
        "end_date = '2022-04-22'"
      ]
    },
    {
      "cell_type": "code",
      "execution_count": 67,
      "metadata": {
        "id": "Nd8IT9xJPUwj"
      },
      "outputs": [],
      "source": [
        "def load_data(stock_names=stock_names, start=start_date, end=end_date):\n",
        "    df = pd.DataFrame()\n",
        "    with requests.Session() as session:\n",
        "        for stock in stock_names:\n",
        "            data = apimoex.get_board_history(session, stock, start=start, end=end, columns=['CLOSE', 'TRADEDATE'])\n",
        "            df_stock = pd.DataFrame(data)\n",
        "            df_stock.set_index('TRADEDATE', inplace=True)\n",
        "            df[stock] = df_stock\n",
        "    return df\n",
        "\n",
        "\n",
        "def prepare_r(df_stocks):\n",
        "    return (df_stocks.shift(-1) / df_stocks).dropna()"
      ]
    },
    {
      "cell_type": "code",
      "execution_count": 68,
      "metadata": {
        "id": "Da_j9PxnPIvt"
      },
      "outputs": [],
      "source": [
        "data = load_data()\n",
        "data_clear = data.dropna()\n",
        "r = prepare_r(data_clear)"
      ]
    },
    {
      "cell_type": "code",
      "execution_count": 69,
      "metadata": {
        "colab": {
          "base_uri": "https://localhost:8080/",
          "height": 455
        },
        "id": "E8vDhjsYTdi6",
        "outputId": "e0be2112-3366-4e08-cecc-a70a5d5600c2"
      },
      "outputs": [
        {
          "data": {
            "text/html": [
              "<div>\n",
              "<style scoped>\n",
              "    .dataframe tbody tr th:only-of-type {\n",
              "        vertical-align: middle;\n",
              "    }\n",
              "\n",
              "    .dataframe tbody tr th {\n",
              "        vertical-align: top;\n",
              "    }\n",
              "\n",
              "    .dataframe thead th {\n",
              "        text-align: right;\n",
              "    }\n",
              "</style>\n",
              "<table border=\"1\" class=\"dataframe\">\n",
              "  <thead>\n",
              "    <tr style=\"text-align: right;\">\n",
              "      <th></th>\n",
              "      <th>RASP</th>\n",
              "      <th>GAZP</th>\n",
              "      <th>DSKY</th>\n",
              "      <th>SBER</th>\n",
              "      <th>KMAZ</th>\n",
              "      <th>RUAL</th>\n",
              "    </tr>\n",
              "    <tr>\n",
              "      <th>TRADEDATE</th>\n",
              "      <th></th>\n",
              "      <th></th>\n",
              "      <th></th>\n",
              "      <th></th>\n",
              "      <th></th>\n",
              "      <th></th>\n",
              "    </tr>\n",
              "  </thead>\n",
              "  <tbody>\n",
              "    <tr>\n",
              "      <th>2020-04-01</th>\n",
              "      <td>97.76</td>\n",
              "      <td>180.06</td>\n",
              "      <td>90.12</td>\n",
              "      <td>184.78</td>\n",
              "      <td>51.0</td>\n",
              "      <td>24.755</td>\n",
              "    </tr>\n",
              "    <tr>\n",
              "      <th>2020-04-02</th>\n",
              "      <td>99.40</td>\n",
              "      <td>187.04</td>\n",
              "      <td>90.62</td>\n",
              "      <td>186.95</td>\n",
              "      <td>50.9</td>\n",
              "      <td>24.955</td>\n",
              "    </tr>\n",
              "    <tr>\n",
              "      <th>2020-04-03</th>\n",
              "      <td>99.10</td>\n",
              "      <td>189.77</td>\n",
              "      <td>94.42</td>\n",
              "      <td>185.64</td>\n",
              "      <td>53.6</td>\n",
              "      <td>24.830</td>\n",
              "    </tr>\n",
              "    <tr>\n",
              "      <th>2020-04-06</th>\n",
              "      <td>100.92</td>\n",
              "      <td>191.10</td>\n",
              "      <td>97.80</td>\n",
              "      <td>190.70</td>\n",
              "      <td>54.4</td>\n",
              "      <td>25.755</td>\n",
              "    </tr>\n",
              "    <tr>\n",
              "      <th>2020-04-07</th>\n",
              "      <td>98.98</td>\n",
              "      <td>191.22</td>\n",
              "      <td>98.12</td>\n",
              "      <td>197.63</td>\n",
              "      <td>54.8</td>\n",
              "      <td>26.050</td>\n",
              "    </tr>\n",
              "    <tr>\n",
              "      <th>...</th>\n",
              "      <td>...</td>\n",
              "      <td>...</td>\n",
              "      <td>...</td>\n",
              "      <td>...</td>\n",
              "      <td>...</td>\n",
              "      <td>...</td>\n",
              "    </tr>\n",
              "    <tr>\n",
              "      <th>2022-04-18</th>\n",
              "      <td>403.15</td>\n",
              "      <td>216.99</td>\n",
              "      <td>75.60</td>\n",
              "      <td>123.85</td>\n",
              "      <td>100.1</td>\n",
              "      <td>64.605</td>\n",
              "    </tr>\n",
              "    <tr>\n",
              "      <th>2022-04-19</th>\n",
              "      <td>391.15</td>\n",
              "      <td>220.72</td>\n",
              "      <td>75.20</td>\n",
              "      <td>120.30</td>\n",
              "      <td>99.5</td>\n",
              "      <td>63.200</td>\n",
              "    </tr>\n",
              "    <tr>\n",
              "      <th>2022-04-20</th>\n",
              "      <td>392.00</td>\n",
              "      <td>218.92</td>\n",
              "      <td>75.98</td>\n",
              "      <td>121.50</td>\n",
              "      <td>99.1</td>\n",
              "      <td>63.200</td>\n",
              "    </tr>\n",
              "    <tr>\n",
              "      <th>2022-04-21</th>\n",
              "      <td>394.00</td>\n",
              "      <td>210.29</td>\n",
              "      <td>75.18</td>\n",
              "      <td>118.65</td>\n",
              "      <td>103.6</td>\n",
              "      <td>64.605</td>\n",
              "    </tr>\n",
              "    <tr>\n",
              "      <th>2022-04-22</th>\n",
              "      <td>400.20</td>\n",
              "      <td>208.00</td>\n",
              "      <td>74.00</td>\n",
              "      <td>116.97</td>\n",
              "      <td>103.6</td>\n",
              "      <td>64.895</td>\n",
              "    </tr>\n",
              "  </tbody>\n",
              "</table>\n",
              "<p>499 rows × 6 columns</p>\n",
              "</div>"
            ],
            "text/plain": [
              "              RASP    GAZP   DSKY    SBER   KMAZ    RUAL\n",
              "TRADEDATE                                               \n",
              "2020-04-01   97.76  180.06  90.12  184.78   51.0  24.755\n",
              "2020-04-02   99.40  187.04  90.62  186.95   50.9  24.955\n",
              "2020-04-03   99.10  189.77  94.42  185.64   53.6  24.830\n",
              "2020-04-06  100.92  191.10  97.80  190.70   54.4  25.755\n",
              "2020-04-07   98.98  191.22  98.12  197.63   54.8  26.050\n",
              "...            ...     ...    ...     ...    ...     ...\n",
              "2022-04-18  403.15  216.99  75.60  123.85  100.1  64.605\n",
              "2022-04-19  391.15  220.72  75.20  120.30   99.5  63.200\n",
              "2022-04-20  392.00  218.92  75.98  121.50   99.1  63.200\n",
              "2022-04-21  394.00  210.29  75.18  118.65  103.6  64.605\n",
              "2022-04-22  400.20  208.00  74.00  116.97  103.6  64.895\n",
              "\n",
              "[499 rows x 6 columns]"
            ]
          },
          "execution_count": 69,
          "metadata": {},
          "output_type": "execute_result"
        }
      ],
      "source": [
        "data_clear"
      ]
    },
    {
      "attachments": {},
      "cell_type": "markdown",
      "metadata": {
        "id": "AHwhqYTmwh6z"
      },
      "source": [
        "Визуализируйте поведение всех тикеров на всём горизонте игры. **[1 балл]**"
      ]
    },
    {
      "cell_type": "code",
      "execution_count": 70,
      "metadata": {
        "colab": {
          "base_uri": "https://localhost:8080/",
          "height": 466
        },
        "id": "VUu77ymjwjTU",
        "outputId": "9cc2ac06-199c-4e98-8d5e-5f5fb5dd8db9"
      },
      "outputs": [
        {
          "data": {
            "text/plain": [
              "<AxesSubplot: xlabel='TRADEDATE'>"
            ]
          },
          "execution_count": 70,
          "metadata": {},
          "output_type": "execute_result"
        },
        {
          "data": {
            "image/png": "[encoded data removed]",
            "text/plain": [
              "<Figure size 640x480 with 1 Axes>"
            ]
          },
          "metadata": {},
          "output_type": "display_data"
        }
      ],
      "source": [
        "data_clear.plot()"
      ]
    },
    {
      "attachments": {},
      "cell_type": "markdown",
      "metadata": {
        "id": "DIRyitZOwj4t"
      },
      "source": [
        "Постройте таблицу (с тем же заголовком), содержащую по столбцам временные ряды *рыночных доходностей* тикеров. **[1 балл]**\n"
      ]
    },
    {
      "cell_type": "code",
      "execution_count": 71,
      "metadata": {
        "colab": {
          "base_uri": "https://localhost:8080/",
          "height": 455
        },
        "id": "cTc1kg7Fwmh2",
        "outputId": "3fa337ed-9c88-48f2-b426-26449125ad70"
      },
      "outputs": [
        {
          "data": {
            "text/html": [
              "<div>\n",
              "<style scoped>\n",
              "    .dataframe tbody tr th:only-of-type {\n",
              "        vertical-align: middle;\n",
              "    }\n",
              "\n",
              "    .dataframe tbody tr th {\n",
              "        vertical-align: top;\n",
              "    }\n",
              "\n",
              "    .dataframe thead th {\n",
              "        text-align: right;\n",
              "    }\n",
              "</style>\n",
              "<table border=\"1\" class=\"dataframe\">\n",
              "  <thead>\n",
              "    <tr style=\"text-align: right;\">\n",
              "      <th></th>\n",
              "      <th>RASP</th>\n",
              "      <th>GAZP</th>\n",
              "      <th>DSKY</th>\n",
              "      <th>SBER</th>\n",
              "      <th>KMAZ</th>\n",
              "      <th>RUAL</th>\n",
              "    </tr>\n",
              "    <tr>\n",
              "      <th>TRADEDATE</th>\n",
              "      <th></th>\n",
              "      <th></th>\n",
              "      <th></th>\n",
              "      <th></th>\n",
              "      <th></th>\n",
              "      <th></th>\n",
              "    </tr>\n",
              "  </thead>\n",
              "  <tbody>\n",
              "    <tr>\n",
              "      <th>2020-04-01</th>\n",
              "      <td>1.016776</td>\n",
              "      <td>1.038765</td>\n",
              "      <td>1.005548</td>\n",
              "      <td>1.011744</td>\n",
              "      <td>0.998039</td>\n",
              "      <td>1.008079</td>\n",
              "    </tr>\n",
              "    <tr>\n",
              "      <th>2020-04-02</th>\n",
              "      <td>0.996982</td>\n",
              "      <td>1.014596</td>\n",
              "      <td>1.041933</td>\n",
              "      <td>0.992993</td>\n",
              "      <td>1.053045</td>\n",
              "      <td>0.994991</td>\n",
              "    </tr>\n",
              "    <tr>\n",
              "      <th>2020-04-03</th>\n",
              "      <td>1.018365</td>\n",
              "      <td>1.007008</td>\n",
              "      <td>1.035798</td>\n",
              "      <td>1.027257</td>\n",
              "      <td>1.014925</td>\n",
              "      <td>1.037253</td>\n",
              "    </tr>\n",
              "    <tr>\n",
              "      <th>2020-04-06</th>\n",
              "      <td>0.980777</td>\n",
              "      <td>1.000628</td>\n",
              "      <td>1.003272</td>\n",
              "      <td>1.036340</td>\n",
              "      <td>1.007353</td>\n",
              "      <td>1.011454</td>\n",
              "    </tr>\n",
              "    <tr>\n",
              "      <th>2020-04-07</th>\n",
              "      <td>1.017175</td>\n",
              "      <td>1.015113</td>\n",
              "      <td>1.019160</td>\n",
              "      <td>1.013459</td>\n",
              "      <td>0.979927</td>\n",
              "      <td>0.988484</td>\n",
              "    </tr>\n",
              "    <tr>\n",
              "      <th>...</th>\n",
              "      <td>...</td>\n",
              "      <td>...</td>\n",
              "      <td>...</td>\n",
              "      <td>...</td>\n",
              "      <td>...</td>\n",
              "      <td>...</td>\n",
              "    </tr>\n",
              "    <tr>\n",
              "      <th>2022-04-15</th>\n",
              "      <td>1.011415</td>\n",
              "      <td>0.968705</td>\n",
              "      <td>0.972723</td>\n",
              "      <td>0.946287</td>\n",
              "      <td>1.000000</td>\n",
              "      <td>0.967865</td>\n",
              "    </tr>\n",
              "    <tr>\n",
              "      <th>2022-04-18</th>\n",
              "      <td>0.970234</td>\n",
              "      <td>1.017190</td>\n",
              "      <td>0.994709</td>\n",
              "      <td>0.971336</td>\n",
              "      <td>0.994006</td>\n",
              "      <td>0.978252</td>\n",
              "    </tr>\n",
              "    <tr>\n",
              "      <th>2022-04-19</th>\n",
              "      <td>1.002173</td>\n",
              "      <td>0.991845</td>\n",
              "      <td>1.010372</td>\n",
              "      <td>1.009975</td>\n",
              "      <td>0.995980</td>\n",
              "      <td>1.000000</td>\n",
              "    </tr>\n",
              "    <tr>\n",
              "      <th>2022-04-20</th>\n",
              "      <td>1.005102</td>\n",
              "      <td>0.960579</td>\n",
              "      <td>0.989471</td>\n",
              "      <td>0.976543</td>\n",
              "      <td>1.045409</td>\n",
              "      <td>1.022231</td>\n",
              "    </tr>\n",
              "    <tr>\n",
              "      <th>2022-04-21</th>\n",
              "      <td>1.015736</td>\n",
              "      <td>0.989110</td>\n",
              "      <td>0.984304</td>\n",
              "      <td>0.985841</td>\n",
              "      <td>1.000000</td>\n",
              "      <td>1.004489</td>\n",
              "    </tr>\n",
              "  </tbody>\n",
              "</table>\n",
              "<p>498 rows × 6 columns</p>\n",
              "</div>"
            ],
            "text/plain": [
              "                RASP      GAZP      DSKY      SBER      KMAZ      RUAL\n",
              "TRADEDATE                                                             \n",
              "2020-04-01  1.016776  1.038765  1.005548  1.011744  0.998039  1.008079\n",
              "2020-04-02  0.996982  1.014596  1.041933  0.992993  1.053045  0.994991\n",
              "2020-04-03  1.018365  1.007008  1.035798  1.027257  1.014925  1.037253\n",
              "2020-04-06  0.980777  1.000628  1.003272  1.036340  1.007353  1.011454\n",
              "2020-04-07  1.017175  1.015113  1.019160  1.013459  0.979927  0.988484\n",
              "...              ...       ...       ...       ...       ...       ...\n",
              "2022-04-15  1.011415  0.968705  0.972723  0.946287  1.000000  0.967865\n",
              "2022-04-18  0.970234  1.017190  0.994709  0.971336  0.994006  0.978252\n",
              "2022-04-19  1.002173  0.991845  1.010372  1.009975  0.995980  1.000000\n",
              "2022-04-20  1.005102  0.960579  0.989471  0.976543  1.045409  1.022231\n",
              "2022-04-21  1.015736  0.989110  0.984304  0.985841  1.000000  1.004489\n",
              "\n",
              "[498 rows x 6 columns]"
            ]
          },
          "execution_count": 71,
          "metadata": {},
          "output_type": "execute_result"
        }
      ],
      "source": [
        "r"
      ]
    },
    {
      "attachments": {},
      "cell_type": "markdown",
      "metadata": {
        "id": "UK0vc-DFwlGO"
      },
      "source": [
        "## Онлайн градиентный спуск (8 баллов)\n",
        "\n",
        "Приведите выражение для градиента функции $f_t(x)$ и запишите явную формулу для итерации OGD. **[1 балл]**"
      ]
    },
    {
      "attachments": {},
      "cell_type": "markdown",
      "metadata": {
        "id": "wUQnNxo9ygPX"
      },
      "source": [
        "Заменим операцию $ r_t^\\top x_t$ на $ (\\vec{r_t} \\cdot \\vec{x_t})$\n",
        "\n",
        "В таком случае:\n",
        "$$ f_t(x) = -\\log (\\vec{r} \\cdot \\vec{x}) $$\n",
        "\n",
        "$$\\nabla f_t(x) = -\\frac{\\vec{r}} {(\\vec{r} \\cdot \\vec{x})} $$\n",
        "\n",
        "Формула перехода:\n",
        "$$ x_{t+1} = \\Pi_{\\mathcal{D}}(x_t - \\alpha_t\\nabla f_t(x_t)) $$ \n",
        " \n"
      ]
    },
    {
      "attachments": {},
      "cell_type": "markdown",
      "metadata": {
        "id": "9deyae2DzNbF"
      },
      "source": [
        "Реализуйте инвестора, принимающего решение на основе итераций онлайн градиентного спуска. **[4 балла]**\n",
        "\n",
        "Используйте готовую функцию `simplex_projection`, проектирующую входной вектор на стандартный симплекс."
      ]
    },
    {
      "cell_type": "code",
      "execution_count": 72,
      "metadata": {
        "id": "xFLdn3fVz8mS"
      },
      "outputs": [],
      "source": [
        "def _unsafe_simplex_projection(s: ArrayLike, norm_constraint: float) -> ArrayLike:\n",
        "    \"\"\"Находит проекцию на симплекс.\"\"\"\n",
        "    u = np.sort(s)[::-1]\n",
        "    cssv = np.cumsum(u)\n",
        "    rho = np.nonzero(u * np.arange(1, len(u) + 1) > (cssv - norm_constraint))[0][-1]\n",
        "    theta = (cssv[rho] - norm_constraint) / (rho + 1.0)\n",
        "    return np.maximum(s - theta, 0)\n",
        "\n",
        "\n",
        "def simplex_projection(s: ArrayLike):\n",
        "    \"\"\"Возвращает проекцию на единичный симплекс.\"\"\"\n",
        "    return s if np.sum(s) == 1 else _unsafe_simplex_projection(s, 1.0)"
      ]
    },
    {
      "cell_type": "code",
      "execution_count": 73,
      "metadata": {
        "id": "mNazzS9KwliA"
      },
      "outputs": [],
      "source": [
        "def get_grad(r, x):\n",
        "    return -r / np.dot(r, x)"
      ]
    },
    {
      "cell_type": "code",
      "execution_count": 74,
      "metadata": {
        "id": "mNAYNaRiPZzu"
      },
      "outputs": [],
      "source": [
        "def descent_step(this_state, r, alpha, grad_func):\n",
        "    x = this_state\n",
        "    new_x = simplex_projection(x - alpha * grad_func(r, x))\n",
        "    return new_x\n",
        "\n",
        "\n",
        "def descent(begin_state, df_r, grad_func, lr_scheduler=lambda i: 0.1):\n",
        "    x = begin_state\n",
        "\n",
        "    n = df_r.shape[0]\n",
        "\n",
        "    profit = []\n",
        "    vectors = [x]\n",
        "\n",
        "    profit = 1.0\n",
        "    profit_vec = [profit]\n",
        "\n",
        "    for i in range(n):\n",
        "        r = df_r.iloc[i].values  # \"после этого алгоритму открывается вектор рыночных доходностей rt из истории наблюдений\"\n",
        "        alpha = lr_scheduler(i)\n",
        "        profit *= (r * x).sum()\n",
        "        profit_vec.append(profit)\n",
        "        new_x = descent_step(x, r, alpha, grad_func) # \"алгоритм должен использовать поступившую информацию для корректировки и принятия решения на следующей итерации.\"\n",
        "        x = new_x # в момент времени t алгоритм должен предложить распределение средств между активами xt \n",
        "        vectors.append(new_x)\n",
        "\n",
        "    return (vectors, profit_vec)\n",
        "    "
      ]
    },
    {
      "attachments": {},
      "cell_type": "markdown",
      "metadata": {
        "id": "3FvZREF21IQT"
      },
      "source": [
        "### Запуск OGD"
      ]
    },
    {
      "attachments": {},
      "cell_type": "markdown",
      "metadata": {
        "id": "8zMXs9OK1Q_U"
      },
      "source": [
        "Как будете выбирать шаг при запуске OGD? Приведите исчерпывающее объяснение и мотивацию. **[1 балл]**"
      ]
    },
    {
      "attachments": {},
      "cell_type": "markdown",
      "metadata": {
        "id": "Gy03LsCD1j1x"
      },
      "source": [
        "Длину шага выберем ситуативно, но вне зависимости от ситуации оставим его константной, так как ситуация на рынке меняется, а затухающая длина шага будет способствовать застыванию наших ответов, отчего на дистанции будет решать ситуация на рынке, которая была в начале."
      ]
    },
    {
      "attachments": {},
      "cell_type": "markdown",
      "metadata": {
        "id": "kI9iPC5W1w_G"
      },
      "source": [
        "Начиная с равномерного распределения состояния между активами, запустите OGD на всём горизонте игры. Визуализируйте динамику логарифмического прироста портфеля ценных бумаг за весь период для OGD и инвестора, зафиксировавшего своё (произвольное) распределение в начале игры. **[2 балла]**"
      ]
    },
    {
      "attachments": {},
      "cell_type": "markdown",
      "metadata": {
        "id": "Hzq0MwDSSf6b"
      },
      "source": [
        "### Подсчет прибыли для константного инвестора (без корректировки котировок)"
      ]
    },
    {
      "cell_type": "code",
      "execution_count": 75,
      "metadata": {
        "id": "DRdzHrFHURfr"
      },
      "outputs": [],
      "source": [
        "begin_x = np.ones(r.shape[1]) * (1/r.shape[1])"
      ]
    },
    {
      "cell_type": "code",
      "execution_count": 76,
      "metadata": {
        "id": "EFh5ot1_ShBe"
      },
      "outputs": [],
      "source": [
        "vectors, naive_profit = descent(begin_x, r, get_grad, lr_scheduler=lambda x: 0)"
      ]
    },
    {
      "cell_type": "code",
      "execution_count": 77,
      "metadata": {
        "id": "ujOc0depSmvN"
      },
      "outputs": [],
      "source": [
        "profit_to_date = pd.DataFrame(index=data_clear.index, columns=[\"profit\"])\n",
        "profit_to_date['profit'] = naive_profit"
      ]
    },
    {
      "cell_type": "code",
      "execution_count": 78,
      "metadata": {
        "colab": {
          "base_uri": "https://localhost:8080/",
          "height": 454
        },
        "id": "1lwgnjy_SnQW",
        "outputId": "23f1ea60-598c-4027-c314-2ad412775409"
      },
      "outputs": [
        {
          "data": {
            "image/png": "[encoded data removed]",
            "text/plain": [
              "<Figure size 640x480 with 1 Axes>"
            ]
          },
          "metadata": {},
          "output_type": "display_data"
        }
      ],
      "source": [
        "graph = profit_to_date.plot()\n",
        "graph.set_yscale('log')"
      ]
    },
    {
      "attachments": {},
      "cell_type": "markdown",
      "metadata": {
        "id": "TAoKjXfrU9Se"
      },
      "source": [
        "Прибыльность константного инвестора:"
      ]
    },
    {
      "cell_type": "code",
      "execution_count": 79,
      "metadata": {
        "colab": {
          "base_uri": "https://localhost:8080/"
        },
        "id": "dB8vhM6aSoAg",
        "outputId": "0601d7fd-2eb4-441a-82b5-d4027d388e28"
      },
      "outputs": [
        {
          "data": {
            "text/plain": [
              "1.7014992521179437"
            ]
          },
          "execution_count": 79,
          "metadata": {},
          "output_type": "execute_result"
        }
      ],
      "source": [
        "profit_to_date['profit'][-1]"
      ]
    },
    {
      "attachments": {},
      "cell_type": "markdown",
      "metadata": {
        "id": "L4ShJsEZShOI"
      },
      "source": [
        "### Подсчет прибыли с использованием алгоритма OGD (с поиском оптимальной константы для длины шага)"
      ]
    },
    {
      "cell_type": "code",
      "execution_count": 80,
      "metadata": {
        "id": "-NJt2mp6QPpB"
      },
      "outputs": [],
      "source": [
        "alpha_array = np.logspace(1, 10, 1000, base=5.1) * 0.0001"
      ]
    },
    {
      "cell_type": "code",
      "execution_count": 81,
      "metadata": {
        "id": "r0XO2R6uQQo9"
      },
      "outputs": [],
      "source": [
        "max_profit = [0]\n",
        "best_alpha = -1.0\n",
        "\n",
        "for i in alpha_array:\n",
        "    vectors, profit = descent(begin_x, r, get_grad, lr_scheduler=lambda x: i)\n",
        "    if profit[-1] > max_profit[-1]:\n",
        "      max_profit = profit\n",
        "      best_alpha = i"
      ]
    },
    {
      "cell_type": "code",
      "execution_count": 82,
      "metadata": {
        "colab": {
          "base_uri": "https://localhost:8080/"
        },
        "id": "-84AihVFQS9V",
        "outputId": "dac7d133-8ced-4a3d-9b75-3ee98885390f"
      },
      "outputs": [
        {
          "data": {
            "text/plain": [
              "0.43635803556937275"
            ]
          },
          "execution_count": 82,
          "metadata": {},
          "output_type": "execute_result"
        }
      ],
      "source": [
        "best_alpha"
      ]
    },
    {
      "attachments": {},
      "cell_type": "markdown",
      "metadata": {
        "id": "BoAmKNfGQTOL"
      },
      "source": [
        "Для данного метода лучшей константой alpha оказалась 0.436358"
      ]
    },
    {
      "cell_type": "code",
      "execution_count": 83,
      "metadata": {
        "id": "EGMoocZ91KsF"
      },
      "outputs": [],
      "source": [
        "profit_to_date = pd.DataFrame(index=data_clear.index, columns=[\"profit\"])\n",
        "profit_to_date['profit'] = max_profit"
      ]
    },
    {
      "cell_type": "code",
      "execution_count": 84,
      "metadata": {
        "colab": {
          "base_uri": "https://localhost:8080/",
          "height": 449
        },
        "id": "r00mRLSDQXQ8",
        "outputId": "d15a56bd-cae2-4fc2-f2ad-f9d79f8ca628"
      },
      "outputs": [
        {
          "data": {
            "image/png": "[encoded data removed]",
            "text/plain": [
              "<Figure size 640x480 with 1 Axes>"
            ]
          },
          "metadata": {},
          "output_type": "display_data"
        }
      ],
      "source": [
        "graph = profit_to_date.plot()\n",
        "graph.set_yscale('log')"
      ]
    },
    {
      "attachments": {},
      "cell_type": "markdown",
      "metadata": {
        "id": "iTpcpBzCU4zo"
      },
      "source": [
        "Прибыльность (с использованием OGD):"
      ]
    },
    {
      "cell_type": "code",
      "execution_count": 85,
      "metadata": {
        "colab": {
          "base_uri": "https://localhost:8080/"
        },
        "id": "b8yhOZCKQYsV",
        "outputId": "2cef7c07-c97e-41a3-99ac-26ad77dd1b3b"
      },
      "outputs": [
        {
          "data": {
            "text/plain": [
              "2.135626807826089"
            ]
          },
          "execution_count": 85,
          "metadata": {},
          "output_type": "execute_result"
        }
      ],
      "source": [
        "profit_to_date['profit'][-1]"
      ]
    },
    {
      "attachments": {},
      "cell_type": "markdown",
      "metadata": {
        "id": "0O-7Ush65Nk8"
      },
      "source": [
        "## Дополнительное задание (4 балла)\n",
        "\n",
        "Реализуйте любой подходящий канонический онлайн алгоритм из курса или даже их композицию. Визуализируйте динамику логарифмического прироста портфеля ценных бумаг за весь период для OGD и инвестора, принимающего решения на основе выбранного алгоритма. Сравните итоговые распределения, полученные с помощью этих алгоритмов, и попробуйте сделать выводы."
      ]
    },
    {
      "attachments": {},
      "cell_type": "markdown",
      "metadata": {
        "id": "MOS4-EWBXood"
      },
      "source": [
        "### Онлайн метод Ньютона (ONS)\n",
        "\n",
        "Онлайн метод Ньютона устроен следующим образом:\n",
        "\n",
        "На начале пределяются параметры $ \\gamma, \\varepsilon > 0,  $ и создается матрица $\\Alpha = \\varepsilon \\Iota_{d \\times d}$\n",
        "\n",
        "Шаг алгоритма:\n",
        "$$\\Alpha_{t+1} = \\Alpha_{t} + \\nabla f_t(x_t) \\nabla f_t(x_t)^\\top $$\n",
        "$$x_{t+1} = \\Pi_{\\mathcal{D}, A_t}(x_{t} - \\frac{1}{\\gamma} A_t^{-1} \\nabla f_t(x_t) )$$\n",
        ", где $\\Pi_{\\mathcal{D}, A_t}(y)$ - оператор проектирования на множество $ \\mathcal{D}$ \n",
        "$$ \\Pi_{\\mathcal{D}, A_t}(y) = \\arg\\min_{x \\in \\mathcal{D}} \\bigl\\{   \\sqrt{(x-y)^\\top A_t (x-y)} \\bigr \\} $$\n"
      ]
    },
    {
      "cell_type": "code",
      "execution_count": 100,
      "metadata": {},
      "outputs": [],
      "source": [
        "from cvxpy import *\n",
        "\n",
        "def newton_proj(A, y):\n",
        "    x = cvxpy.Variable(A.shape[0])\n",
        "    x_y = x - y\n",
        "    problem = Problem(\n",
        "        Minimize(quad_form(x_y, A)),\n",
        "                 [sum(x) == 1, x>=0]\n",
        "                 )\n",
        "    problem.solve()\n",
        "    return x.value\n",
        "\n",
        "def newton_step(this_state, r, A, gamma, grad_func):\n",
        "    x = this_state\n",
        "    grad = grad_func(r, x)\n",
        "    exp = x - np.linalg.inv(A) @ grad / gamma\n",
        "    new_x = newton_proj(A, exp)\n",
        "    new_A = A + grad @ grad.T\n",
        "    return new_x, new_A\n",
        "\n",
        "\n",
        "def newton_method(begin_state, df_r, grad_func, eps, gamma):\n",
        "    x = begin_state\n",
        "    A = eps * np.eye(df_r.shape[1], df_r.shape[1])\n",
        "    n = df_r.shape[0]\n",
        "\n",
        "    profit = []\n",
        "    vectors = [x]\n",
        "\n",
        "    profit = 1.0\n",
        "    profit_vec = [profit]\n",
        "\n",
        "    for i in range(n):\n",
        "        r = df_r.iloc[i].values  # \"после этого алгоритму открывается вектор рыночных доходностей rt из истории наблюдений\"\n",
        "        profit *= (r * x).sum()\n",
        "        profit_vec.append(profit)\n",
        "        # print(grad_func(r, x))\n",
        "        new_x, new_A = newton_step(x, r, A, gamma, grad_func) # \"алгоритм должен использовать поступившую информацию для корректировки и принятия решения на следующей итерации.\"\n",
        "        x = new_x # в момент времени t алгоритм должен предложить распределение средств между активами xt \n",
        "        A = new_A\n",
        "        vectors.append(new_x)\n",
        "\n",
        "    return (vectors, profit_vec)\n"
      ]
    },
    {
      "cell_type": "code",
      "execution_count": 102,
      "metadata": {},
      "outputs": [
        {
          "data": {
            "text/plain": [
              "2.0402537794403157"
            ]
          },
          "execution_count": 102,
          "metadata": {},
          "output_type": "execute_result"
        },
        {
          "data": {
            "image/png": "[encoded data removed]",
            "text/plain": [
              "<Figure size 640x480 with 1 Axes>"
            ]
          },
          "metadata": {},
          "output_type": "display_data"
        }
      ],
      "source": [
        "begin_x = np.ones(r.shape[1]) * (1/r.shape[1])\n",
        "\n",
        "\n",
        "\n",
        "vectors, naive_profit = newton_method(begin_x, r, get_grad, 4, 1)\n",
        "\n",
        "profit_to_date = pd.DataFrame(index=data_clear.index, columns=[\"profit\"])\n",
        "profit_to_date['profit'] = naive_profit\n",
        "\n",
        "graph = profit_to_date.plot()\n",
        "graph.set_yscale('log')\n",
        "\n",
        "profit_to_date['profit'][-1]"
      ]
    },
    {
      "cell_type": "code",
      "execution_count": 109,
      "metadata": {},
      "outputs": [
        {
          "name": "stdout",
          "output_type": "stream",
          "text": [
            "0.00051 0.00051\n",
            "0.00051 0.019934395585864555\n"
          ]
        },
        {
          "name": "stderr",
          "output_type": "stream",
          "text": [
            "/home/memch/.local/lib/python3.10/site-packages/cvxpy/problems/problem.py:1385: UserWarning: Solution may be inaccurate. Try another solver, adjusting the solver settings, or solve with verbose=True for more information.\n",
            "  warnings.warn(\n"
          ]
        },
        {
          "name": "stdout",
          "output_type": "stream",
          "text": [
            "0.00051 0.7791767203406592\n",
            "0.00051 30.455719557975012\n",
            "0.00051 1190.4242382761292\n",
            "0.019934395585864555 0.00051\n",
            "0.019934395585864555 0.019934395585864555\n",
            "0.019934395585864555 0.7791767203406592\n",
            "0.019934395585864555 30.455719557975012\n",
            "0.019934395585864555 1190.4242382761292\n",
            "0.7791767203406592 0.00051\n",
            "0.7791767203406592 0.019934395585864555\n",
            "0.7791767203406592 0.7791767203406592\n",
            "0.7791767203406592 30.455719557975012\n",
            "0.7791767203406592 1190.4242382761292\n",
            "30.455719557975012 0.00051\n",
            "30.455719557975012 0.019934395585864555\n",
            "30.455719557975012 0.7791767203406592\n",
            "30.455719557975012 30.455719557975012\n",
            "30.455719557975012 1190.4242382761292\n",
            "1190.4242382761292 0.00051\n",
            "1190.4242382761292 0.019934395585864555\n",
            "1190.4242382761292 0.7791767203406592\n",
            "1190.4242382761292 30.455719557975012\n",
            "1190.4242382761292 1190.4242382761292\n"
          ]
        }
      ],
      "source": [
        "alpha_array_gamma = np.logspace(1, 10, 5, base=5.1) * 0.0001\n",
        "alpha_array_eps = np.logspace(1, 10, 5, base=5.1) * 0.0001\n",
        "\n",
        "max_profit = [0]\n",
        "best_gamma = -1.0\n",
        "best_eps = -1.0\n",
        "\n",
        "\n",
        "for gamma in alpha_array_gamma:\n",
        "    for eps in alpha_array_eps:\n",
        "      print(gamma, eps)\n",
        "      vectors, profit = newton_method(begin_x, r, get_grad, eps, gamma)\n",
        "      if profit[-1] > max_profit[-1]:\n",
        "        max_profit = profit\n",
        "        best_gamma = gamma\n",
        "        best_eps = eps"
      ]
    },
    {
      "cell_type": "code",
      "execution_count": 112,
      "metadata": {},
      "outputs": [
        {
          "data": {
            "text/plain": [
              "[1.0,\n",
              " 1.013158479733352,\n",
              " 1.0279463467653882,\n",
              " 1.0432888295529315,\n",
              " 1.0552387501399287,\n",
              " 1.0694417308380626,\n",
              " 1.0850555801082982,\n",
              " 1.0764224577676693,\n",
              " 1.078412148077776,\n",
              " 1.0764224577676693,\n",
              " 1.0337877670735451,\n",
              " 1.0554962563719295,\n",
              " 1.0493477344901514,\n",
              " 1.0435291715264392,\n",
              " 1.0264265867410653,\n",
              " 1.0383032622887653,\n",
              " 1.0294724842122214,\n",
              " 1.0466303589490917,\n",
              " 1.0523496505280485,\n",
              " 1.042960657363486,\n",
              " 1.069450779701556,\n",
              " 1.0481025849450438,\n",
              " 1.0435559309552784,\n",
              " 1.047311862512041,\n",
              " 1.0310509678046174,\n",
              " 1.0300499474475255,\n",
              " 1.0331011808467534,\n",
              " 1.0238770631606218,\n",
              " 1.007154497912267,\n",
              " 0.9813600870227793,\n",
              " 0.9744055667210432,\n",
              " 1.0014852463662598,\n",
              " 1.010329531658845,\n",
              " 1.0235439343901194,\n",
              " 1.0211761145629288,\n",
              " 1.0138030018224022,\n",
              " 1.0121154396054692,\n",
              " 1.0386205203283958,\n",
              " 1.0486545866020753,\n",
              " 1.082938845667349,\n",
              " 1.0591670173478218,\n",
              " 1.0526515113146244,\n",
              " 1.0597614247718425,\n",
              " 1.0387760500238852,\n",
              " 0.9993822855986001,\n",
              " 0.9968147026514099,\n",
              " 0.9868465556248958,\n",
              " 0.9794820290903817,\n",
              " 0.979680908690197,\n",
              " 0.9546890487746308,\n",
              " 0.9566393839100231,\n",
              " 0.9435794605801934,\n",
              " 0.9309406898237982,\n",
              " 0.9341305677510574,\n",
              " 0.9740410232857662,\n",
              " 0.9657577211936568,\n",
              " 0.9541220859985524,\n",
              " 0.9523730923049707,\n",
              " 0.9350212338186488,\n",
              " 0.9371478931829065,\n",
              " 0.9199616405192006,\n",
              " 0.9264062054265154,\n",
              " 0.9323730392878026,\n",
              " 0.9283496659475363,\n",
              " 0.9224377182715264,\n",
              " 0.9312491667884485,\n",
              " 0.9232407109623113,\n",
              " 0.9115853820832249,\n",
              " 0.8948807130785907,\n",
              " 0.8811602251438252,\n",
              " 0.8878477896210505,\n",
              " 0.8647148747355111,\n",
              " 0.8830763339631073,\n",
              " 0.8848026250015991,\n",
              " 0.8773807299734481,\n",
              " 0.8859049008406432,\n",
              " 0.888797030242013,\n",
              " 0.879197360269194,\n",
              " 0.8772061880324022,\n",
              " 0.9022413535173892,\n",
              " 0.9168722943852388,\n",
              " 0.9092316919320285,\n",
              " 0.9192975677811288,\n",
              " 0.9406650023348717,\n",
              " 0.9551769082471274,\n",
              " 0.9895815391177563,\n",
              " 0.9894184839951466,\n",
              " 1.0041938949652072,\n",
              " 0.9919662676292533,\n",
              " 0.9820032174764891,\n",
              " 1.023157446448747,\n",
              " 1.0188942904218772,\n",
              " 1.000232583972863,\n",
              " 0.9818796925238196,\n",
              " 0.9670877387143699,\n",
              " 0.9618025508622262,\n",
              " 0.9286865947696645,\n",
              " 0.9358399074554322,\n",
              " 0.9602544746655522,\n",
              " 0.9444270007415831,\n",
              " 0.9393014083976609,\n",
              " 0.9361205705771473,\n",
              " 0.924545663985776,\n",
              " 0.9237285666247633,\n",
              " 0.9300202163045606,\n",
              " 0.922508174646098,\n",
              " 0.9141123633807575,\n",
              " 0.9294310365666419,\n",
              " 0.9301959348628367,\n",
              " 0.9080835116886012,\n",
              " 0.9173629595491697,\n",
              " 0.9202985210197271,\n",
              " 0.9244816961152714,\n",
              " 0.9252086123604616,\n",
              " 0.942014310425504,\n",
              " 0.9317664560024651,\n",
              " 0.9348593215971622,\n",
              " 0.9229342950041136,\n",
              " 0.8993752915042326,\n",
              " 0.9227396812339614,\n",
              " 0.9118728032675604,\n",
              " 0.9151908981520933,\n",
              " 0.9075623103216381,\n",
              " 0.9142963308366724,\n",
              " 0.9132250093910987,\n",
              " 0.9094469810550442,\n",
              " 0.9069492102007402,\n",
              " 0.9161646128446089,\n",
              " 0.9260033989585433,\n",
              " 0.9381571935698743,\n",
              " 0.9494428599946815,\n",
              " 0.9627541588547106,\n",
              " 0.9393146978185725,\n",
              " 0.9484936688070276,\n",
              " 0.9546129827993309,\n",
              " 0.9556163297782492,\n",
              " 0.9592191593121082,\n",
              " 0.9586718940664587,\n",
              " 0.9407008803740063,\n",
              " 0.9257900039484976,\n",
              " 0.9123594794906791,\n",
              " 0.8927576950404864,\n",
              " 0.896464255099024,\n",
              " 0.8845366112700253,\n",
              " 0.8921839018573741,\n",
              " 0.9043924922432626,\n",
              " 0.9368157412481596,\n",
              " 0.9402742211420152,\n",
              " 0.9464602357547918,\n",
              " 0.9821312424817282,\n",
              " 1.0214164921809974,\n",
              " 1.0292735421208512,\n",
              " 1.0732636611207533,\n",
              " 1.084303743051553,\n",
              " 1.0701443697611108,\n",
              " 1.0618357954617232,\n",
              " 1.0504016909461438,\n",
              " 1.0593046370553163,\n",
              " 1.0800687494478012,\n",
              " 1.0920885924464254,\n",
              " 1.1123116375820927,\n",
              " 1.1043195607926695,\n",
              " 1.1079988739414315,\n",
              " 1.0960059217136795,\n",
              " 1.078451509318544,\n",
              " 1.091890286226198,\n",
              " 1.0818847261379827,\n",
              " 1.095668692534413,\n",
              " 1.1133617129027467,\n",
              " 1.113828205240555,\n",
              " 1.119488517728619,\n",
              " 1.1409572743797762,\n",
              " 1.1372352054796666,\n",
              " 1.162939836836399,\n",
              " 1.1333405643650103,\n",
              " 1.1190175885794533,\n",
              " 1.164169025713212,\n",
              " 1.154237880285955,\n",
              " 1.1558967013838313,\n",
              " 1.1676592509869543,\n",
              " 1.16401031582762,\n",
              " 1.1727708115843716,\n",
              " 1.1395133739892964,\n",
              " 1.1448799989845364,\n",
              " 1.1330358608711777,\n",
              " 1.1559951025070343,\n",
              " 1.1545296189983627,\n",
              " 1.1898299850468737,\n",
              " 1.1791280641181394,\n",
              " 1.1881198897214804,\n",
              " 1.1992376021136588,\n",
              " 1.1785900984425273,\n",
              " 1.1688496844058123,\n",
              " 1.1688496844058123,\n",
              " 1.1428094889051257,\n",
              " 1.1481166537142828,\n",
              " 1.1576180704994599,\n",
              " 1.1918231709260965,\n",
              " 1.2135900530157746,\n",
              " 1.2225732107035783,\n",
              " 1.2253372592229026,\n",
              " 1.2633883408205966,\n",
              " 1.2478289916652643,\n",
              " 1.249550926796357,\n",
              " 1.2523883969679073,\n",
              " 1.2544917364061932,\n",
              " 1.251400683985177,\n",
              " 1.2883509233277612,\n",
              " 1.2740615729569962,\n",
              " 1.2815613245433928,\n",
              " 1.3161388315656664,\n",
              " 1.331068137252746,\n",
              " 1.30680894677734,\n",
              " 1.285757501538052,\n",
              " 1.281464488177324,\n",
              " 1.2956521105377188,\n",
              " 1.2913143620347596,\n",
              " 1.2728717754308043,\n",
              " 1.2913934902350463,\n",
              " 1.3352171904415113,\n",
              " 1.3257909605857812,\n",
              " 1.309114344729356,\n",
              " 1.2592508600147554,\n",
              " 1.2653571411247406,\n",
              " 1.230598539836532,\n",
              " 1.2436051478534063,\n",
              " 1.2552276258707278,\n",
              " 1.2503254470380545,\n",
              " 1.1991102521262675,\n",
              " 1.2308855351029337,\n",
              " 1.258539791618462,\n",
              " 1.2429065775093415,\n",
              " 1.3167619725906785,\n",
              " 1.3233803786672138,\n",
              " 1.3648943413633656,\n",
              " 1.3403562662754032,\n",
              " 1.2991822531014112,\n",
              " 1.297186581437661,\n",
              " 1.337728138869672,\n",
              " 1.3410230357634398,\n",
              " 1.3357681289072862,\n",
              " 1.3480035286982879,\n",
              " 1.352107111993601,\n",
              " 1.350150372323567,\n",
              " 1.4250440597160514,\n",
              " 1.4321206286035302,\n",
              " 1.4552325439180405,\n",
              " 1.437132270593951,\n",
              " 1.438055191085861,\n",
              " 1.4371485680800278,\n",
              " 1.4305561434558072,\n",
              " 1.4401908698323862,\n",
              " 1.4397344391742941,\n",
              " 1.4011126509401104,\n",
              " 1.4396582945382785,\n",
              " 1.4576184586903416,\n",
              " 1.493908296314181,\n",
              " 1.4756107233447067,\n",
              " 1.4736063621339694,\n",
              " 1.4427182101458254,\n",
              " 1.407630642803223,\n",
              " 1.3997963019230082,\n",
              " 1.5078269561292137,\n",
              " 1.4488460944717898,\n",
              " 1.4606079446852138,\n",
              " 1.5036275153444019,\n",
              " 1.44022040902499,\n",
              " 1.4267547870356085,\n",
              " 1.408592420581124,\n",
              " 1.4233248678877466,\n",
              " 1.4203483329929243,\n",
              " 1.4469405370607695,\n",
              " 1.461744643979096,\n",
              " 1.4816180953104756,\n",
              " 1.477041971648645,\n",
              " 1.5030284517635337,\n",
              " 1.5501982237256309,\n",
              " 1.552907714543297,\n",
              " 1.5768697213960712,\n",
              " 1.5771104281158688,\n",
              " 1.5455942855361358,\n",
              " 1.5460111124739828,\n",
              " 1.5104412327433785,\n",
              " 1.4807906930255403,\n",
              " 1.4725716358180414,\n",
              " 1.4735795890237837,\n",
              " 1.4952810125690332,\n",
              " 1.4801713681595992,\n",
              " 1.500797137849465,\n",
              " 1.507879655674687,\n",
              " 1.5495397886613784,\n",
              " 1.5549687497501794,\n",
              " 1.56133287833033,\n",
              " 1.5626357958566852,\n",
              " 1.5443474705475693,\n",
              " 1.5404661916979392,\n",
              " 1.5350612449242613,\n",
              " 1.569977857195078,\n",
              " 1.5648990772284137,\n",
              " 1.5323816938054857,\n",
              " 1.5279685757471038,\n",
              " 1.523464313564813,\n",
              " 1.501138936558129,\n",
              " 1.4764175268069428,\n",
              " 1.4665352140438441,\n",
              " 1.4932934213635856,\n",
              " 1.3936787089653404,\n",
              " 1.3786322451708428,\n",
              " 1.380037331009168,\n",
              " 1.373273338262137,\n",
              " 1.3656546234867577,\n",
              " 1.3633140519977693,\n",
              " 1.362884646717865,\n",
              " 1.3461507288181915,\n",
              " 1.2899970127017755,\n",
              " 1.3073171293487171,\n",
              " 1.2892529063327316,\n",
              " 1.3033431020303572,\n",
              " 1.320673052960515,\n",
              " 1.310212990544605,\n",
              " 1.275688274061216,\n",
              " 1.2540066156483178,\n",
              " 1.2427326972503732,\n",
              " 1.2123397780241414,\n",
              " 1.198354603944555,\n",
              " 1.1933361652113863,\n",
              " 1.19493909113143,\n",
              " 1.242922072039727,\n",
              " 1.237785512725784,\n",
              " 1.2229732182338127,\n",
              " 1.2212863586224558,\n",
              " 1.2597302453799617,\n",
              " 1.2523789065329152,\n",
              " 1.2339747080205896,\n",
              " 1.2163129459263475,\n",
              " 1.2210621752160016,\n",
              " 1.2208748095300699,\n",
              " 1.2337476900181175,\n",
              " 1.2637457538581318,\n",
              " 1.279440027967575,\n",
              " 1.2828880124310134,\n",
              " 1.289357908747308,\n",
              " 1.2870274524787266,\n",
              " 1.2776132557446613,\n",
              " 1.2709241811072547,\n",
              " 1.2724439708604471,\n",
              " 1.239177461818344,\n",
              " 1.2328662677628681,\n",
              " 1.2516817037262644,\n",
              " 1.2674669163355798,\n",
              " 1.2761549015701643,\n",
              " 1.3086143869217426,\n",
              " 1.3134394455550853,\n",
              " 1.5307244896345684,\n",
              " 1.897190310246234,\n",
              " 1.777197076948609,\n",
              " 1.8418578719596288,\n",
              " 2.02755457722997,\n",
              " 2.000747966232939,\n",
              " 1.9934488522589036,\n",
              " 1.988136196294217,\n",
              " 1.936507408413406,\n",
              " 1.9676017346867107,\n",
              " 1.9714207315376209,\n",
              " 1.9929271395180315,\n",
              " 2.0185603990858483,\n",
              " 1.9808629869350345,\n",
              " 1.9514398157862618,\n",
              " 1.862633715863213,\n",
              " 1.8417238121032165,\n",
              " 1.8985352589151498,\n",
              " 1.8659499158279114,\n",
              " 1.8348219283534881,\n",
              " 1.868020675549327,\n",
              " 1.8621303544349508,\n",
              " 1.8323222414166886,\n",
              " 1.831916051604803,\n",
              " 1.7400497889775741,\n",
              " 1.7023020328835892,\n",
              " 1.7645891040224453,\n",
              " 1.7698362302128203,\n",
              " 1.8192669931695842,\n",
              " 1.864685934654232,\n",
              " 1.9321870134352828,\n",
              " 1.9871103840148332,\n",
              " 1.9064416834761182,\n",
              " 1.8928026735441743,\n",
              " 1.9386564139829707,\n",
              " 2.181630121648974,\n",
              " 2.1012092465764236,\n",
              " 2.0842049807404712,\n",
              " 2.0146332524228914,\n",
              " 2.014932470193933,\n",
              " 1.9552798641684548,\n",
              " 1.9266942615162979,\n",
              " 1.9346295756082101,\n",
              " 1.8806694397832067,\n",
              " 1.8826003118979735,\n",
              " 1.8985989665631868,\n",
              " 1.8491622140291217,\n",
              " 1.8463188839455054,\n",
              " 1.8415197879294736,\n",
              " 1.8612494048842703,\n",
              " 1.8474054010462881,\n",
              " 1.802625914236696,\n",
              " 1.7639060258640702,\n",
              " 1.7541881883122794,\n",
              " 1.7484788695545501,\n",
              " 1.7304443093660797,\n",
              " 1.7476436454061623,\n",
              " 1.725572141569671,\n",
              " 1.7147349771064873,\n",
              " 1.6871494675638377,\n",
              " 1.6797604917934852,\n",
              " 1.6610566910082933,\n",
              " 1.683696963013691,\n",
              " 1.598680431401584,\n",
              " 1.656277455723954,\n",
              " 1.63473837402846,\n",
              " 1.6191918707596011,\n",
              " 1.5978185061650303,\n",
              " 1.5781593632544642,\n",
              " 1.554856007552302,\n",
              " 1.5675045921426547,\n",
              " 1.557050159662063,\n",
              " 1.5761982781001997,\n",
              " 1.5423317376554146,\n",
              " 1.4602880622964765,\n",
              " 1.4294978901066102,\n",
              " 1.4507154257230352,\n",
              " 1.477894561801433,\n",
              " 1.455945632665768,\n",
              " 1.4550436994877192,\n",
              " 1.4913005720843622,\n",
              " 1.5161789828285022,\n",
              " 1.4930461880471182,\n",
              " 1.4859427083859247,\n",
              " 1.4918395428748772,\n",
              " 1.4993605571448954,\n",
              " 1.5116208406809526,\n",
              " 1.5092512060479333,\n",
              " 1.5282253848582523,\n",
              " 1.5296046496460305,\n",
              " 1.5275834517772329,\n",
              " 1.5162142137652461,\n",
              " 1.506883799541342,\n",
              " 1.5189495950892706,\n",
              " 1.5296747466874294,\n",
              " 1.4817807769828388,\n",
              " 1.4538179488877985,\n",
              " 1.4193949899479068,\n",
              " 1.3393927268781156,\n",
              " 1.34418911052535,\n",
              " 1.353346603249124,\n",
              " 1.3123650930529387,\n",
              " 1.2407241102774877,\n",
              " 1.2493302890771003,\n",
              " 1.310406375280376,\n",
              " 1.324792330390296,\n",
              " 1.3424290737894964,\n",
              " 1.350042093111554,\n",
              " 1.326390550243591,\n",
              " 1.3046044252637445,\n",
              " 1.2544987076504854,\n",
              " 1.2628160216947193,\n",
              " 1.2681325199734015,\n",
              " 1.328140032952229,\n",
              " 1.397499621623899,\n",
              " 1.4017418147511183,\n",
              " 1.372039256716253,\n",
              " 1.3526095068934738,\n",
              " 1.400453608156492,\n",
              " 1.4197737345755852,\n",
              " 1.3600443753357032,\n",
              " 1.3574513450681422,\n",
              " 1.2096486198171696,\n",
              " 1.2424332457790892,\n",
              " 0.6874298220464813,\n",
              " 0.6138824975910994,\n",
              " 0.6712421434597676,\n",
              " 0.7796990021074542,\n",
              " 0.7360517297248487,\n",
              " 0.7953139830936559,\n",
              " 0.8245708320263325,\n",
              " 0.8859466544748944,\n",
              " 0.8224360208107302,\n",
              " 0.8016524390573905,\n",
              " 0.7944781176183555,\n",
              " 0.7741179326380342,\n",
              " 0.7756462997311004,\n",
              " 0.7812458853173944,\n",
              " 0.771244319754499,\n",
              " 0.783238042069666,\n",
              " 0.7649116343720909,\n",
              " 0.7238256870185166,\n",
              " 0.7022805840934956,\n",
              " 0.6965533955679053,\n",
              " 0.6868637404072702,\n",
              " 0.6868637404072702]"
            ]
          },
          "execution_count": 112,
          "metadata": {},
          "output_type": "execute_result"
        }
      ],
      "source": [
        "max_profit"
      ]
    },
    {
      "cell_type": "code",
      "execution_count": null,
      "metadata": {},
      "outputs": [],
      "source": []
    },
    {
      "cell_type": "code",
      "execution_count": null,
      "metadata": {},
      "outputs": [],
      "source": []
    },
    {
      "cell_type": "code",
      "execution_count": null,
      "metadata": {},
      "outputs": [],
      "source": []
    },
    {
      "attachments": {},
      "cell_type": "markdown",
      "metadata": {
        "id": "omFE-M82QxSW"
      },
      "source": [
        "# Вывод: \n",
        "\n",
        "Наивный алгоритм (если взять равномерно все активы и не пересобирать портфель) выдает прибыльность 1.7. Алгоритм OGD выдает прибыльность 2.14.\n",
        "\n",
        "Алгоритм OGD приносит прибыли не сильно выше роста рынка, однако ситуация на рынке не предсказывается очевидным образом, и даже такой результат - уже отлично.\n",
        "\n"
      ]
    }
  ],
  "metadata": {
    "colab": {
      "provenance": []
    },
    "kernelspec": {
      "display_name": "Python 3",
      "name": "python3"
    },
    "language_info": {
      "codemirror_mode": {
        "name": "ipython",
        "version": 3
      },
      "file_extension": ".py",
      "mimetype": "text/x-python",
      "name": "python",
      "nbconvert_exporter": "python",
      "pygments_lexer": "ipython3",
      "version": "3.10.6"
    }
  },
  "nbformat": 4,
  "nbformat_minor": 0
}
