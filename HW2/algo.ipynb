{
 "cells": [
  {
   "cell_type": "code",
   "execution_count": null,
   "metadata": {},
   "outputs": [],
   "source": [
    "import pandas as pd\n",
    "import numpy as np\n",
    "\n",
    "import apimoex\n",
    "import requests\n",
    "\n",
    "\n",
    "import matplotlib.pyplot as plt\n",
    "from numpy.typing import ArrayLike"
   ]
  },
  {
   "cell_type": "code",
   "execution_count": 1,
   "metadata": {},
   "outputs": [],
   "source": [
    "stock_names = ['RASP', 'GAZP', 'DSKY', 'SBER', 'KMAZ', 'RUAL']\n",
    "start_date = '2023-01-01'\n",
    "end_date = '2023-05-05'"
   ]
  },
  {
   "cell_type": "code",
   "execution_count": 2,
   "metadata": {},
   "outputs": [],
   "source": [
    "def load_data(stock_names=stock_names, start=start_date, end=end_date):\n",
    "    df = pd.DataFrame()\n",
    "    with requests.Session() as session:\n",
    "        for stock in stock_names:\n",
    "            data = apimoex.get_board_history(session, stock, start=start, end=end, columns=['CLOSE', 'TRADEDATE'])\n",
    "            df_stock = pd.DataFrame(data)\n",
    "            df_stock.set_index('TRADEDATE', inplace=True)\n",
    "            df[stock] = df_stock\n",
    "    return df\n",
    "\n",
    "\n",
    "def prepare_r(df_stocks):\n",
    "    return (df_stocks.shift(-1) / df_stocks).dropna() \n",
    "\n"
   ]
  },
  {
   "cell_type": "code",
   "execution_count": null,
   "metadata": {},
   "outputs": [],
   "source": [
    "def get_grad(r, x):\n",
    "    return -r / np.dot(r, x)\n",
    "\n",
    "\n",
    "def _unsafe_simplex_projection(s: ArrayLike, norm_constraint: float) -> ArrayLike:\n",
    "    \"\"\"Находит проекцию на симплекс.\"\"\"\n",
    "    u = np.sort(s)[::-1]\n",
    "    cssv = np.cumsum(u)\n",
    "    rho = np.nonzero(u * np.arange(1, len(u) + 1) > (cssv - norm_constraint))[0][-1]\n",
    "    theta = (cssv[rho] - norm_constraint) / (rho + 1.0)\n",
    "    return np.maximum(s - theta, 0)\n",
    "\n",
    "\n",
    "def simplex_projection(s: ArrayLike):\n",
    "    \"\"\"Возвращает проекцию на единичный симплекс.\"\"\"\n",
    "    return s if np.sum(s) == 1 else _unsafe_simplex_projection(s, 1.0)"
   ]
  },
  {
   "cell_type": "code",
   "execution_count": null,
   "metadata": {},
   "outputs": [],
   "source": [
    "def get_this_score(r, x):\n",
    "    return -np.log(np.dot(r, x))\n",
    "\n",
    "def get_max_score(r, x):\n",
    "    return -np.log(np.max(r))\n",
    "\n",
    "def get_score(r, x):\n",
    "    return get_this_score(r, x) -  get_max_score(r, x)\n",
    "\n",
    "def descent_step(this_state, r, alpha):\n",
    "    x = this_state\n",
    "    # print(\"grad of r and x - \", get_grad(r, x))\n",
    "    new_x = simplex_projection(x - alpha * get_grad(r, x))\n",
    "    # print('new x - ', new_x)\n",
    "    return new_x\n",
    "\n",
    "\n",
    "def descent(begin_state, df_r,lr_scheduler=lambda i: 0.1):\n",
    "    x = begin_state\n",
    "\n",
    "    n = df_r.shape[0]\n",
    "\n",
    "    scores = []\n",
    "    vectors = [x]\n",
    "\n",
    "    for i in range(n):\n",
    "        r = df_r.iloc[i].values\n",
    "        # print(x)\n",
    "        score = get_score(r, x)\n",
    "        scores.append(score)\n",
    "        alpha = lr_scheduler(i)\n",
    "\n",
    "        new_x = descent_step(x, r, alpha)\n",
    "\n",
    "        x = new_x\n",
    "        vectors.append(new_x)\n",
    "        # print('r and x before next iteration - ', r, x)\n",
    "\n",
    "    return (vectors, scores)\n",
    "    "
   ]
  },
  {
   "cell_type": "code",
   "execution_count": null,
   "metadata": {},
   "outputs": [],
   "source": [
    "data = load_data()\n",
    "r = prepare_r(data)\n",
    "\n",
    "\n",
    "\n",
    "\n",
    "\n",
    "\n",
    "\n",
    "best_alpha = 928\n",
    "\n",
    "_, scores = descent(np.ones(r.shape[1]) * (1/r.shape[1]) , r, lr_scheduler=lambda x: 0)\n"
   ]
  }
 ],
 "metadata": {
  "kernelspec": {
   "display_name": "Python 3",
   "language": "python",
   "name": "python3"
  },
  "language_info": {
   "codemirror_mode": {
    "name": "ipython",
    "version": 3
   },
   "file_extension": ".py",
   "mimetype": "text/x-python",
   "name": "python",
   "nbconvert_exporter": "python",
   "pygments_lexer": "ipython3",
   "version": "3.10.6"
  },
  "orig_nbformat": 4
 },
 "nbformat": 4,
 "nbformat_minor": 2
}
