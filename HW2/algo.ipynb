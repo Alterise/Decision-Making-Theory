{
  "cells": [
    {
      "cell_type": "markdown",
      "source": [
        "Работа выполнена студентами группы М8О-411Б-19: \\\n",
        "Терешков Алексей \\\n",
        "Мамченков Дмитрий \\\n",
        "Алимов Исмаил"
      ],
      "metadata": {
        "id": "FGZSaXqZ1ljQ"
      }
    },
    {
      "cell_type": "markdown",
      "metadata": {
        "id": "qxpKl_Qc4cdC"
      },
      "source": [
        "# Подготовка\n",
        "\n",
        "Импорт необходимых библиотек, установка глобальных переменных, необходимых для решения"
      ]
    },
    {
      "cell_type": "code",
      "execution_count": null,
      "metadata": {
        "id": "oNX7_Tq5W2Iv"
      },
      "outputs": [],
      "source": [
        "import pandas as pd\n",
        "import numpy as np\n",
        "import random\n",
        "\n",
        "import apimoex\n",
        "import requests\n",
        "\n",
        "import matplotlib.pyplot as plt\n",
        "from numpy.typing import ArrayLike"
      ]
    },
    {
      "cell_type": "code",
      "execution_count": null,
      "metadata": {
        "id": "koI74HFZW2Iw"
      },
      "outputs": [],
      "source": [
        "stock_names = ['RASP', 'GAZP', 'DSKY', 'SBER', 'KMAZ', 'RUAL']\n",
        "start_date = '2020-04-01' \n",
        "end_date = '2022-04-22'"
      ]
    },
    {
      "cell_type": "markdown",
      "metadata": {
        "id": "6g8Fu73Q1jbc"
      },
      "source": [
        "# Теоретические выкладки:\n",
        "\n",
        "Заменим операцию $ r_t^\\top x_t$ на $ (\\vec{r_t} \\cdot \\vec{x_t})$\n",
        "\n",
        "В таком случае:\n",
        "$$ f_t(x) = -\\log (\\vec{r} \\cdot \\vec{x}) $$\n",
        "\n",
        "$$\\nabla f_t(x) = -\\frac{\\vec{r}} {(\\vec{r} \\cdot \\vec{x})} $$\n",
        "\n",
        "Формула перехода:\n",
        "$$ x_{t+1} = \\Pi_{\\mathcal{D}}(x_t - \\alpha_t\\nabla f_t(x_t)) $$ \n",
        " \n"
      ]
    },
    {
      "cell_type": "markdown",
      "metadata": {
        "id": "uxsIbJGU1jbd"
      },
      "source": [
        "### Стохастический градиентный спуск \n",
        "Стохастический градиентный спуск  (англ. stochastic gradient descent) −\n",
        " оптимизационный алгоритм, отличающийся от обычного градиентного спуска тем, что градиент оптимизируемой функции считается на каждом шаге не как сумма градиентов от каждого элемента выборки, а как градиент от одного, случайно выбранного элемента\n",
        "\n",
        "Для дополнительного задания определим стохастический градиент как вектор, состоящий из нулей везде, кроме случайно выбранной позиции. На этой случайно выбранной позиции будет находиться тот элемент, что находился на этой позиции на элементе r"
      ]
    },
    {
      "cell_type": "markdown",
      "metadata": {
        "id": "uwDlrbPn1jbd"
      },
      "source": [
        "### Выбор длины шага\n",
        "\n",
        "Длину шага выберем ситуативно, но вне зависимости от ситуации оставим его константной, так как ситуация на рынке меняется, а затухающая длина шага будет способствовать застыванию наших ответов, отчего на дистанции будет решать ситуация на рынке, которая была в начале."
      ]
    },
    {
      "cell_type": "markdown",
      "metadata": {
        "id": "vooqLRGq4izp"
      },
      "source": [
        "# Функции\n",
        "\n",
        "Определение основных функций, необходимых для решения"
      ]
    },
    {
      "cell_type": "code",
      "execution_count": null,
      "metadata": {
        "id": "1SrdfutDW2Iw"
      },
      "outputs": [],
      "source": [
        "def load_data(stock_names=stock_names, start=start_date, end=end_date):\n",
        "    df = pd.DataFrame()\n",
        "    with requests.Session() as session:\n",
        "        for stock in stock_names:\n",
        "            data = apimoex.get_board_history(session, stock, start=start, end=end, columns=['CLOSE', 'TRADEDATE'])\n",
        "            df_stock = pd.DataFrame(data)\n",
        "            df_stock.set_index('TRADEDATE', inplace=True)\n",
        "            df[stock] = df_stock\n",
        "    return df\n",
        "\n",
        "\n",
        "def prepare_r(df_stocks):\n",
        "    return (df_stocks.shift(-1) / df_stocks).dropna()"
      ]
    },
    {
      "cell_type": "code",
      "execution_count": null,
      "metadata": {
        "id": "4GOzFx-mW2Iw"
      },
      "outputs": [],
      "source": [
        "def _unsafe_simplex_projection(s: ArrayLike, norm_constraint: float) -> ArrayLike:\n",
        "    \"\"\"Находит проекцию на симплекс.\"\"\"\n",
        "    u = np.sort(s)[::-1]\n",
        "    cssv = np.cumsum(u)\n",
        "    rho = np.nonzero(u * np.arange(1, len(u) + 1) > (cssv - norm_constraint))[0][-1]\n",
        "    theta = (cssv[rho] - norm_constraint) / (rho + 1.0)\n",
        "    return np.maximum(s - theta, 0)\n",
        "\n",
        "\n",
        "def simplex_projection(s: ArrayLike):\n",
        "    \"\"\"Возвращает проекцию на единичный симплекс.\"\"\"\n",
        "    return s if np.sum(s) == 1 else _unsafe_simplex_projection(s, 1.0)"
      ]
    },
    {
      "cell_type": "code",
      "execution_count": null,
      "metadata": {
        "id": "Ln3OZP0N1jbd"
      },
      "outputs": [],
      "source": [
        "def get_grad(r, x):\n",
        "    return -r / np.dot(r, x)\n",
        "\n",
        "\n",
        "def get_sgrad(r, x):\n",
        "    rdot = np.dot(r, x)\n",
        "    rand_value = random.randint(0, 5)\n",
        "    new_r = np.array([0 for i in range(6)])\n",
        "    new_r[rand_value] = r[rand_value]\n",
        "    return -new_r / rdot"
      ]
    },
    {
      "cell_type": "code",
      "execution_count": null,
      "metadata": {
        "id": "r3NPeVt4W2Ix"
      },
      "outputs": [],
      "source": [
        "def descent_step(this_state, r, alpha, grad_func):\n",
        "    x = this_state\n",
        "    new_x = simplex_projection(x - alpha * grad_func(r, x))\n",
        "    return new_x\n",
        "\n",
        "\n",
        "def descent(begin_state, df_r, grad_func, lr_scheduler=lambda i: 0.1):\n",
        "    x = begin_state\n",
        "\n",
        "    n = df_r.shape[0]\n",
        "\n",
        "    profit = []\n",
        "    vectors = [x]\n",
        "\n",
        "    profit = 1.0\n",
        "    profit_vec = [profit]\n",
        "\n",
        "    for i in range(n):\n",
        "        r = df_r.iloc[i].values  # \"после этого алгоритму открывается вектор рыночных доходностей rt из истории наблюдений\"\n",
        "        alpha = lr_scheduler(i)\n",
        "        profit *= (r * x).sum()\n",
        "        profit_vec.append(profit)\n",
        "        new_x = descent_step(x, r, alpha, grad_func) # \"алгоритм должен использовать поступившую информацию для корректировки и принятия решения на следующей итерации.\"\n",
        "        x = new_x # в момент времени t алгоритм должен предложить распределение средств между активами xt \n",
        "        vectors.append(new_x)\n",
        "\n",
        "    return (vectors, profit_vec)\n",
        "    "
      ]
    },
    {
      "cell_type": "markdown",
      "metadata": {
        "id": "fwQxLG7a4nyN"
      },
      "source": [
        "# Загрузка данных"
      ]
    },
    {
      "cell_type": "code",
      "execution_count": null,
      "metadata": {
        "id": "RNkekucmW2Ix"
      },
      "outputs": [],
      "source": [
        "data = load_data()\n",
        "data_clear = data.dropna()\n",
        "r = prepare_r(data_clear)"
      ]
    },
    {
      "cell_type": "code",
      "execution_count": null,
      "metadata": {
        "id": "8DsYVcna1jbe",
        "outputId": "4111660d-c7ae-4163-a6a3-952535c590a7"
      },
      "outputs": [
        {
          "data": {
            "text/html": [
              "<div>\n",
              "<style scoped>\n",
              "    .dataframe tbody tr th:only-of-type {\n",
              "        vertical-align: middle;\n",
              "    }\n",
              "\n",
              "    .dataframe tbody tr th {\n",
              "        vertical-align: top;\n",
              "    }\n",
              "\n",
              "    .dataframe thead th {\n",
              "        text-align: right;\n",
              "    }\n",
              "</style>\n",
              "<table border=\"1\" class=\"dataframe\">\n",
              "  <thead>\n",
              "    <tr style=\"text-align: right;\">\n",
              "      <th></th>\n",
              "      <th>RASP</th>\n",
              "      <th>GAZP</th>\n",
              "      <th>DSKY</th>\n",
              "      <th>SBER</th>\n",
              "      <th>KMAZ</th>\n",
              "      <th>RUAL</th>\n",
              "    </tr>\n",
              "    <tr>\n",
              "      <th>TRADEDATE</th>\n",
              "      <th></th>\n",
              "      <th></th>\n",
              "      <th></th>\n",
              "      <th></th>\n",
              "      <th></th>\n",
              "      <th></th>\n",
              "    </tr>\n",
              "  </thead>\n",
              "  <tbody>\n",
              "    <tr>\n",
              "      <th>2020-04-01</th>\n",
              "      <td>97.76</td>\n",
              "      <td>180.06</td>\n",
              "      <td>90.12</td>\n",
              "      <td>184.78</td>\n",
              "      <td>51.0</td>\n",
              "      <td>24.755</td>\n",
              "    </tr>\n",
              "    <tr>\n",
              "      <th>2020-04-02</th>\n",
              "      <td>99.40</td>\n",
              "      <td>187.04</td>\n",
              "      <td>90.62</td>\n",
              "      <td>186.95</td>\n",
              "      <td>50.9</td>\n",
              "      <td>24.955</td>\n",
              "    </tr>\n",
              "    <tr>\n",
              "      <th>2020-04-03</th>\n",
              "      <td>99.10</td>\n",
              "      <td>189.77</td>\n",
              "      <td>94.42</td>\n",
              "      <td>185.64</td>\n",
              "      <td>53.6</td>\n",
              "      <td>24.830</td>\n",
              "    </tr>\n",
              "    <tr>\n",
              "      <th>2020-04-06</th>\n",
              "      <td>100.92</td>\n",
              "      <td>191.10</td>\n",
              "      <td>97.80</td>\n",
              "      <td>190.70</td>\n",
              "      <td>54.4</td>\n",
              "      <td>25.755</td>\n",
              "    </tr>\n",
              "    <tr>\n",
              "      <th>2020-04-07</th>\n",
              "      <td>98.98</td>\n",
              "      <td>191.22</td>\n",
              "      <td>98.12</td>\n",
              "      <td>197.63</td>\n",
              "      <td>54.8</td>\n",
              "      <td>26.050</td>\n",
              "    </tr>\n",
              "  </tbody>\n",
              "</table>\n",
              "</div>"
            ],
            "text/plain": [
              "              RASP    GAZP   DSKY    SBER  KMAZ    RUAL\n",
              "TRADEDATE                                              \n",
              "2020-04-01   97.76  180.06  90.12  184.78  51.0  24.755\n",
              "2020-04-02   99.40  187.04  90.62  186.95  50.9  24.955\n",
              "2020-04-03   99.10  189.77  94.42  185.64  53.6  24.830\n",
              "2020-04-06  100.92  191.10  97.80  190.70  54.4  25.755\n",
              "2020-04-07   98.98  191.22  98.12  197.63  54.8  26.050"
            ]
          },
          "execution_count": 8,
          "metadata": {},
          "output_type": "execute_result"
        }
      ],
      "source": [
        "data_clear.head()"
      ]
    },
    {
      "cell_type": "code",
      "execution_count": null,
      "metadata": {
        "id": "NFZShJi91jbf",
        "outputId": "e0bbdeb7-4641-4213-ed85-f5e0ef426fd1"
      },
      "outputs": [
        {
          "data": {
            "text/html": [
              "<div>\n",
              "<style scoped>\n",
              "    .dataframe tbody tr th:only-of-type {\n",
              "        vertical-align: middle;\n",
              "    }\n",
              "\n",
              "    .dataframe tbody tr th {\n",
              "        vertical-align: top;\n",
              "    }\n",
              "\n",
              "    .dataframe thead th {\n",
              "        text-align: right;\n",
              "    }\n",
              "</style>\n",
              "<table border=\"1\" class=\"dataframe\">\n",
              "  <thead>\n",
              "    <tr style=\"text-align: right;\">\n",
              "      <th></th>\n",
              "      <th>RASP</th>\n",
              "      <th>GAZP</th>\n",
              "      <th>DSKY</th>\n",
              "      <th>SBER</th>\n",
              "      <th>KMAZ</th>\n",
              "      <th>RUAL</th>\n",
              "    </tr>\n",
              "    <tr>\n",
              "      <th>TRADEDATE</th>\n",
              "      <th></th>\n",
              "      <th></th>\n",
              "      <th></th>\n",
              "      <th></th>\n",
              "      <th></th>\n",
              "      <th></th>\n",
              "    </tr>\n",
              "  </thead>\n",
              "  <tbody>\n",
              "    <tr>\n",
              "      <th>2020-04-01</th>\n",
              "      <td>1.016776</td>\n",
              "      <td>1.038765</td>\n",
              "      <td>1.005548</td>\n",
              "      <td>1.011744</td>\n",
              "      <td>0.998039</td>\n",
              "      <td>1.008079</td>\n",
              "    </tr>\n",
              "    <tr>\n",
              "      <th>2020-04-02</th>\n",
              "      <td>0.996982</td>\n",
              "      <td>1.014596</td>\n",
              "      <td>1.041933</td>\n",
              "      <td>0.992993</td>\n",
              "      <td>1.053045</td>\n",
              "      <td>0.994991</td>\n",
              "    </tr>\n",
              "    <tr>\n",
              "      <th>2020-04-03</th>\n",
              "      <td>1.018365</td>\n",
              "      <td>1.007008</td>\n",
              "      <td>1.035798</td>\n",
              "      <td>1.027257</td>\n",
              "      <td>1.014925</td>\n",
              "      <td>1.037253</td>\n",
              "    </tr>\n",
              "    <tr>\n",
              "      <th>2020-04-06</th>\n",
              "      <td>0.980777</td>\n",
              "      <td>1.000628</td>\n",
              "      <td>1.003272</td>\n",
              "      <td>1.036340</td>\n",
              "      <td>1.007353</td>\n",
              "      <td>1.011454</td>\n",
              "    </tr>\n",
              "    <tr>\n",
              "      <th>2020-04-07</th>\n",
              "      <td>1.017175</td>\n",
              "      <td>1.015113</td>\n",
              "      <td>1.019160</td>\n",
              "      <td>1.013459</td>\n",
              "      <td>0.979927</td>\n",
              "      <td>0.988484</td>\n",
              "    </tr>\n",
              "  </tbody>\n",
              "</table>\n",
              "</div>"
            ],
            "text/plain": [
              "                RASP      GAZP      DSKY      SBER      KMAZ      RUAL\n",
              "TRADEDATE                                                             \n",
              "2020-04-01  1.016776  1.038765  1.005548  1.011744  0.998039  1.008079\n",
              "2020-04-02  0.996982  1.014596  1.041933  0.992993  1.053045  0.994991\n",
              "2020-04-03  1.018365  1.007008  1.035798  1.027257  1.014925  1.037253\n",
              "2020-04-06  0.980777  1.000628  1.003272  1.036340  1.007353  1.011454\n",
              "2020-04-07  1.017175  1.015113  1.019160  1.013459  0.979927  0.988484"
            ]
          },
          "execution_count": 9,
          "metadata": {},
          "output_type": "execute_result"
        }
      ],
      "source": [
        "r.head()"
      ]
    },
    {
      "cell_type": "markdown",
      "metadata": {
        "id": "2nL2DuVX4VTR"
      },
      "source": [
        "# Визуализация"
      ]
    },
    {
      "cell_type": "code",
      "execution_count": null,
      "metadata": {
        "colab": {
          "base_uri": "https://localhost:8080/",
          "height": 466
        },
        "id": "oYbNQFb21PWc",
        "outputId": "522d7488-828a-45ea-891c-fbf6353eec95"
      },
      "outputs": [
        {
          "data": {
            "text/plain": [
              "<AxesSubplot: xlabel='TRADEDATE'>"
            ]
          },
          "execution_count": 10,
          "metadata": {},
          "output_type": "execute_result"
        },
        {
          "data": {
            "image/png": "[encoded data removed]",
            "text/plain": [
              "<Figure size 640x480 with 1 Axes>"
            ]
          },
          "metadata": {},
          "output_type": "display_data"
        }
      ],
      "source": [
        "data_clear.plot()"
      ]
    },
    {
      "cell_type": "code",
      "execution_count": null,
      "metadata": {
        "colab": {
          "base_uri": "https://localhost:8080/",
          "height": 455
        },
        "id": "wBTzRi-O1QKU",
        "outputId": "78456390-7077-4c15-8e81-37cdc024821d"
      },
      "outputs": [
        {
          "data": {
            "text/html": [
              "<div>\n",
              "<style scoped>\n",
              "    .dataframe tbody tr th:only-of-type {\n",
              "        vertical-align: middle;\n",
              "    }\n",
              "\n",
              "    .dataframe tbody tr th {\n",
              "        vertical-align: top;\n",
              "    }\n",
              "\n",
              "    .dataframe thead th {\n",
              "        text-align: right;\n",
              "    }\n",
              "</style>\n",
              "<table border=\"1\" class=\"dataframe\">\n",
              "  <thead>\n",
              "    <tr style=\"text-align: right;\">\n",
              "      <th></th>\n",
              "      <th>RASP</th>\n",
              "      <th>GAZP</th>\n",
              "      <th>DSKY</th>\n",
              "      <th>SBER</th>\n",
              "      <th>KMAZ</th>\n",
              "      <th>RUAL</th>\n",
              "    </tr>\n",
              "    <tr>\n",
              "      <th>TRADEDATE</th>\n",
              "      <th></th>\n",
              "      <th></th>\n",
              "      <th></th>\n",
              "      <th></th>\n",
              "      <th></th>\n",
              "      <th></th>\n",
              "    </tr>\n",
              "  </thead>\n",
              "  <tbody>\n",
              "    <tr>\n",
              "      <th>2020-04-01</th>\n",
              "      <td>97.76</td>\n",
              "      <td>180.06</td>\n",
              "      <td>90.12</td>\n",
              "      <td>184.78</td>\n",
              "      <td>51.0</td>\n",
              "      <td>24.755</td>\n",
              "    </tr>\n",
              "    <tr>\n",
              "      <th>2020-04-02</th>\n",
              "      <td>99.40</td>\n",
              "      <td>187.04</td>\n",
              "      <td>90.62</td>\n",
              "      <td>186.95</td>\n",
              "      <td>50.9</td>\n",
              "      <td>24.955</td>\n",
              "    </tr>\n",
              "    <tr>\n",
              "      <th>2020-04-03</th>\n",
              "      <td>99.10</td>\n",
              "      <td>189.77</td>\n",
              "      <td>94.42</td>\n",
              "      <td>185.64</td>\n",
              "      <td>53.6</td>\n",
              "      <td>24.830</td>\n",
              "    </tr>\n",
              "    <tr>\n",
              "      <th>2020-04-06</th>\n",
              "      <td>100.92</td>\n",
              "      <td>191.10</td>\n",
              "      <td>97.80</td>\n",
              "      <td>190.70</td>\n",
              "      <td>54.4</td>\n",
              "      <td>25.755</td>\n",
              "    </tr>\n",
              "    <tr>\n",
              "      <th>2020-04-07</th>\n",
              "      <td>98.98</td>\n",
              "      <td>191.22</td>\n",
              "      <td>98.12</td>\n",
              "      <td>197.63</td>\n",
              "      <td>54.8</td>\n",
              "      <td>26.050</td>\n",
              "    </tr>\n",
              "    <tr>\n",
              "      <th>...</th>\n",
              "      <td>...</td>\n",
              "      <td>...</td>\n",
              "      <td>...</td>\n",
              "      <td>...</td>\n",
              "      <td>...</td>\n",
              "      <td>...</td>\n",
              "    </tr>\n",
              "    <tr>\n",
              "      <th>2022-04-18</th>\n",
              "      <td>403.15</td>\n",
              "      <td>216.99</td>\n",
              "      <td>75.60</td>\n",
              "      <td>123.85</td>\n",
              "      <td>100.1</td>\n",
              "      <td>64.605</td>\n",
              "    </tr>\n",
              "    <tr>\n",
              "      <th>2022-04-19</th>\n",
              "      <td>391.15</td>\n",
              "      <td>220.72</td>\n",
              "      <td>75.20</td>\n",
              "      <td>120.30</td>\n",
              "      <td>99.5</td>\n",
              "      <td>63.200</td>\n",
              "    </tr>\n",
              "    <tr>\n",
              "      <th>2022-04-20</th>\n",
              "      <td>392.00</td>\n",
              "      <td>218.92</td>\n",
              "      <td>75.98</td>\n",
              "      <td>121.50</td>\n",
              "      <td>99.1</td>\n",
              "      <td>63.200</td>\n",
              "    </tr>\n",
              "    <tr>\n",
              "      <th>2022-04-21</th>\n",
              "      <td>394.00</td>\n",
              "      <td>210.29</td>\n",
              "      <td>75.18</td>\n",
              "      <td>118.65</td>\n",
              "      <td>103.6</td>\n",
              "      <td>64.605</td>\n",
              "    </tr>\n",
              "    <tr>\n",
              "      <th>2022-04-22</th>\n",
              "      <td>400.20</td>\n",
              "      <td>208.00</td>\n",
              "      <td>74.00</td>\n",
              "      <td>116.97</td>\n",
              "      <td>103.6</td>\n",
              "      <td>64.895</td>\n",
              "    </tr>\n",
              "  </tbody>\n",
              "</table>\n",
              "<p>499 rows × 6 columns</p>\n",
              "</div>"
            ],
            "text/plain": [
              "              RASP    GAZP   DSKY    SBER   KMAZ    RUAL\n",
              "TRADEDATE                                               \n",
              "2020-04-01   97.76  180.06  90.12  184.78   51.0  24.755\n",
              "2020-04-02   99.40  187.04  90.62  186.95   50.9  24.955\n",
              "2020-04-03   99.10  189.77  94.42  185.64   53.6  24.830\n",
              "2020-04-06  100.92  191.10  97.80  190.70   54.4  25.755\n",
              "2020-04-07   98.98  191.22  98.12  197.63   54.8  26.050\n",
              "...            ...     ...    ...     ...    ...     ...\n",
              "2022-04-18  403.15  216.99  75.60  123.85  100.1  64.605\n",
              "2022-04-19  391.15  220.72  75.20  120.30   99.5  63.200\n",
              "2022-04-20  392.00  218.92  75.98  121.50   99.1  63.200\n",
              "2022-04-21  394.00  210.29  75.18  118.65  103.6  64.605\n",
              "2022-04-22  400.20  208.00  74.00  116.97  103.6  64.895\n",
              "\n",
              "[499 rows x 6 columns]"
            ]
          },
          "execution_count": 11,
          "metadata": {},
          "output_type": "execute_result"
        }
      ],
      "source": [
        "data_clear"
      ]
    },
    {
      "cell_type": "markdown",
      "metadata": {
        "id": "I-14Fvyn1jbf"
      },
      "source": [
        "# Решение\n",
        "\n",
        "Решим задачу, используя алгоритм онлайн градиетного спуска"
      ]
    },
    {
      "cell_type": "code",
      "execution_count": null,
      "metadata": {
        "id": "KbVrakMP2lXK"
      },
      "outputs": [],
      "source": [
        "alpha_array = np.logspace(1, 10, 1000, base=5.1) * 0.0001"
      ]
    },
    {
      "cell_type": "code",
      "execution_count": null,
      "metadata": {
        "id": "gNOLav_91D2q"
      },
      "outputs": [],
      "source": [
        "max_profit = [0]\n",
        "best_alpha = -1.0\n",
        "\n",
        "for i in alpha_array:\n",
        "    vectors, profit = descent(np.ones(r.shape[1]) * (1/r.shape[1]) , r, get_grad, lr_scheduler=lambda x: i)\n",
        "    if profit[-1] > max_profit[-1]:\n",
        "      max_profit = profit\n",
        "      best_alpha = i"
      ]
    },
    {
      "cell_type": "code",
      "execution_count": null,
      "metadata": {
        "colab": {
          "base_uri": "https://localhost:8080/"
        },
        "id": "-We_07MzQsKb",
        "outputId": "0850d47e-e2a8-4d6f-c419-2e9596bba9e5"
      },
      "outputs": [
        {
          "data": {
            "text/plain": [
              "0.43635803556937275"
            ]
          },
          "execution_count": 14,
          "metadata": {},
          "output_type": "execute_result"
        }
      ],
      "source": [
        "best_alpha"
      ]
    },
    {
      "cell_type": "markdown",
      "metadata": {
        "id": "dkP70Pkv1jbg"
      },
      "source": [
        "Для данного метода лучшей константой alpha оказалась 0.436358"
      ]
    },
    {
      "cell_type": "code",
      "execution_count": null,
      "metadata": {
        "id": "GBa3ncpw19qQ"
      },
      "outputs": [],
      "source": [
        "profit_to_date = pd.DataFrame(index=data_clear.index, columns=[\"profit\"])\n",
        "profit_to_date['profit'] = max_profit"
      ]
    },
    {
      "cell_type": "code",
      "execution_count": null,
      "metadata": {
        "colab": {
          "base_uri": "https://localhost:8080/",
          "height": 466
        },
        "id": "vbHgQ7S51-UM",
        "outputId": "e862ee08-4801-418d-ab7b-76a5a03b67ca"
      },
      "outputs": [
        {
          "data": {
            "image/png": "[encoded data removed]",
            "text/plain": [
              "<Figure size 640x480 with 1 Axes>"
            ]
          },
          "metadata": {},
          "output_type": "display_data"
        }
      ],
      "source": [
        "graph = profit_to_date.plot()\n",
        "graph.set_yscale('log')"
      ]
    },
    {
      "cell_type": "code",
      "execution_count": null,
      "metadata": {
        "colab": {
          "base_uri": "https://localhost:8080/"
        },
        "id": "-q4prxUG23xV",
        "outputId": "c818700b-900c-4516-8192-c88b8ad1f6c4"
      },
      "outputs": [
        {
          "data": {
            "text/plain": [
              "2.135626807826089"
            ]
          },
          "execution_count": 17,
          "metadata": {},
          "output_type": "execute_result"
        }
      ],
      "source": [
        "#final profit\n",
        "profit_to_date['profit'][-1]"
      ]
    },
    {
      "cell_type": "markdown",
      "metadata": {
        "id": "WPqfKAL8bVtY"
      },
      "source": [
        "# Дополнительное задание (OSGD)\n",
        "\n",
        "Решим задачу, используя алгоритм онлайн стохастического градиентного спуска\n",
        "\n"
      ]
    },
    {
      "cell_type": "code",
      "execution_count": null,
      "metadata": {
        "id": "um4RwQFVl_-C"
      },
      "outputs": [],
      "source": [
        "vectors, profit = descent(np.ones(r.shape[1]) * (1/r.shape[1]) , r, get_sgrad, lr_scheduler=lambda x: 0.5)"
      ]
    },
    {
      "cell_type": "code",
      "execution_count": null,
      "metadata": {
        "id": "1gut4p0bcySq"
      },
      "outputs": [],
      "source": [
        "profit_to_date = pd.DataFrame(index=data_clear.index, columns=[\"profit\"])\n",
        "profit_to_date['profit'] = profit"
      ]
    },
    {
      "cell_type": "code",
      "execution_count": null,
      "metadata": {
        "colab": {
          "base_uri": "https://localhost:8080/",
          "height": 466
        },
        "id": "PeQUw38Dc5D8",
        "outputId": "794c9f1e-1d5c-4c7f-93f7-af2c56a918e7"
      },
      "outputs": [
        {
          "data": {
            "text/plain": [
              "<AxesSubplot: xlabel='TRADEDATE'>"
            ]
          },
          "execution_count": 20,
          "metadata": {},
          "output_type": "execute_result"
        },
        {
          "data": {
            "image/png": "[encoded data removed]",
            "text/plain": [
              "<Figure size 640x480 with 1 Axes>"
            ]
          },
          "metadata": {},
          "output_type": "display_data"
        }
      ],
      "source": [
        "graph = profit_to_date.plot()\n",
        "graph.set_yscale('log')\n",
        "graph"
      ]
    },
    {
      "cell_type": "code",
      "execution_count": null,
      "metadata": {
        "colab": {
          "base_uri": "https://localhost:8080/"
        },
        "id": "0YiGcaTkc855",
        "outputId": "bb538cba-4381-4113-b4c1-a07042db1ef0"
      },
      "outputs": [
        {
          "data": {
            "text/plain": [
              "2.018947118134612"
            ]
          },
          "execution_count": 21,
          "metadata": {},
          "output_type": "execute_result"
        }
      ],
      "source": [
        "#final profit\n",
        "profit_to_date['profit'][-1]"
      ]
    },
    {
      "cell_type": "code",
      "execution_count": null,
      "metadata": {
        "id": "xGanH_GUoKDe"
      },
      "outputs": [],
      "source": [
        "profit_list = []\n",
        "for i in range(1000):\n",
        "    vectors, profit = descent(np.ones(r.shape[1]) * (1/r.shape[1]) , r, get_sgrad, lr_scheduler=lambda x: 0.5)\n",
        "    profit_list.append(profit[-1])"
      ]
    },
    {
      "cell_type": "markdown",
      "metadata": {
        "id": "D41WgHhH1jbh"
      },
      "source": [
        "# Вычисление прибыльностей"
      ]
    },
    {
      "cell_type": "code",
      "execution_count": null,
      "metadata": {
        "id": "W6QEDNzaobz3"
      },
      "outputs": [],
      "source": [
        "osgd_average_profit = np.average(profit_list)\n",
        "\n",
        "osgd_max_profit = np.max(profit_list)\n",
        "osgd_min_profit = np.min(profit_list)\n",
        "\n",
        "\n",
        "naive_profit = np.dot(np.cumprod(r).iloc[-1].values, np.ones(r.shape[1]) * (1/r.shape[1]))"
      ]
    },
    {
      "cell_type": "code",
      "execution_count": null,
      "metadata": {
        "colab": {
          "base_uri": "https://localhost:8080/"
        },
        "id": "H2deTdcXolAB",
        "outputId": "d88bb76b-9bd0-47db-ad9a-ef3ae3e8f38f"
      },
      "outputs": [
        {
          "data": {
            "text/plain": [
              "0.7211436066194912"
            ]
          },
          "execution_count": 24,
          "metadata": {},
          "output_type": "execute_result"
        }
      ],
      "source": [
        "osgd_average_profit / max_profit[-1]"
      ]
    },
    {
      "cell_type": "code",
      "execution_count": null,
      "metadata": {
        "id": "spQz6hR71jbh",
        "outputId": "4aaef0fb-e709-4618-a1ca-34730aab90dd"
      },
      "outputs": [
        {
          "data": {
            "text/plain": [
              "1.5731772086203466"
            ]
          },
          "execution_count": 25,
          "metadata": {},
          "output_type": "execute_result"
        }
      ],
      "source": [
        "osgd_max_profit / max_profit[-1]"
      ]
    },
    {
      "cell_type": "code",
      "execution_count": null,
      "metadata": {
        "id": "-5uWwKYA1jbi",
        "outputId": "076b8cfc-7a4a-4d62-ae13-93ad8cae002d"
      },
      "outputs": [
        {
          "data": {
            "text/plain": [
              "0.3128526903046975"
            ]
          },
          "execution_count": 26,
          "metadata": {},
          "output_type": "execute_result"
        }
      ],
      "source": [
        "osgd_min_profit / max_profit[-1]"
      ]
    },
    {
      "cell_type": "code",
      "execution_count": null,
      "metadata": {
        "id": "cndQObbO1jbi",
        "outputId": "82355fc2-ad66-4ee6-adda-d534fbc70442"
      },
      "outputs": [
        {
          "data": {
            "text/plain": [
              "2.135626807826089"
            ]
          },
          "execution_count": 27,
          "metadata": {},
          "output_type": "execute_result"
        }
      ],
      "source": [
        "max_profit[-1]"
      ]
    },
    {
      "cell_type": "code",
      "execution_count": null,
      "metadata": {
        "id": "kBTf-3a31jbi",
        "outputId": "e050d54c-0ce7-4cd8-bdf2-8aee648d22df"
      },
      "outputs": [
        {
          "data": {
            "text/plain": [
              "1.8926471583647397"
            ]
          },
          "execution_count": 28,
          "metadata": {},
          "output_type": "execute_result"
        }
      ],
      "source": [
        "naive_profit"
      ]
    },
    {
      "cell_type": "markdown",
      "metadata": {
        "id": "MIvpBJRXoxjx"
      },
      "source": [
        "# Вывод: \n",
        "\n",
        "Наивный алгоритм (если взять равномерно все активы и не пересобирать портфель) выдает прибыльность 1.89. Алгоритм OGD выдает прибыльность 2.14.\n",
        "\n",
        "Алгоритм OSGD в среднем слабее, чем алгоритм OGD, однако в некоторых случайных случаях он может выдать результат больший в 1.39 раз. \n",
        "\n",
        "Алгоритм OGD приносит прибыли не сильно выше роста рынка, однако ситуация на рынке не предсказывается очевидным образом, и даже такой результат - уже отлично.\n",
        "\n",
        "Алгоритм OSGD лучше не использовать, в среднем он менее выгоден, чем OGD."
      ]
    }
  ],
  "metadata": {
    "colab": {
      "provenance": []
    },
    "kernelspec": {
      "display_name": "Python 3",
      "language": "python",
      "name": "python3"
    },
    "language_info": {
      "codemirror_mode": {
        "name": "ipython",
        "version": 3
      },
      "file_extension": ".py",
      "mimetype": "text/x-python",
      "name": "python",
      "nbconvert_exporter": "python",
      "pygments_lexer": "ipython3",
      "version": "3.10.6"
    },
    "orig_nbformat": 4
  },
  "nbformat": 4,
  "nbformat_minor": 0
}