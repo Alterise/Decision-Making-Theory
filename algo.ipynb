{
 "cells": [
  {
   "cell_type": "code",
   "execution_count": 1,
   "metadata": {},
   "outputs": [],
   "source": [
    "import requests\n",
    "\n",
    "import apimoex\n",
    "import pandas as pd\n",
    "\n",
    "\n",
    "stock_names = ['RASP', 'GAZP', 'DSKY', 'SBER', 'KMAZ', 'RUAL']\n",
    "start_date = '2023-01-01'\n",
    "end_date = '2023-05-05'\n",
    "\n",
    "\n",
    "\n",
    "\n"
   ]
  },
  {
   "cell_type": "code",
   "execution_count": 2,
   "metadata": {},
   "outputs": [],
   "source": [
    "def load_data(stock_names=stock_names, start=start_date, end=end_date):\n",
    "    df = pd.DataFrame()\n",
    "    with requests.Session() as session:\n",
    "        for stock in stock_names:\n",
    "            data = apimoex.get_board_history(session, stock, start=start, end=end, columns=['CLOSE', 'TRADEDATE'])\n",
    "            df_stock = pd.DataFrame(data)\n",
    "            df_stock.set_index('TRADEDATE', inplace=True)\n",
    "            df[stock] = df_stock\n",
    "    return df\n",
    "\n",
    "\n",
    "def prepare_r(df_stocks):\n",
    "    return (df_stocks.shift(-1) / df_stocks).dropna() \n",
    "\n"
   ]
  }
 ],
 "metadata": {
  "kernelspec": {
   "display_name": "Python 3",
   "language": "python",
   "name": "python3"
  },
  "language_info": {
   "codemirror_mode": {
    "name": "ipython",
    "version": 3
   },
   "file_extension": ".py",
   "mimetype": "text/x-python",
   "name": "python",
   "nbconvert_exporter": "python",
   "pygments_lexer": "ipython3",
   "version": "3.10.6"
  },
  "orig_nbformat": 4
 },
 "nbformat": 4,
 "nbformat_minor": 2
}
