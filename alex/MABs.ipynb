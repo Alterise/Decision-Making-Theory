{
  "nbformat": 4,
  "nbformat_minor": 0,
  "metadata": {
    "colab": {
      "provenance": []
    },
    "kernelspec": {
      "name": "python3",
      "display_name": "Python 3"
    },
    "language_info": {
      "name": "python"
    }
  },
  "cells": [
    {
      "cell_type": "markdown",
      "source": [
        "# Подключение библиотек"
      ],
      "metadata": {
        "id": "FdoK7r0nva1V"
      }
    },
    {
      "cell_type": "code",
      "source": [
        "import numpy as np\n",
        "import pandas as pd"
      ],
      "metadata": {
        "id": "71CmTrLovZOj"
      },
      "execution_count": null,
      "outputs": []
    },
    {
      "cell_type": "markdown",
      "source": [
        "# Реализация многоруких бандитов"
      ],
      "metadata": {
        "id": "rQHdFBOot_sJ"
      }
    },
    {
      "cell_type": "markdown",
      "source": [
        "### UCB"
      ],
      "metadata": {
        "id": "FcCySSNXuIP9"
      }
    },
    {
      "cell_type": "code",
      "source": [
        "class UCBSamplingReplayer():\n",
        "    def __init__(self,ucb_c, n_visits, reward_history, item_col_name, visitor_col_name, reward_col_name):\n",
        "        self.reward_history = reward_history\n",
        "        self.item_col_name = item_col_name\n",
        "        self.visitor_col_name = visitor_col_name\n",
        "        self.reward_col_name = reward_col_name\n",
        "        self.ucb_c = ucb_c\n",
        "\n",
        "        self.n_visits = n_visits\n",
        "\n",
        "        self.items = self.reward_history[self.item_col_name].unique()\n",
        "        self.n_items = len(self.items)\n",
        "        \n",
        "        self.visitors = self.reward_history[self.visitor_col_name].unique()\n",
        "        self.n_visitors = len(self.visitors)\n",
        "\n",
        "    def reset(self):\n",
        "        self.Q = np.zeros(self.n_items)\n",
        "        self.N = np.zeros(self.n_items) + 0.0001\n",
        "        self.timestep = 1\n",
        "\n",
        "\n",
        "    def select_item(self):\n",
        "        ln_timestep = np.log(np.full(self.n_items, self.timestep))\n",
        "        confidence = self.ucb_c * np.sqrt(ln_timestep/self.N)\n",
        "\n",
        "        action = np.argmax(self.Q + confidence)\n",
        "        self.timestep += 1\n",
        "        \n",
        "        return action\n",
        "\n",
        "    def record_result(self, visit, item_idx, reward):\n",
        "        self.N[item_idx] += 1\n",
        "        self.Q[item_idx] += 1/self.N[item_idx] * (reward - self.Q[item_idx])\n",
        "\n",
        "\n",
        "    def simulate(self):\n",
        "        results = []\n",
        "        \n",
        "        self.reset()\n",
        "        \n",
        "        total_rewards = 0\n",
        "        fraction_relevant = np.zeros(self.n_visits)\n",
        "\n",
        "        for visit in range(0, self.n_visits):\n",
        "        \n",
        "            found_match = False\n",
        "            while not found_match:\n",
        "            \n",
        "                visitor_idx = np.random.randint(self.n_visitors)\n",
        "                visitor_id = self.visitors[visitor_idx]\n",
        "\n",
        "                item_idx = self.select_item()\n",
        "                item_id = self.items[item_idx]\n",
        "                \n",
        "                reward = self.reward_history.query(\n",
        "                    '{} == @item_id and {} == @visitor_id'.format(self.item_col_name, self.visitor_col_name))[self.reward_col_name]\n",
        "                \n",
        "                found_match = reward.shape[0] > 0\n",
        "            \n",
        "            reward_value = reward.iloc[0]\n",
        "            \n",
        "            self.record_result(visit, item_idx, reward_value)\n",
        "\n",
        "            total_rewards += reward_value\n",
        "            fraction_relevant[visit] = total_rewards * 1. / (visit + 1)\n",
        "            \n",
        "            result = {}\n",
        "            result['visit'] = visit\n",
        "            result['item_id'] = item_id\n",
        "            result['visitor_id'] = visitor_id\n",
        "            result['reward'] = reward_value\n",
        "            result['total_reward'] = total_rewards\n",
        "            result['fraction_relevant'] = total_rewards * 1. / (visit + 1)\n",
        "            \n",
        "            results.append(result)\n",
        "        \n",
        "        return results"
      ],
      "metadata": {
        "id": "Rbtj4oINugK4"
      },
      "execution_count": null,
      "outputs": []
    },
    {
      "cell_type": "markdown",
      "source": [
        "### Epsilon-Greedy"
      ],
      "metadata": {
        "id": "IEqsyBB7vk3H"
      }
    },
    {
      "cell_type": "code",
      "source": [
        "class EpsilonGreedyReplayer():\n",
        "    def __init__(self, epsilon, n_visits, reward_history, item_col_name, visitor_col_name, reward_col_name):\n",
        "        self.reward_history = reward_history\n",
        "        self.item_col_name = item_col_name\n",
        "        self.visitor_col_name = visitor_col_name\n",
        "        self.reward_col_name = reward_col_name\n",
        "    \n",
        "        self.epsilon = epsilon\n",
        "\n",
        "        self.n_visits = n_visits\n",
        "\n",
        "        self.items = self.reward_history[self.item_col_name].unique()\n",
        "        self.n_items = len(self.items)\n",
        "        \n",
        "        self.visitors = self.reward_history[self.visitor_col_name].unique()\n",
        "        self.n_visitors = len(self.visitors)\n",
        "    \n",
        "    def select_item(self):\n",
        "        if np.random.uniform() < self.epsilon:\n",
        "            item_id = np.random.randint(self.n_items)\n",
        "            \n",
        "        else: \n",
        "            item_id = np.argmax(self.n_item_rewards)\n",
        "            \n",
        "        return item_id\n",
        "    \n",
        "    def reset(self):\n",
        "        self.n_item_samples = np.zeros(self.n_items)\n",
        "        \n",
        "        self.n_item_rewards = np.zeros(self.n_items)\n",
        "\n",
        "    def record_result(self, visit, item_idx, reward):\n",
        "    \n",
        "        self.n_item_samples[item_idx] += 1\n",
        "        \n",
        "        alpha = 1./self.n_item_samples[item_idx]\n",
        "        self.n_item_rewards[item_idx] += alpha * (reward - self.n_item_rewards[item_idx])\n",
        "    \n",
        "    def simulate(self):\n",
        "        results = []\n",
        "        \n",
        "        self.reset()\n",
        "        \n",
        "        total_rewards = 0\n",
        "        fraction_relevant = np.zeros(self.n_visits)\n",
        "\n",
        "        for visit in range(0, self.n_visits):\n",
        "        \n",
        "            found_match = False\n",
        "            while not found_match:\n",
        "            \n",
        "                visitor_idx = np.random.randint(self.n_visitors)\n",
        "                visitor_id = self.visitors[visitor_idx]\n",
        "\n",
        "                item_idx = self.select_item()\n",
        "                item_id = self.items[item_idx]\n",
        "                \n",
        "                reward = self.reward_history.query(\n",
        "                    '{} == @item_id and {} == @visitor_id'.format(self.item_col_name, self.visitor_col_name))[self.reward_col_name]\n",
        "                \n",
        "                found_match = reward.shape[0] > 0\n",
        "            \n",
        "            reward_value = reward.iloc[0]\n",
        "            \n",
        "            self.record_result(visit, item_idx, reward_value)\n",
        "            \n",
        "            total_rewards += reward_value\n",
        "            fraction_relevant[visit] = total_rewards * 1. / (visit + 1)\n",
        "            \n",
        "            result = {}\n",
        "            result['visit'] = visit\n",
        "            result['item_id'] = item_id\n",
        "            result['visitor_id'] = visitor_id\n",
        "            result['reward'] = reward_value\n",
        "            result['total_reward'] = total_rewards\n",
        "            result['fraction_relevant'] = total_rewards * 1. / (visit + 1)\n",
        "            \n",
        "            results.append(result)\n",
        "        \n",
        "        return results"
      ],
      "metadata": {
        "id": "V33Sl68Gvo0l"
      },
      "execution_count": null,
      "outputs": []
    },
    {
      "cell_type": "markdown",
      "source": [
        "### Explore first"
      ],
      "metadata": {
        "id": "hDFFf7NrzjcV"
      }
    },
    {
      "cell_type": "code",
      "source": [
        "class ExploreFirstReplayer():\n",
        "    def __init__(self, rounds, n_visits, reward_history, item_col_name, visitor_col_name, reward_col_name):\n",
        "        self.reward_history = reward_history\n",
        "        self.item_col_name = item_col_name\n",
        "        self.visitor_col_name = visitor_col_name\n",
        "        self.reward_col_name = reward_col_name\n",
        "        self.rounds = rounds\n",
        "    \n",
        "        self.n_visits = n_visits\n",
        "\n",
        "        self.items = self.reward_history[self.item_col_name].unique()\n",
        "        self.n_items = len(self.items)\n",
        "        \n",
        "        self.visitors = self.reward_history[self.visitor_col_name].unique()\n",
        "        self.n_visitors = len(self.visitors)\n",
        "\n",
        "    def reset(self):\n",
        "        self.Q = np.zeros(self.n_items)\n",
        "        self.N = np.zeros(self.n_items) + 0.0001\n",
        "\n",
        "\n",
        "    def select_item(self):\n",
        "        action = np.argmax(self.Q)\n",
        "\n",
        "        return action\n",
        "\n",
        "    def record_result(self, item_idx, reward):\n",
        "        self.N[item_idx] += 1\n",
        "        self.Q[item_idx] += 1/self.N[item_idx] * (reward - self.Q[item_idx])\n",
        "\n",
        "\n",
        "    def simulate(self):\n",
        "        results = []\n",
        "        \n",
        "        self.reset()\n",
        "        \n",
        "        total_rewards = 0\n",
        "        fraction_relevant = np.zeros(self.n_visits)\n",
        "\n",
        "        for item_idx in range(0, self.n_items):\n",
        "            item_id = self.items[item_idx]\n",
        "            for i in range(self.rounds):\n",
        "                visitor_idx = np.random.randint(self.n_visitors)\n",
        "                visitor_id = self.visitors[visitor_idx]\n",
        "                found_match = False\n",
        "                while not found_match:\n",
        "                    reward = self.reward_history.query(\n",
        "                        '{} == @item_id and {} == @visitor_id'.format(self.item_col_name, self.visitor_col_name))[self.reward_col_name]\n",
        "                        \n",
        "                    found_match = reward.shape[0] > 0\n",
        "            \n",
        "                reward_value = reward.iloc[0]\n",
        "                self.record_result(item_idx, reward_value)\n",
        "\n",
        "        for visit in range(0, self.n_visits):\n",
        "        \n",
        "            found_match = False\n",
        "            while not found_match:\n",
        "            \n",
        "                visitor_idx = np.random.randint(self.n_visitors)\n",
        "                visitor_id = self.visitors[visitor_idx]\n",
        "\n",
        "                item_idx = self.select_item()\n",
        "                item_id = self.items[item_idx]\n",
        "\n",
        "                reward = self.reward_history.query(\n",
        "                    '{} == @item_id and {} == @visitor_id'.format(self.item_col_name, self.visitor_col_name))[self.reward_col_name]\n",
        "                \n",
        "                found_match = reward.shape[0] > 0\n",
        "            \n",
        "            reward_value = reward.iloc[0]\n",
        "\n",
        "            total_rewards += reward_value\n",
        "            fraction_relevant[visit] = total_rewards * 1. / (visit + 1)\n",
        "            \n",
        "            result = {}\n",
        "            result['visit'] = visit\n",
        "            result['item_id'] = item_id\n",
        "            result['visitor_id'] = visitor_id\n",
        "            result['reward'] = reward_value\n",
        "            result['total_reward'] = total_rewards\n",
        "            result['fraction_relevant'] = total_rewards * 1. / (visit + 1)\n",
        "            \n",
        "            results.append(result)\n",
        "        \n",
        "        return results"
      ],
      "metadata": {
        "id": "6B03jyA4zsuG"
      },
      "execution_count": null,
      "outputs": []
    },
    {
      "cell_type": "markdown",
      "source": [
        "# Подготовка данных"
      ],
      "metadata": {
        "id": "rQ_n1-Jit5aH"
      }
    },
    {
      "cell_type": "markdown",
      "source": [
        "Датасет взят отсюда: https://www.kaggle.com/datasets/saurav9786/amazon-product-reviews\n"
      ],
      "metadata": {
        "id": "k-vmcHSlr5jp"
      }
    },
    {
      "cell_type": "code",
      "source": [
        "path = \"./Desktop/MABs/\""
      ],
      "metadata": {
        "id": "FbVB_z0DsFdk"
      },
      "execution_count": null,
      "outputs": []
    },
    {
      "cell_type": "code",
      "execution_count": null,
      "metadata": {
        "id": "kKYFb9nRqwSd"
      },
      "outputs": [],
      "source": [
        "df = pd.read_csv(path + 'ratings_electronics.csv', names=[\"User_ID\", \"Product_ID\", \"Rating\", \"Time_Stamp\"])"
      ]
    },
    {
      "cell_type": "code",
      "source": [
        "reward_threshold = 4"
      ],
      "metadata": {
        "id": "GJXawpdbrxOD"
      },
      "execution_count": null,
      "outputs": []
    },
    {
      "cell_type": "code",
      "source": [
        "df['Reward'] = df.eval('Rating > @reward_threshold').astype(int)"
      ],
      "metadata": {
        "id": "SpQjhBpJsaGA"
      },
      "execution_count": null,
      "outputs": []
    },
    {
      "cell_type": "code",
      "source": [
        "df"
      ],
      "metadata": {
        "colab": {
          "base_uri": "https://localhost:8080/",
          "height": 424
        },
        "id": "C0fLkZmfs6Yw",
        "outputId": "316c889f-1b61-449c-9667-732561135502"
      },
      "execution_count": null,
      "outputs": [
        {
          "output_type": "execute_result",
          "data": {
            "text/plain": [
              "                User_ID  Product_ID  Rating  Time_Stamp  Reward\n",
              "0         AKM1MP6P0OYPR  0132793040     5.0  1365811200       1\n",
              "1        A2CX7LUOHB2NDG  0321732944     5.0  1341100800       1\n",
              "2        A2NWSAGRHCP8N5  0439886341     1.0  1367193600       0\n",
              "3        A2WNBOD3WNDNKT  0439886341     3.0  1374451200       0\n",
              "4        A1GI0U4ZRJA8WN  0439886341     1.0  1334707200       0\n",
              "...                 ...         ...     ...         ...     ...\n",
              "7824477  A2YZI3C9MOHC0L  BT008UKTMW     5.0  1396569600       1\n",
              "7824478  A322MDK0M89RHN  BT008UKTMW     5.0  1313366400       1\n",
              "7824479  A1MH90R0ADMIK0  BT008UKTMW     4.0  1404172800       0\n",
              "7824480  A10M2KEFPEQDHN  BT008UKTMW     4.0  1297555200       0\n",
              "7824481  A2G81TMIOIDEQQ  BT008V9J9U     5.0  1312675200       1\n",
              "\n",
              "[7824482 rows x 5 columns]"
            ],
            "text/html": [
              "<div>\n",
              "<style scoped>\n",
              "    .dataframe tbody tr th:only-of-type {\n",
              "        vertical-align: middle;\n",
              "    }\n",
              "\n",
              "    .dataframe tbody tr th {\n",
              "        vertical-align: top;\n",
              "    }\n",
              "\n",
              "    .dataframe thead th {\n",
              "        text-align: right;\n",
              "    }\n",
              "</style>\n",
              "<table border=\"1\" class=\"dataframe\">\n",
              "  <thead>\n",
              "    <tr style=\"text-align: right;\">\n",
              "      <th></th>\n",
              "      <th>User_ID</th>\n",
              "      <th>Product_ID</th>\n",
              "      <th>Rating</th>\n",
              "      <th>Time_Stamp</th>\n",
              "      <th>Reward</th>\n",
              "    </tr>\n",
              "  </thead>\n",
              "  <tbody>\n",
              "    <tr>\n",
              "      <th>0</th>\n",
              "      <td>AKM1MP6P0OYPR</td>\n",
              "      <td>0132793040</td>\n",
              "      <td>5.0</td>\n",
              "      <td>1365811200</td>\n",
              "      <td>1</td>\n",
              "    </tr>\n",
              "    <tr>\n",
              "      <th>1</th>\n",
              "      <td>A2CX7LUOHB2NDG</td>\n",
              "      <td>0321732944</td>\n",
              "      <td>5.0</td>\n",
              "      <td>1341100800</td>\n",
              "      <td>1</td>\n",
              "    </tr>\n",
              "    <tr>\n",
              "      <th>2</th>\n",
              "      <td>A2NWSAGRHCP8N5</td>\n",
              "      <td>0439886341</td>\n",
              "      <td>1.0</td>\n",
              "      <td>1367193600</td>\n",
              "      <td>0</td>\n",
              "    </tr>\n",
              "    <tr>\n",
              "      <th>3</th>\n",
              "      <td>A2WNBOD3WNDNKT</td>\n",
              "      <td>0439886341</td>\n",
              "      <td>3.0</td>\n",
              "      <td>1374451200</td>\n",
              "      <td>0</td>\n",
              "    </tr>\n",
              "    <tr>\n",
              "      <th>4</th>\n",
              "      <td>A1GI0U4ZRJA8WN</td>\n",
              "      <td>0439886341</td>\n",
              "      <td>1.0</td>\n",
              "      <td>1334707200</td>\n",
              "      <td>0</td>\n",
              "    </tr>\n",
              "    <tr>\n",
              "      <th>...</th>\n",
              "      <td>...</td>\n",
              "      <td>...</td>\n",
              "      <td>...</td>\n",
              "      <td>...</td>\n",
              "      <td>...</td>\n",
              "    </tr>\n",
              "    <tr>\n",
              "      <th>7824477</th>\n",
              "      <td>A2YZI3C9MOHC0L</td>\n",
              "      <td>BT008UKTMW</td>\n",
              "      <td>5.0</td>\n",
              "      <td>1396569600</td>\n",
              "      <td>1</td>\n",
              "    </tr>\n",
              "    <tr>\n",
              "      <th>7824478</th>\n",
              "      <td>A322MDK0M89RHN</td>\n",
              "      <td>BT008UKTMW</td>\n",
              "      <td>5.0</td>\n",
              "      <td>1313366400</td>\n",
              "      <td>1</td>\n",
              "    </tr>\n",
              "    <tr>\n",
              "      <th>7824479</th>\n",
              "      <td>A1MH90R0ADMIK0</td>\n",
              "      <td>BT008UKTMW</td>\n",
              "      <td>4.0</td>\n",
              "      <td>1404172800</td>\n",
              "      <td>0</td>\n",
              "    </tr>\n",
              "    <tr>\n",
              "      <th>7824480</th>\n",
              "      <td>A10M2KEFPEQDHN</td>\n",
              "      <td>BT008UKTMW</td>\n",
              "      <td>4.0</td>\n",
              "      <td>1297555200</td>\n",
              "      <td>0</td>\n",
              "    </tr>\n",
              "    <tr>\n",
              "      <th>7824481</th>\n",
              "      <td>A2G81TMIOIDEQQ</td>\n",
              "      <td>BT008V9J9U</td>\n",
              "      <td>5.0</td>\n",
              "      <td>1312675200</td>\n",
              "      <td>1</td>\n",
              "    </tr>\n",
              "  </tbody>\n",
              "</table>\n",
              "<p>7824482 rows × 5 columns</p>\n",
              "</div>"
            ]
          },
          "metadata": {},
          "execution_count": 20
        }
      ]
    },
    {
      "cell_type": "code",
      "source": [
        "n_visits = 500"
      ],
      "metadata": {
        "id": "lL8uevEutdF7"
      },
      "execution_count": null,
      "outputs": []
    },
    {
      "cell_type": "code",
      "source": [
        "reward_history = df[:1000]"
      ],
      "metadata": {
        "id": "8NSn4W0ItuB6"
      },
      "execution_count": null,
      "outputs": []
    },
    {
      "cell_type": "code",
      "source": [
        "item_col_name     = 'Product_ID'\n",
        "visitor_col_name  = 'User_ID'\n",
        "reward_col_name   = 'Reward'"
      ],
      "metadata": {
        "id": "uoESkA87tdDy"
      },
      "execution_count": null,
      "outputs": []
    },
    {
      "cell_type": "markdown",
      "source": [
        "# Запуск UCB"
      ],
      "metadata": {
        "id": "HEIQJ3PoNTUT"
      }
    },
    {
      "cell_type": "markdown",
      "source": [
        "Обычно симуляцию проводит довольно долго. В районе 4 минут на Ryzen 5600."
      ],
      "metadata": {
        "id": "WFNACf1YDmAL"
      }
    },
    {
      "cell_type": "code",
      "source": [
        "%%time\n",
        "ucb = 2\n",
        "\n",
        "ucb_results = UCBSamplingReplayer(ucb, n_visits, reward_history,\n",
        "                                  item_col_name, visitor_col_name, \n",
        "                                  reward_col_name).simulate()\n",
        "\n",
        "ucb_results_df = pd.DataFrame(ucb_results)"
      ],
      "metadata": {
        "id": "i64LhdjstdBm",
        "colab": {
          "base_uri": "https://localhost:8080/"
        },
        "outputId": "e50d9b32-3952-4626-8e48-096ba9e9cb98"
      },
      "execution_count": null,
      "outputs": [
        {
          "output_type": "stream",
          "name": "stdout",
          "text": [
            "CPU times: total: 3min 47s\n",
            "Wall time: 3min 52s\n"
          ]
        }
      ]
    },
    {
      "cell_type": "code",
      "source": [
        "ucb_results_df"
      ],
      "metadata": {
        "colab": {
          "base_uri": "https://localhost:8080/",
          "height": 424
        },
        "id": "jYUnyKA7tc_Z",
        "outputId": "6596ecc3-4e42-4581-e669-1ab9b96c00d8"
      },
      "execution_count": null,
      "outputs": [
        {
          "output_type": "execute_result",
          "data": {
            "text/plain": [
              "     visit     item_id      visitor_id  reward  total_reward  \\\n",
              "0        0  0132793040   AKM1MP6P0OYPR       1             1   \n",
              "1        1  0321732944  A2CX7LUOHB2NDG       1             2   \n",
              "2        2  0439886341  A1GI0U4ZRJA8WN       0             2   \n",
              "3        3  0511189877  A3J3BRHTDRFJ2G       0             2   \n",
              "4        4  0528881469  A2XSWV6AQI90BR       0             2   \n",
              "..     ...         ...             ...     ...           ...   \n",
              "495    495  0594287995  A34TPQUVSQXXPX       1           324   \n",
              "496    496  0594450209  A244IAP7UBVHH6       1           325   \n",
              "497    497  0594450705  A3E7PG9CHDBICA       1           326   \n",
              "498    498  0594511488  A32JHAQPVSGHUD       1           327   \n",
              "499    499  0594514789   A1APJUGO70YI8       1           328   \n",
              "\n",
              "     fraction_relevant  \n",
              "0             1.000000  \n",
              "1             1.000000  \n",
              "2             0.666667  \n",
              "3             0.500000  \n",
              "4             0.400000  \n",
              "..                 ...  \n",
              "495           0.653226  \n",
              "496           0.653924  \n",
              "497           0.654618  \n",
              "498           0.655311  \n",
              "499           0.656000  \n",
              "\n",
              "[500 rows x 6 columns]"
            ],
            "text/html": [
              "<div>\n",
              "<style scoped>\n",
              "    .dataframe tbody tr th:only-of-type {\n",
              "        vertical-align: middle;\n",
              "    }\n",
              "\n",
              "    .dataframe tbody tr th {\n",
              "        vertical-align: top;\n",
              "    }\n",
              "\n",
              "    .dataframe thead th {\n",
              "        text-align: right;\n",
              "    }\n",
              "</style>\n",
              "<table border=\"1\" class=\"dataframe\">\n",
              "  <thead>\n",
              "    <tr style=\"text-align: right;\">\n",
              "      <th></th>\n",
              "      <th>visit</th>\n",
              "      <th>item_id</th>\n",
              "      <th>visitor_id</th>\n",
              "      <th>reward</th>\n",
              "      <th>total_reward</th>\n",
              "      <th>fraction_relevant</th>\n",
              "    </tr>\n",
              "  </thead>\n",
              "  <tbody>\n",
              "    <tr>\n",
              "      <th>0</th>\n",
              "      <td>0</td>\n",
              "      <td>0132793040</td>\n",
              "      <td>AKM1MP6P0OYPR</td>\n",
              "      <td>1</td>\n",
              "      <td>1</td>\n",
              "      <td>1.000000</td>\n",
              "    </tr>\n",
              "    <tr>\n",
              "      <th>1</th>\n",
              "      <td>1</td>\n",
              "      <td>0321732944</td>\n",
              "      <td>A2CX7LUOHB2NDG</td>\n",
              "      <td>1</td>\n",
              "      <td>2</td>\n",
              "      <td>1.000000</td>\n",
              "    </tr>\n",
              "    <tr>\n",
              "      <th>2</th>\n",
              "      <td>2</td>\n",
              "      <td>0439886341</td>\n",
              "      <td>A1GI0U4ZRJA8WN</td>\n",
              "      <td>0</td>\n",
              "      <td>2</td>\n",
              "      <td>0.666667</td>\n",
              "    </tr>\n",
              "    <tr>\n",
              "      <th>3</th>\n",
              "      <td>3</td>\n",
              "      <td>0511189877</td>\n",
              "      <td>A3J3BRHTDRFJ2G</td>\n",
              "      <td>0</td>\n",
              "      <td>2</td>\n",
              "      <td>0.500000</td>\n",
              "    </tr>\n",
              "    <tr>\n",
              "      <th>4</th>\n",
              "      <td>4</td>\n",
              "      <td>0528881469</td>\n",
              "      <td>A2XSWV6AQI90BR</td>\n",
              "      <td>0</td>\n",
              "      <td>2</td>\n",
              "      <td>0.400000</td>\n",
              "    </tr>\n",
              "    <tr>\n",
              "      <th>...</th>\n",
              "      <td>...</td>\n",
              "      <td>...</td>\n",
              "      <td>...</td>\n",
              "      <td>...</td>\n",
              "      <td>...</td>\n",
              "      <td>...</td>\n",
              "    </tr>\n",
              "    <tr>\n",
              "      <th>495</th>\n",
              "      <td>495</td>\n",
              "      <td>0594287995</td>\n",
              "      <td>A34TPQUVSQXXPX</td>\n",
              "      <td>1</td>\n",
              "      <td>324</td>\n",
              "      <td>0.653226</td>\n",
              "    </tr>\n",
              "    <tr>\n",
              "      <th>496</th>\n",
              "      <td>496</td>\n",
              "      <td>0594450209</td>\n",
              "      <td>A244IAP7UBVHH6</td>\n",
              "      <td>1</td>\n",
              "      <td>325</td>\n",
              "      <td>0.653924</td>\n",
              "    </tr>\n",
              "    <tr>\n",
              "      <th>497</th>\n",
              "      <td>497</td>\n",
              "      <td>0594450705</td>\n",
              "      <td>A3E7PG9CHDBICA</td>\n",
              "      <td>1</td>\n",
              "      <td>326</td>\n",
              "      <td>0.654618</td>\n",
              "    </tr>\n",
              "    <tr>\n",
              "      <th>498</th>\n",
              "      <td>498</td>\n",
              "      <td>0594511488</td>\n",
              "      <td>A32JHAQPVSGHUD</td>\n",
              "      <td>1</td>\n",
              "      <td>327</td>\n",
              "      <td>0.655311</td>\n",
              "    </tr>\n",
              "    <tr>\n",
              "      <th>499</th>\n",
              "      <td>499</td>\n",
              "      <td>0594514789</td>\n",
              "      <td>A1APJUGO70YI8</td>\n",
              "      <td>1</td>\n",
              "      <td>328</td>\n",
              "      <td>0.656000</td>\n",
              "    </tr>\n",
              "  </tbody>\n",
              "</table>\n",
              "<p>500 rows × 6 columns</p>\n",
              "</div>"
            ]
          },
          "metadata": {},
          "execution_count": 119
        }
      ]
    },
    {
      "cell_type": "code",
      "source": [
        "ucb_results_df['fraction_relevant'].plot(xlabel=\"Количество рекомендаций\",\n",
        "                                         ylabel=\"Процент релевантно выданных товаров\")\n",
        "None"
      ],
      "metadata": {
        "colab": {
          "base_uri": "https://localhost:8080/",
          "height": 449
        },
        "id": "g4RQFNVjtc9E",
        "outputId": "e87571c5-f33e-4077-bc2b-07fedbb433cd"
      },
      "execution_count": null,
      "outputs": [
        {
          "output_type": "display_data",
          "data": {
            "text/plain": [
              "<Figure size 640x480 with 1 Axes>"
            ],
            "image/png": "[encoded data removed]"
          },
          "metadata": {}
        }
      ]
    },
    {
      "cell_type": "markdown",
      "source": [
        "Итоговый процент релевантно выданных товаров:"
      ],
      "metadata": {
        "id": "8m3vlhilNF5U"
      }
    },
    {
      "cell_type": "code",
      "source": [
        "ucb_results_df['fraction_relevant'].values[-1]"
      ],
      "metadata": {
        "colab": {
          "base_uri": "https://localhost:8080/"
        },
        "id": "c1MAIXa8LfVJ",
        "outputId": "b355f85b-5cd4-4c61-b605-ffac372f4b75"
      },
      "execution_count": null,
      "outputs": [
        {
          "output_type": "execute_result",
          "data": {
            "text/plain": [
              "0.656"
            ]
          },
          "metadata": {},
          "execution_count": 121
        }
      ]
    },
    {
      "cell_type": "markdown",
      "source": [
        "# Запуск Epsilon-Greedy"
      ],
      "metadata": {
        "id": "rxZvNTifNW4n"
      }
    },
    {
      "cell_type": "markdown",
      "source": [
        "Обычно симуляцию проводит довольно долго. В районе 3 минут на Ryzen 5600."
      ],
      "metadata": {
        "id": "FxYYDaMDD1C-"
      }
    },
    {
      "cell_type": "code",
      "source": [
        "%%time\n",
        "epsilon = 0.05\n",
        "eg_results = EpsilonGreedyReplayer(epsilon, n_visits, reward_history,\n",
        "                                   item_col_name, visitor_col_name, \n",
        "                                   reward_col_name).simulate()\n",
        "\n",
        "eg_results_df = pd.DataFrame(eg_results)"
      ],
      "metadata": {
        "colab": {
          "base_uri": "https://localhost:8080/"
        },
        "id": "Bt1w_jprtc5W",
        "outputId": "f4dc0f95-7e58-48ed-a7e5-dffce7fb7f52"
      },
      "execution_count": null,
      "outputs": [
        {
          "output_type": "stream",
          "name": "stdout",
          "text": [
            "CPU times: total: 3min 2s\n",
            "Wall time: 3min 6s\n"
          ]
        }
      ]
    },
    {
      "cell_type": "code",
      "source": [
        "eg_results_df"
      ],
      "metadata": {
        "colab": {
          "base_uri": "https://localhost:8080/",
          "height": 424
        },
        "id": "E0b_rFuQy0tQ",
        "outputId": "95fba6d4-ff3f-42a1-8b6c-080768050fe6"
      },
      "execution_count": null,
      "outputs": [
        {
          "output_type": "execute_result",
          "data": {
            "text/plain": [
              "     visit     item_id      visitor_id  reward  total_reward  \\\n",
              "0        0  0132793040   AKM1MP6P0OYPR       1             1   \n",
              "1        1  0132793040   AKM1MP6P0OYPR       1             2   \n",
              "2        2  0972683275  A3LUBQ6HTHQC9C       0             2   \n",
              "3        3  0132793040   AKM1MP6P0OYPR       1             3   \n",
              "4        4  0972683275  A1Y7I43UEGKDN7       0             3   \n",
              "..     ...         ...             ...     ...           ...   \n",
              "495    495  0972683275  A1DPTFY0G6P7SY       0           392   \n",
              "496    496  0972683275  A2683OJ85CLWFA       1           393   \n",
              "497    497  0132793040   AKM1MP6P0OYPR       1           394   \n",
              "498    498  0972683275  A1BFGWPAR3XE0Y       1           395   \n",
              "499    499  0972683275  A3NTL6NCDLA064       1           396   \n",
              "\n",
              "     fraction_relevant  \n",
              "0             1.000000  \n",
              "1             1.000000  \n",
              "2             0.666667  \n",
              "3             0.750000  \n",
              "4             0.600000  \n",
              "..                 ...  \n",
              "495           0.790323  \n",
              "496           0.790744  \n",
              "497           0.791165  \n",
              "498           0.791583  \n",
              "499           0.792000  \n",
              "\n",
              "[500 rows x 6 columns]"
            ],
            "text/html": [
              "<div>\n",
              "<style scoped>\n",
              "    .dataframe tbody tr th:only-of-type {\n",
              "        vertical-align: middle;\n",
              "    }\n",
              "\n",
              "    .dataframe tbody tr th {\n",
              "        vertical-align: top;\n",
              "    }\n",
              "\n",
              "    .dataframe thead th {\n",
              "        text-align: right;\n",
              "    }\n",
              "</style>\n",
              "<table border=\"1\" class=\"dataframe\">\n",
              "  <thead>\n",
              "    <tr style=\"text-align: right;\">\n",
              "      <th></th>\n",
              "      <th>visit</th>\n",
              "      <th>item_id</th>\n",
              "      <th>visitor_id</th>\n",
              "      <th>reward</th>\n",
              "      <th>total_reward</th>\n",
              "      <th>fraction_relevant</th>\n",
              "    </tr>\n",
              "  </thead>\n",
              "  <tbody>\n",
              "    <tr>\n",
              "      <th>0</th>\n",
              "      <td>0</td>\n",
              "      <td>0132793040</td>\n",
              "      <td>AKM1MP6P0OYPR</td>\n",
              "      <td>1</td>\n",
              "      <td>1</td>\n",
              "      <td>1.000000</td>\n",
              "    </tr>\n",
              "    <tr>\n",
              "      <th>1</th>\n",
              "      <td>1</td>\n",
              "      <td>0132793040</td>\n",
              "      <td>AKM1MP6P0OYPR</td>\n",
              "      <td>1</td>\n",
              "      <td>2</td>\n",
              "      <td>1.000000</td>\n",
              "    </tr>\n",
              "    <tr>\n",
              "      <th>2</th>\n",
              "      <td>2</td>\n",
              "      <td>0972683275</td>\n",
              "      <td>A3LUBQ6HTHQC9C</td>\n",
              "      <td>0</td>\n",
              "      <td>2</td>\n",
              "      <td>0.666667</td>\n",
              "    </tr>\n",
              "    <tr>\n",
              "      <th>3</th>\n",
              "      <td>3</td>\n",
              "      <td>0132793040</td>\n",
              "      <td>AKM1MP6P0OYPR</td>\n",
              "      <td>1</td>\n",
              "      <td>3</td>\n",
              "      <td>0.750000</td>\n",
              "    </tr>\n",
              "    <tr>\n",
              "      <th>4</th>\n",
              "      <td>4</td>\n",
              "      <td>0972683275</td>\n",
              "      <td>A1Y7I43UEGKDN7</td>\n",
              "      <td>0</td>\n",
              "      <td>3</td>\n",
              "      <td>0.600000</td>\n",
              "    </tr>\n",
              "    <tr>\n",
              "      <th>...</th>\n",
              "      <td>...</td>\n",
              "      <td>...</td>\n",
              "      <td>...</td>\n",
              "      <td>...</td>\n",
              "      <td>...</td>\n",
              "      <td>...</td>\n",
              "    </tr>\n",
              "    <tr>\n",
              "      <th>495</th>\n",
              "      <td>495</td>\n",
              "      <td>0972683275</td>\n",
              "      <td>A1DPTFY0G6P7SY</td>\n",
              "      <td>0</td>\n",
              "      <td>392</td>\n",
              "      <td>0.790323</td>\n",
              "    </tr>\n",
              "    <tr>\n",
              "      <th>496</th>\n",
              "      <td>496</td>\n",
              "      <td>0972683275</td>\n",
              "      <td>A2683OJ85CLWFA</td>\n",
              "      <td>1</td>\n",
              "      <td>393</td>\n",
              "      <td>0.790744</td>\n",
              "    </tr>\n",
              "    <tr>\n",
              "      <th>497</th>\n",
              "      <td>497</td>\n",
              "      <td>0132793040</td>\n",
              "      <td>AKM1MP6P0OYPR</td>\n",
              "      <td>1</td>\n",
              "      <td>394</td>\n",
              "      <td>0.791165</td>\n",
              "    </tr>\n",
              "    <tr>\n",
              "      <th>498</th>\n",
              "      <td>498</td>\n",
              "      <td>0972683275</td>\n",
              "      <td>A1BFGWPAR3XE0Y</td>\n",
              "      <td>1</td>\n",
              "      <td>395</td>\n",
              "      <td>0.791583</td>\n",
              "    </tr>\n",
              "    <tr>\n",
              "      <th>499</th>\n",
              "      <td>499</td>\n",
              "      <td>0972683275</td>\n",
              "      <td>A3NTL6NCDLA064</td>\n",
              "      <td>1</td>\n",
              "      <td>396</td>\n",
              "      <td>0.792000</td>\n",
              "    </tr>\n",
              "  </tbody>\n",
              "</table>\n",
              "<p>500 rows × 6 columns</p>\n",
              "</div>"
            ]
          },
          "metadata": {},
          "execution_count": 123
        }
      ]
    },
    {
      "cell_type": "code",
      "source": [
        "eg_results_df['fraction_relevant'].plot(xlabel=\"Количество рекомендаций\",\n",
        "                                        ylabel=\"Процент релевантно выданных товаров\")\n",
        "None"
      ],
      "metadata": {
        "colab": {
          "base_uri": "https://localhost:8080/",
          "height": 449
        },
        "id": "jMa3Tf-zy35T",
        "outputId": "c6ff8c67-63a7-4985-ff2b-a1c55e943ab0"
      },
      "execution_count": null,
      "outputs": [
        {
          "output_type": "display_data",
          "data": {
            "text/plain": [
              "<Figure size 640x480 with 1 Axes>"
            ],
            "image/png": "[encoded data removed]"
          },
          "metadata": {}
        }
      ]
    },
    {
      "cell_type": "markdown",
      "source": [
        "Итоговый процент релевантно выданных товаров:"
      ],
      "metadata": {
        "id": "sMCBT7APMEub"
      }
    },
    {
      "cell_type": "code",
      "source": [
        "eg_results_df['fraction_relevant'].values[-1]"
      ],
      "metadata": {
        "colab": {
          "base_uri": "https://localhost:8080/"
        },
        "id": "RrXQaFj5NgbF",
        "outputId": "640b3fde-27c7-4a12-8baf-da7fafc3fd88"
      },
      "execution_count": null,
      "outputs": [
        {
          "output_type": "execute_result",
          "data": {
            "text/plain": [
              "0.792"
            ]
          },
          "metadata": {},
          "execution_count": 125
        }
      ]
    },
    {
      "cell_type": "markdown",
      "source": [
        "# Запуск Exploration First"
      ],
      "metadata": {
        "id": "8nePp2qAOmh0"
      }
    },
    {
      "cell_type": "markdown",
      "source": [
        "Обычно симуляцию проводит довольно долго. В районе 7 минут на Ryzen 5600."
      ],
      "metadata": {
        "id": "zfpQlhFAaNGL"
      }
    },
    {
      "cell_type": "code",
      "source": [
        "%%time\n",
        "rounds = 5\n",
        "ef_results = ExploreFirstReplayer(rounds, n_visits, reward_history,\n",
        "                                   item_col_name, visitor_col_name, \n",
        "                                   reward_col_name).simulate()\n",
        "\n",
        "ef_results_df = pd.DataFrame(ef_results)"
      ],
      "metadata": {
        "id": "nShHH0skOpTI",
        "colab": {
          "base_uri": "https://localhost:8080/",
          "height": 1000
        },
        "outputId": "d671ffe4-b5ed-419f-eeab-13b456c6c454"
      },
      "execution_count": null,
      "outputs": [
        {
          "output_type": "error",
          "ename": "KeyboardInterrupt",
          "evalue": "ignored",
          "traceback": [
            "\u001b[1;31m---------------------------------------------------------------------------\u001b[0m",
            "\u001b[1;31mKeyboardInterrupt\u001b[0m                         Traceback (most recent call last)",
            "File \u001b[1;32m<timed exec>:4\u001b[0m\n",
            "Cell \u001b[1;32mIn [26], line 47\u001b[0m, in \u001b[0;36mExploreFirstReplayer.simulate\u001b[1;34m(self)\u001b[0m\n\u001b[0;32m     45\u001b[0m found_match \u001b[38;5;241m=\u001b[39m \u001b[38;5;28;01mFalse\u001b[39;00m\n\u001b[0;32m     46\u001b[0m \u001b[38;5;28;01mwhile\u001b[39;00m \u001b[38;5;129;01mnot\u001b[39;00m found_match:\n\u001b[1;32m---> 47\u001b[0m     reward \u001b[38;5;241m=\u001b[39m \u001b[38;5;28;43mself\u001b[39;49m\u001b[38;5;241;43m.\u001b[39;49m\u001b[43mreward_history\u001b[49m\u001b[38;5;241;43m.\u001b[39;49m\u001b[43mquery\u001b[49m\u001b[43m(\u001b[49m\n\u001b[0;32m     48\u001b[0m \u001b[43m        \u001b[49m\u001b[38;5;124;43m'\u001b[39;49m\u001b[38;5;132;43;01m{}\u001b[39;49;00m\u001b[38;5;124;43m == @item_id and \u001b[39;49m\u001b[38;5;132;43;01m{}\u001b[39;49;00m\u001b[38;5;124;43m == @visitor_id\u001b[39;49m\u001b[38;5;124;43m'\u001b[39;49m\u001b[38;5;241;43m.\u001b[39;49m\u001b[43mformat\u001b[49m\u001b[43m(\u001b[49m\u001b[38;5;28;43mself\u001b[39;49m\u001b[38;5;241;43m.\u001b[39;49m\u001b[43mitem_col_name\u001b[49m\u001b[43m,\u001b[49m\u001b[43m \u001b[49m\u001b[38;5;28;43mself\u001b[39;49m\u001b[38;5;241;43m.\u001b[39;49m\u001b[43mvisitor_col_name\u001b[49m\u001b[43m)\u001b[49m\u001b[43m)\u001b[49m[\u001b[38;5;28mself\u001b[39m\u001b[38;5;241m.\u001b[39mreward_col_name]\n\u001b[0;32m     50\u001b[0m     found_match \u001b[38;5;241m=\u001b[39m reward\u001b[38;5;241m.\u001b[39mshape[\u001b[38;5;241m0\u001b[39m] \u001b[38;5;241m>\u001b[39m \u001b[38;5;241m0\u001b[39m\n\u001b[0;32m     52\u001b[0m reward_value \u001b[38;5;241m=\u001b[39m reward\u001b[38;5;241m.\u001b[39miloc[\u001b[38;5;241m0\u001b[39m]\n",
            "File \u001b[1;32mX:\\Programs\\Python\\lib\\site-packages\\pandas\\util\\_decorators.py:331\u001b[0m, in \u001b[0;36mdeprecate_nonkeyword_arguments.<locals>.decorate.<locals>.wrapper\u001b[1;34m(*args, **kwargs)\u001b[0m\n\u001b[0;32m    325\u001b[0m \u001b[38;5;28;01mif\u001b[39;00m \u001b[38;5;28mlen\u001b[39m(args) \u001b[38;5;241m>\u001b[39m num_allow_args:\n\u001b[0;32m    326\u001b[0m     warnings\u001b[38;5;241m.\u001b[39mwarn(\n\u001b[0;32m    327\u001b[0m         msg\u001b[38;5;241m.\u001b[39mformat(arguments\u001b[38;5;241m=\u001b[39m_format_argument_list(allow_args)),\n\u001b[0;32m    328\u001b[0m         \u001b[38;5;167;01mFutureWarning\u001b[39;00m,\n\u001b[0;32m    329\u001b[0m         stacklevel\u001b[38;5;241m=\u001b[39mfind_stack_level(),\n\u001b[0;32m    330\u001b[0m     )\n\u001b[1;32m--> 331\u001b[0m \u001b[38;5;28;01mreturn\u001b[39;00m func(\u001b[38;5;241m*\u001b[39margs, \u001b[38;5;241m*\u001b[39m\u001b[38;5;241m*\u001b[39mkwargs)\n",
            "File \u001b[1;32mX:\\Programs\\Python\\lib\\site-packages\\pandas\\core\\frame.py:4463\u001b[0m, in \u001b[0;36mDataFrame.query\u001b[1;34m(self, expr, inplace, **kwargs)\u001b[0m\n\u001b[0;32m   4461\u001b[0m kwargs[\u001b[38;5;124m\"\u001b[39m\u001b[38;5;124mlevel\u001b[39m\u001b[38;5;124m\"\u001b[39m] \u001b[38;5;241m=\u001b[39m kwargs\u001b[38;5;241m.\u001b[39mpop(\u001b[38;5;124m\"\u001b[39m\u001b[38;5;124mlevel\u001b[39m\u001b[38;5;124m\"\u001b[39m, \u001b[38;5;241m0\u001b[39m) \u001b[38;5;241m+\u001b[39m \u001b[38;5;241m2\u001b[39m\n\u001b[0;32m   4462\u001b[0m kwargs[\u001b[38;5;124m\"\u001b[39m\u001b[38;5;124mtarget\u001b[39m\u001b[38;5;124m\"\u001b[39m] \u001b[38;5;241m=\u001b[39m \u001b[38;5;28;01mNone\u001b[39;00m\n\u001b[1;32m-> 4463\u001b[0m res \u001b[38;5;241m=\u001b[39m \u001b[38;5;28mself\u001b[39m\u001b[38;5;241m.\u001b[39meval(expr, \u001b[38;5;241m*\u001b[39m\u001b[38;5;241m*\u001b[39mkwargs)\n\u001b[0;32m   4465\u001b[0m \u001b[38;5;28;01mtry\u001b[39;00m:\n\u001b[0;32m   4466\u001b[0m     result \u001b[38;5;241m=\u001b[39m \u001b[38;5;28mself\u001b[39m\u001b[38;5;241m.\u001b[39mloc[res]\n",
            "File \u001b[1;32mX:\\Programs\\Python\\lib\\site-packages\\pandas\\util\\_decorators.py:331\u001b[0m, in \u001b[0;36mdeprecate_nonkeyword_arguments.<locals>.decorate.<locals>.wrapper\u001b[1;34m(*args, **kwargs)\u001b[0m\n\u001b[0;32m    325\u001b[0m \u001b[38;5;28;01mif\u001b[39;00m \u001b[38;5;28mlen\u001b[39m(args) \u001b[38;5;241m>\u001b[39m num_allow_args:\n\u001b[0;32m    326\u001b[0m     warnings\u001b[38;5;241m.\u001b[39mwarn(\n\u001b[0;32m    327\u001b[0m         msg\u001b[38;5;241m.\u001b[39mformat(arguments\u001b[38;5;241m=\u001b[39m_format_argument_list(allow_args)),\n\u001b[0;32m    328\u001b[0m         \u001b[38;5;167;01mFutureWarning\u001b[39;00m,\n\u001b[0;32m    329\u001b[0m         stacklevel\u001b[38;5;241m=\u001b[39mfind_stack_level(),\n\u001b[0;32m    330\u001b[0m     )\n\u001b[1;32m--> 331\u001b[0m \u001b[38;5;28;01mreturn\u001b[39;00m func(\u001b[38;5;241m*\u001b[39margs, \u001b[38;5;241m*\u001b[39m\u001b[38;5;241m*\u001b[39mkwargs)\n",
            "File \u001b[1;32mX:\\Programs\\Python\\lib\\site-packages\\pandas\\core\\frame.py:4601\u001b[0m, in \u001b[0;36mDataFrame.eval\u001b[1;34m(self, expr, inplace, **kwargs)\u001b[0m\n\u001b[0;32m   4598\u001b[0m     kwargs[\u001b[38;5;124m\"\u001b[39m\u001b[38;5;124mtarget\u001b[39m\u001b[38;5;124m\"\u001b[39m] \u001b[38;5;241m=\u001b[39m \u001b[38;5;28mself\u001b[39m\n\u001b[0;32m   4599\u001b[0m kwargs[\u001b[38;5;124m\"\u001b[39m\u001b[38;5;124mresolvers\u001b[39m\u001b[38;5;124m\"\u001b[39m] \u001b[38;5;241m=\u001b[39m \u001b[38;5;28mtuple\u001b[39m(kwargs\u001b[38;5;241m.\u001b[39mget(\u001b[38;5;124m\"\u001b[39m\u001b[38;5;124mresolvers\u001b[39m\u001b[38;5;124m\"\u001b[39m, ())) \u001b[38;5;241m+\u001b[39m resolvers\n\u001b[1;32m-> 4601\u001b[0m \u001b[38;5;28;01mreturn\u001b[39;00m _eval(expr, inplace\u001b[38;5;241m=\u001b[39minplace, \u001b[38;5;241m*\u001b[39m\u001b[38;5;241m*\u001b[39mkwargs)\n",
            "File \u001b[1;32mX:\\Programs\\Python\\lib\\site-packages\\pandas\\core\\computation\\eval.py:358\u001b[0m, in \u001b[0;36meval\u001b[1;34m(expr, parser, engine, truediv, local_dict, global_dict, resolvers, level, target, inplace)\u001b[0m\n\u001b[0;32m    356\u001b[0m eng \u001b[38;5;241m=\u001b[39m ENGINES[engine]\n\u001b[0;32m    357\u001b[0m eng_inst \u001b[38;5;241m=\u001b[39m eng(parsed_expr)\n\u001b[1;32m--> 358\u001b[0m ret \u001b[38;5;241m=\u001b[39m \u001b[43meng_inst\u001b[49m\u001b[38;5;241;43m.\u001b[39;49m\u001b[43mevaluate\u001b[49m\u001b[43m(\u001b[49m\u001b[43m)\u001b[49m\n\u001b[0;32m    360\u001b[0m \u001b[38;5;28;01mif\u001b[39;00m parsed_expr\u001b[38;5;241m.\u001b[39massigner \u001b[38;5;129;01mis\u001b[39;00m \u001b[38;5;28;01mNone\u001b[39;00m:\n\u001b[0;32m    361\u001b[0m     \u001b[38;5;28;01mif\u001b[39;00m multi_line:\n",
            "File \u001b[1;32mX:\\Programs\\Python\\lib\\site-packages\\pandas\\core\\computation\\engines.py:135\u001b[0m, in \u001b[0;36mPythonEngine.evaluate\u001b[1;34m(self)\u001b[0m\n\u001b[0;32m    134\u001b[0m \u001b[38;5;28;01mdef\u001b[39;00m \u001b[38;5;21mevaluate\u001b[39m(\u001b[38;5;28mself\u001b[39m):\n\u001b[1;32m--> 135\u001b[0m     \u001b[38;5;28;01mreturn\u001b[39;00m \u001b[38;5;28;43mself\u001b[39;49m\u001b[38;5;241;43m.\u001b[39;49m\u001b[43mexpr\u001b[49m\u001b[43m(\u001b[49m\u001b[43m)\u001b[49m\n",
            "File \u001b[1;32mX:\\Programs\\Python\\lib\\site-packages\\pandas\\core\\computation\\expr.py:820\u001b[0m, in \u001b[0;36mExpr.__call__\u001b[1;34m(self)\u001b[0m\n\u001b[0;32m    819\u001b[0m \u001b[38;5;28;01mdef\u001b[39;00m \u001b[38;5;21m__call__\u001b[39m(\u001b[38;5;28mself\u001b[39m):\n\u001b[1;32m--> 820\u001b[0m     \u001b[38;5;28;01mreturn\u001b[39;00m \u001b[38;5;28;43mself\u001b[39;49m\u001b[38;5;241;43m.\u001b[39;49m\u001b[43mterms\u001b[49m\u001b[43m(\u001b[49m\u001b[38;5;28;43mself\u001b[39;49m\u001b[38;5;241;43m.\u001b[39;49m\u001b[43menv\u001b[49m\u001b[43m)\u001b[49m\n",
            "File \u001b[1;32mX:\\Programs\\Python\\lib\\site-packages\\pandas\\core\\computation\\ops.py:407\u001b[0m, in \u001b[0;36mBinOp.__call__\u001b[1;34m(self, env)\u001b[0m\n\u001b[0;32m    404\u001b[0m left \u001b[38;5;241m=\u001b[39m \u001b[38;5;28mself\u001b[39m\u001b[38;5;241m.\u001b[39mlhs(env)\n\u001b[0;32m    405\u001b[0m right \u001b[38;5;241m=\u001b[39m \u001b[38;5;28mself\u001b[39m\u001b[38;5;241m.\u001b[39mrhs(env)\n\u001b[1;32m--> 407\u001b[0m \u001b[38;5;28;01mreturn\u001b[39;00m \u001b[38;5;28;43mself\u001b[39;49m\u001b[38;5;241;43m.\u001b[39;49m\u001b[43mfunc\u001b[49m\u001b[43m(\u001b[49m\u001b[43mleft\u001b[49m\u001b[43m,\u001b[49m\u001b[43m \u001b[49m\u001b[43mright\u001b[49m\u001b[43m)\u001b[49m\n",
            "File \u001b[1;32mX:\\Programs\\Python\\lib\\site-packages\\pandas\\core\\ops\\common.py:72\u001b[0m, in \u001b[0;36m_unpack_zerodim_and_defer.<locals>.new_method\u001b[1;34m(self, other)\u001b[0m\n\u001b[0;32m     68\u001b[0m             \u001b[38;5;28;01mreturn\u001b[39;00m \u001b[38;5;28mNotImplemented\u001b[39m\n\u001b[0;32m     70\u001b[0m other \u001b[38;5;241m=\u001b[39m item_from_zerodim(other)\n\u001b[1;32m---> 72\u001b[0m \u001b[38;5;28;01mreturn\u001b[39;00m \u001b[43mmethod\u001b[49m\u001b[43m(\u001b[49m\u001b[38;5;28;43mself\u001b[39;49m\u001b[43m,\u001b[49m\u001b[43m \u001b[49m\u001b[43mother\u001b[49m\u001b[43m)\u001b[49m\n",
            "File \u001b[1;32mX:\\Programs\\Python\\lib\\site-packages\\pandas\\core\\arraylike.py:72\u001b[0m, in \u001b[0;36mOpsMixin.__and__\u001b[1;34m(self, other)\u001b[0m\n\u001b[0;32m     70\u001b[0m \u001b[38;5;129m@unpack_zerodim_and_defer\u001b[39m(\u001b[38;5;124m\"\u001b[39m\u001b[38;5;124m__and__\u001b[39m\u001b[38;5;124m\"\u001b[39m)\n\u001b[0;32m     71\u001b[0m \u001b[38;5;28;01mdef\u001b[39;00m \u001b[38;5;21m__and__\u001b[39m(\u001b[38;5;28mself\u001b[39m, other):\n\u001b[1;32m---> 72\u001b[0m     \u001b[38;5;28;01mreturn\u001b[39;00m \u001b[38;5;28;43mself\u001b[39;49m\u001b[38;5;241;43m.\u001b[39;49m\u001b[43m_logical_method\u001b[49m\u001b[43m(\u001b[49m\u001b[43mother\u001b[49m\u001b[43m,\u001b[49m\u001b[43m \u001b[49m\u001b[43moperator\u001b[49m\u001b[38;5;241;43m.\u001b[39;49m\u001b[43mand_\u001b[49m\u001b[43m)\u001b[49m\n",
            "File \u001b[1;32mX:\\Programs\\Python\\lib\\site-packages\\pandas\\core\\series.py:6254\u001b[0m, in \u001b[0;36mSeries._logical_method\u001b[1;34m(self, other, op)\u001b[0m\n\u001b[0;32m   6251\u001b[0m lvalues \u001b[38;5;241m=\u001b[39m \u001b[38;5;28mself\u001b[39m\u001b[38;5;241m.\u001b[39m_values\n\u001b[0;32m   6252\u001b[0m rvalues \u001b[38;5;241m=\u001b[39m extract_array(other, extract_numpy\u001b[38;5;241m=\u001b[39m\u001b[38;5;28;01mTrue\u001b[39;00m, extract_range\u001b[38;5;241m=\u001b[39m\u001b[38;5;28;01mTrue\u001b[39;00m)\n\u001b[1;32m-> 6254\u001b[0m res_values \u001b[38;5;241m=\u001b[39m \u001b[43mops\u001b[49m\u001b[38;5;241;43m.\u001b[39;49m\u001b[43mlogical_op\u001b[49m\u001b[43m(\u001b[49m\u001b[43mlvalues\u001b[49m\u001b[43m,\u001b[49m\u001b[43m \u001b[49m\u001b[43mrvalues\u001b[49m\u001b[43m,\u001b[49m\u001b[43m \u001b[49m\u001b[43mop\u001b[49m\u001b[43m)\u001b[49m\n\u001b[0;32m   6255\u001b[0m \u001b[38;5;28;01mreturn\u001b[39;00m \u001b[38;5;28mself\u001b[39m\u001b[38;5;241m.\u001b[39m_construct_result(res_values, name\u001b[38;5;241m=\u001b[39mres_name)\n",
            "File \u001b[1;32mX:\\Programs\\Python\\lib\\site-packages\\pandas\\core\\ops\\array_ops.py:395\u001b[0m, in \u001b[0;36mlogical_op\u001b[1;34m(left, right, op)\u001b[0m\n\u001b[0;32m    391\u001b[0m \u001b[38;5;66;03m# For int vs int `^`, `|`, `&` are bitwise operators and return\u001b[39;00m\n\u001b[0;32m    392\u001b[0m \u001b[38;5;66;03m#   integer dtypes.  Otherwise these are boolean ops\u001b[39;00m\n\u001b[0;32m    393\u001b[0m filler \u001b[38;5;241m=\u001b[39m fill_int \u001b[38;5;28;01mif\u001b[39;00m is_self_int_dtype \u001b[38;5;129;01mand\u001b[39;00m is_other_int_dtype \u001b[38;5;28;01melse\u001b[39;00m fill_bool\n\u001b[1;32m--> 395\u001b[0m res_values \u001b[38;5;241m=\u001b[39m \u001b[43mna_logical_op\u001b[49m\u001b[43m(\u001b[49m\u001b[43mlvalues\u001b[49m\u001b[43m,\u001b[49m\u001b[43m \u001b[49m\u001b[43mrvalues\u001b[49m\u001b[43m,\u001b[49m\u001b[43m \u001b[49m\u001b[43mop\u001b[49m\u001b[43m)\u001b[49m\n\u001b[0;32m    396\u001b[0m \u001b[38;5;66;03m# error: Cannot call function of unknown type\u001b[39;00m\n\u001b[0;32m    397\u001b[0m res_values \u001b[38;5;241m=\u001b[39m filler(res_values)  \u001b[38;5;66;03m# type: ignore[operator]\u001b[39;00m\n",
            "File \u001b[1;32mX:\\Programs\\Python\\lib\\site-packages\\pandas\\core\\ops\\array_ops.py:305\u001b[0m, in \u001b[0;36mna_logical_op\u001b[1;34m(x, y, op)\u001b[0m\n\u001b[0;32m    295\u001b[0m \u001b[38;5;28;01mdef\u001b[39;00m \u001b[38;5;21mna_logical_op\u001b[39m(x: np\u001b[38;5;241m.\u001b[39mndarray, y, op):\n\u001b[0;32m    296\u001b[0m     \u001b[38;5;28;01mtry\u001b[39;00m:\n\u001b[0;32m    297\u001b[0m         \u001b[38;5;66;03m# For exposition, write:\u001b[39;00m\n\u001b[0;32m    298\u001b[0m         \u001b[38;5;66;03m#  yarr = isinstance(y, np.ndarray)\u001b[39;00m\n\u001b[1;32m   (...)\u001b[0m\n\u001b[0;32m    303\u001b[0m         \u001b[38;5;66;03m# Then Cases where this goes through without raising include:\u001b[39;00m\n\u001b[0;32m    304\u001b[0m         \u001b[38;5;66;03m#  (xint or xbool) and (yint or bool)\u001b[39;00m\n\u001b[1;32m--> 305\u001b[0m         result \u001b[38;5;241m=\u001b[39m \u001b[43mop\u001b[49m\u001b[43m(\u001b[49m\u001b[43mx\u001b[49m\u001b[43m,\u001b[49m\u001b[43m \u001b[49m\u001b[43my\u001b[49m\u001b[43m)\u001b[49m\n\u001b[0;32m    306\u001b[0m     \u001b[38;5;28;01mexcept\u001b[39;00m \u001b[38;5;167;01mTypeError\u001b[39;00m:\n\u001b[0;32m    307\u001b[0m         \u001b[38;5;28;01mif\u001b[39;00m \u001b[38;5;28misinstance\u001b[39m(y, np\u001b[38;5;241m.\u001b[39mndarray):\n\u001b[0;32m    308\u001b[0m             \u001b[38;5;66;03m# bool-bool dtype operations should be OK, should not get here\u001b[39;00m\n",
            "\u001b[1;31mKeyboardInterrupt\u001b[0m: "
          ]
        }
      ]
    },
    {
      "cell_type": "code",
      "source": [
        "ef_results_df"
      ],
      "metadata": {
        "colab": {
          "base_uri": "https://localhost:8080/",
          "height": 165
        },
        "id": "KpkfPVJ4Z8Jc",
        "outputId": "7bb6ac85-e437-459a-94a2-8165c0ff2e06"
      },
      "execution_count": null,
      "outputs": [
        {
          "output_type": "error",
          "ename": "NameError",
          "evalue": "ignored",
          "traceback": [
            "\u001b[1;31m---------------------------------------------------------------------------\u001b[0m",
            "\u001b[1;31mNameError\u001b[0m                                 Traceback (most recent call last)",
            "Cell \u001b[1;32mIn [28], line 1\u001b[0m\n\u001b[1;32m----> 1\u001b[0m \u001b[43mef_results_df\u001b[49m\n",
            "\u001b[1;31mNameError\u001b[0m: name 'ef_results_df' is not defined"
          ]
        }
      ]
    },
    {
      "cell_type": "code",
      "source": [
        "ef_results_df['fraction_relevant'].plot(xlabel=\"Количество рекомендаций\",\n",
        "                                        ylabel=\"Процент релевантно выданных товаров\")\n",
        "None"
      ],
      "metadata": {
        "id": "N6SsdupZaEad"
      },
      "execution_count": null,
      "outputs": []
    },
    {
      "cell_type": "markdown",
      "source": [
        "Итоговый процент релевантно выданных товаров:"
      ],
      "metadata": {
        "id": "dmD60DuqaVCA"
      }
    },
    {
      "cell_type": "code",
      "source": [
        "ef_results_df['fraction_relevant'].values[-1]"
      ],
      "metadata": {
        "id": "t9vANUBsaR1M"
      },
      "execution_count": null,
      "outputs": []
    }
  ]
}